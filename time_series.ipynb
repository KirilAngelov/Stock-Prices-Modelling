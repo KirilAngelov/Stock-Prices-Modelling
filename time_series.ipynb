{
 "cells": [
  {
   "cell_type": "code",
   "execution_count": 1,
   "id": "a7e95dec-48e2-402c-a46f-7e48cf464787",
   "metadata": {
    "execution": {
     "iopub.execute_input": "2023-10-06T19:28:54.720842Z",
     "iopub.status.busy": "2023-10-06T19:28:54.718847Z",
     "iopub.status.idle": "2023-10-06T19:28:56.173032Z",
     "shell.execute_reply": "2023-10-06T19:28:56.172000Z",
     "shell.execute_reply.started": "2023-10-06T19:28:54.720081Z"
    },
    "tags": []
   },
   "outputs": [],
   "source": [
    "import numpy as np\n",
    "import pandas as pd\n",
    "import pytz\n",
    "from datetime import datetime, timedelta\n",
    "from pandas.tseries.offsets import Hour, Minute, Second\n",
    "from pandas.tseries.offsets import Day, MonthEnd"
   ]
  },
  {
   "cell_type": "markdown",
   "id": "d3b32b96-6d7e-4291-b41a-dad794bed8f8",
   "metadata": {},
   "source": [
    "### Basic date manipulations in Python\n",
    "\n",
    "Python supports a datetime module which has several functionalitites:\n",
    "1. Datetime objects representing a specific date in time with years, months and days\n",
    "2. Addition and substraction of datetime objects\n",
    "3. Format datetime objects based on different format specification\n",
    "\n",
    "Pandas supports handling of null value timestampts with its NaT which stands for Not a Time."
   ]
  },
  {
   "cell_type": "code",
   "execution_count": 2,
   "id": "512188ca-e3e8-4cc9-a45f-685275f231cf",
   "metadata": {
    "execution": {
     "iopub.execute_input": "2023-10-06T19:28:56.176316Z",
     "iopub.status.busy": "2023-10-06T19:28:56.175930Z",
     "iopub.status.idle": "2023-10-06T19:28:56.205483Z",
     "shell.execute_reply": "2023-10-06T19:28:56.202859Z",
     "shell.execute_reply.started": "2023-10-06T19:28:56.176316Z"
    },
    "tags": []
   },
   "outputs": [
    {
     "data": {
      "text/plain": [
       "datetime.datetime(2023, 10, 6, 22, 28, 56, 178894)"
      ]
     },
     "execution_count": 2,
     "metadata": {},
     "output_type": "execute_result"
    }
   ],
   "source": [
    "current_date = datetime.now()\n",
    "current_date"
   ]
  },
  {
   "cell_type": "code",
   "execution_count": 3,
   "id": "5ce89368-7f7f-4b59-add9-9a0737c094eb",
   "metadata": {
    "execution": {
     "iopub.execute_input": "2023-10-06T19:28:56.207012Z",
     "iopub.status.busy": "2023-10-06T19:28:56.207012Z",
     "iopub.status.idle": "2023-10-06T19:28:56.347180Z",
     "shell.execute_reply": "2023-10-06T19:28:56.343226Z",
     "shell.execute_reply.started": "2023-10-06T19:28:56.207012Z"
    },
    "tags": []
   },
   "outputs": [
    {
     "data": {
      "text/plain": [
       "(2023, 10, 6)"
      ]
     },
     "execution_count": 3,
     "metadata": {},
     "output_type": "execute_result"
    }
   ],
   "source": [
    "current_date.year, current_date.month, current_date.day"
   ]
  },
  {
   "cell_type": "code",
   "execution_count": 4,
   "id": "0bd31945-8a4c-4b6b-8500-2bf43097bcda",
   "metadata": {
    "execution": {
     "iopub.execute_input": "2023-10-06T19:28:56.353183Z",
     "iopub.status.busy": "2023-10-06T19:28:56.351193Z",
     "iopub.status.idle": "2023-10-06T19:28:56.398179Z",
     "shell.execute_reply": "2023-10-06T19:28:56.391196Z",
     "shell.execute_reply.started": "2023-10-06T19:28:56.353183Z"
    },
    "tags": []
   },
   "outputs": [
    {
     "data": {
      "text/plain": [
       "datetime.timedelta(days=5575, seconds=56700)"
      ]
     },
     "execution_count": 4,
     "metadata": {},
     "output_type": "execute_result"
    }
   ],
   "source": [
    "delta = datetime(2019, 1, 7) - datetime(2003, 10, 2, 8, 15)\n",
    "delta"
   ]
  },
  {
   "cell_type": "code",
   "execution_count": 5,
   "id": "c1f65b83-6f1c-48ac-a6b5-70c775698b66",
   "metadata": {
    "execution": {
     "iopub.execute_input": "2023-10-06T19:28:56.401171Z",
     "iopub.status.busy": "2023-10-06T19:28:56.400174Z",
     "iopub.status.idle": "2023-10-06T19:28:56.440181Z",
     "shell.execute_reply": "2023-10-06T19:28:56.438314Z",
     "shell.execute_reply.started": "2023-10-06T19:28:56.401171Z"
    },
    "tags": []
   },
   "outputs": [
    {
     "data": {
      "text/plain": [
       "datetime.timedelta(days=5585, seconds=56700)"
      ]
     },
     "execution_count": 5,
     "metadata": {},
     "output_type": "execute_result"
    }
   ],
   "source": [
    "delta = delta + timedelta(10)\n",
    "delta"
   ]
  },
  {
   "cell_type": "code",
   "execution_count": 6,
   "id": "a9a03a15-8ad1-42c8-aa60-ecd6f2fef703",
   "metadata": {
    "execution": {
     "iopub.execute_input": "2023-10-06T19:28:56.445304Z",
     "iopub.status.busy": "2023-10-06T19:28:56.444176Z",
     "iopub.status.idle": "2023-10-06T19:28:56.471250Z",
     "shell.execute_reply": "2023-10-06T19:28:56.469169Z",
     "shell.execute_reply.started": "2023-10-06T19:28:56.445304Z"
    },
    "tags": []
   },
   "outputs": [
    {
     "name": "stdout",
     "output_type": "stream",
     "text": [
      "2011-01-03 00:00:00\n"
     ]
    }
   ],
   "source": [
    "stamp = datetime(2011,1,3)\n",
    "print(str(stamp))"
   ]
  },
  {
   "cell_type": "code",
   "execution_count": 7,
   "id": "beaf174c-b1f9-4d5b-92bb-2f4a7b3acd65",
   "metadata": {
    "execution": {
     "iopub.execute_input": "2023-10-06T19:28:56.474468Z",
     "iopub.status.busy": "2023-10-06T19:28:56.474192Z",
     "iopub.status.idle": "2023-10-06T19:28:56.502171Z",
     "shell.execute_reply": "2023-10-06T19:28:56.500210Z",
     "shell.execute_reply.started": "2023-10-06T19:28:56.474468Z"
    },
    "tags": []
   },
   "outputs": [
    {
     "data": {
      "text/plain": [
       "'01/03/11'"
      ]
     },
     "execution_count": 7,
     "metadata": {},
     "output_type": "execute_result"
    }
   ],
   "source": [
    "stamp = stamp.strftime(\"%D\")\n",
    "stamp"
   ]
  },
  {
   "cell_type": "code",
   "execution_count": 8,
   "id": "e5a378eb-a89f-458c-b27e-d5142fd69b8b",
   "metadata": {
    "execution": {
     "iopub.execute_input": "2023-10-06T19:28:56.506216Z",
     "iopub.status.busy": "2023-10-06T19:28:56.505227Z",
     "iopub.status.idle": "2023-10-06T19:28:56.532175Z",
     "shell.execute_reply": "2023-10-06T19:28:56.530168Z",
     "shell.execute_reply.started": "2023-10-06T19:28:56.506216Z"
    },
    "tags": []
   },
   "outputs": [
    {
     "data": {
      "text/plain": [
       "datetime.datetime(2011, 1, 3, 0, 0)"
      ]
     },
     "execution_count": 8,
     "metadata": {},
     "output_type": "execute_result"
    }
   ],
   "source": [
    "value = \"2011-01-03\"\n",
    "datetime.strptime(value, \"%Y-%m-%d\")"
   ]
  },
  {
   "cell_type": "code",
   "execution_count": 9,
   "id": "56342b9c-0536-4dce-ab9f-eb4fc0993df3",
   "metadata": {
    "execution": {
     "iopub.execute_input": "2023-10-06T19:28:56.535171Z",
     "iopub.status.busy": "2023-10-06T19:28:56.534175Z",
     "iopub.status.idle": "2023-10-06T19:28:56.564180Z",
     "shell.execute_reply": "2023-10-06T19:28:56.562175Z",
     "shell.execute_reply.started": "2023-10-06T19:28:56.535171Z"
    },
    "tags": []
   },
   "outputs": [
    {
     "data": {
      "text/plain": [
       "DatetimeIndex(['2015-03-18', '1996-07-03', 'NaT'], dtype='datetime64[ns]', freq=None)"
      ]
     },
     "execution_count": 9,
     "metadata": {},
     "output_type": "execute_result"
    }
   ],
   "source": [
    "dates_arr = [\"2015-03-18\", \"1996-07-03\", None]\n",
    "datetime_index = pd.to_datetime(dates_arr)\n",
    "datetime_index"
   ]
  },
  {
   "cell_type": "markdown",
   "id": "0771156f-d085-47e3-8fa5-35b74dce22fd",
   "metadata": {},
   "source": [
    "### Time Series in Pandas\n",
    "\n",
    "Times series are essentially an a Pandas series with its index set to the timestamps. \n",
    "\n",
    "Timestamps show the specific value of something in that time. For now we will just fill the values with random ones"
   ]
  },
  {
   "cell_type": "code",
   "execution_count": 10,
   "id": "cd1a4f70-4e1f-40bd-8462-2e414b32c027",
   "metadata": {
    "execution": {
     "iopub.execute_input": "2023-10-06T19:28:56.568173Z",
     "iopub.status.busy": "2023-10-06T19:28:56.567173Z",
     "iopub.status.idle": "2023-10-06T19:28:56.594169Z",
     "shell.execute_reply": "2023-10-06T19:28:56.593264Z",
     "shell.execute_reply.started": "2023-10-06T19:28:56.568173Z"
    },
    "tags": []
   },
   "outputs": [
    {
     "data": {
      "text/plain": [
       "2011-01-02   -1.107224\n",
       "2011-01-05   -0.944254\n",
       "2011-01-07   -1.755014\n",
       "2011-01-08   -0.342030\n",
       "2011-01-10   -1.300317\n",
       "2011-01-12    0.074881\n",
       "dtype: float64"
      ]
     },
     "execution_count": 10,
     "metadata": {},
     "output_type": "execute_result"
    }
   ],
   "source": [
    "dates = [datetime(2011, 1, 2), datetime(2011, 1, 5),\n",
    "         datetime(2011, 1, 7), datetime(2011, 1, 8),\n",
    "         datetime(2011, 1, 10), datetime(2011, 1, 12)]\n",
    "ts = pd.Series(np.random.standard_normal(6), index = dates)\n",
    "ts"
   ]
  },
  {
   "cell_type": "code",
   "execution_count": 11,
   "id": "ceade226-2edb-4f66-8905-9bba2ec52a23",
   "metadata": {
    "execution": {
     "iopub.execute_input": "2023-10-06T19:28:56.598262Z",
     "iopub.status.busy": "2023-10-06T19:28:56.597170Z",
     "iopub.status.idle": "2023-10-06T19:28:56.625298Z",
     "shell.execute_reply": "2023-10-06T19:28:56.624224Z",
     "shell.execute_reply.started": "2023-10-06T19:28:56.598262Z"
    },
    "tags": []
   },
   "outputs": [
    {
     "data": {
      "text/plain": [
       "DatetimeIndex(['2011-01-02', '2011-01-05', '2011-01-07', '2011-01-08',\n",
       "               '2011-01-10', '2011-01-12'],\n",
       "              dtype='datetime64[ns]', freq=None)"
      ]
     },
     "execution_count": 11,
     "metadata": {},
     "output_type": "execute_result"
    }
   ],
   "source": [
    "ts.index"
   ]
  },
  {
   "cell_type": "markdown",
   "id": "cdb7ff4f-31d8-49e7-a116-630e42a5e111",
   "metadata": {},
   "source": [
    "The same things for regular Pandas series apply here, operations are broadcast and we can also select a value by using the date as an index in our timeseries."
   ]
  },
  {
   "cell_type": "code",
   "execution_count": 12,
   "id": "527a5b01-0a06-43b9-a769-253b0c7a14b2",
   "metadata": {
    "execution": {
     "iopub.execute_input": "2023-10-06T19:28:56.627171Z",
     "iopub.status.busy": "2023-10-06T19:28:56.627171Z",
     "iopub.status.idle": "2023-10-06T19:28:56.655218Z",
     "shell.execute_reply": "2023-10-06T19:28:56.654210Z",
     "shell.execute_reply.started": "2023-10-06T19:28:56.627171Z"
    },
    "tags": []
   },
   "outputs": [
    {
     "data": {
      "text/plain": [
       "2011-01-02   -2.214448\n",
       "2011-01-05   -1.888508\n",
       "2011-01-07   -3.510028\n",
       "2011-01-08   -0.684059\n",
       "2011-01-10   -2.600635\n",
       "2011-01-12    0.149761\n",
       "dtype: float64"
      ]
     },
     "execution_count": 12,
     "metadata": {},
     "output_type": "execute_result"
    }
   ],
   "source": [
    "ts = ts*2\n",
    "ts"
   ]
  },
  {
   "cell_type": "code",
   "execution_count": 13,
   "id": "ae43b52c-855d-477b-b803-350830706042",
   "metadata": {
    "execution": {
     "iopub.execute_input": "2023-10-06T19:28:56.657266Z",
     "iopub.status.busy": "2023-10-06T19:28:56.656174Z",
     "iopub.status.idle": "2023-10-06T19:28:56.686168Z",
     "shell.execute_reply": "2023-10-06T19:28:56.685452Z",
     "shell.execute_reply.started": "2023-10-06T19:28:56.657266Z"
    },
    "tags": []
   },
   "outputs": [
    {
     "data": {
      "text/plain": [
       "0.1497611738133539"
      ]
     },
     "execution_count": 13,
     "metadata": {},
     "output_type": "execute_result"
    }
   ],
   "source": [
    "ts[\"2011-01-12\"]"
   ]
  },
  {
   "cell_type": "markdown",
   "id": "6e004ce1-1a89-463c-a973-cdfaceb1cda7",
   "metadata": {},
   "source": [
    "Something more interesting is when we are manipulating a big timeseries. We will use ```pd.date_range``` for the creation of our timeseries. Let's demonstrate selecting months and slicing."
   ]
  },
  {
   "cell_type": "code",
   "execution_count": 14,
   "id": "5accb7d6-9594-4d50-b480-bba0625a12de",
   "metadata": {
    "execution": {
     "iopub.execute_input": "2023-10-06T19:28:56.689170Z",
     "iopub.status.busy": "2023-10-06T19:28:56.688172Z",
     "iopub.status.idle": "2023-10-06T19:28:56.701171Z",
     "shell.execute_reply": "2023-10-06T19:28:56.700168Z",
     "shell.execute_reply.started": "2023-10-06T19:28:56.689170Z"
    },
    "tags": []
   },
   "outputs": [],
   "source": [
    "longer_ts = pd.Series(np.random.standard_normal(1000),index = pd.date_range(\"2000-01-01\", periods = 1000))\n"
   ]
  },
  {
   "cell_type": "code",
   "execution_count": 15,
   "id": "70cc1726-8c17-4791-8e1a-7673345ba32b",
   "metadata": {
    "execution": {
     "iopub.execute_input": "2023-10-06T19:28:56.717172Z",
     "iopub.status.busy": "2023-10-06T19:28:56.716131Z",
     "iopub.status.idle": "2023-10-06T19:28:56.752173Z",
     "shell.execute_reply": "2023-10-06T19:28:56.747173Z",
     "shell.execute_reply.started": "2023-10-06T19:28:56.716169Z"
    },
    "tags": []
   },
   "outputs": [
    {
     "data": {
      "text/plain": [
       "2001-03-04   -0.420855\n",
       "2001-03-05   -0.142497\n",
       "2001-03-06   -1.892911\n",
       "2001-03-07    0.142767\n",
       "2001-03-08    2.164249\n",
       "                ...   \n",
       "2002-02-28   -0.413566\n",
       "2002-03-01   -1.544279\n",
       "2002-03-02    0.072988\n",
       "2002-03-03   -0.381892\n",
       "2002-03-04   -1.558274\n",
       "Freq: D, Length: 366, dtype: float64"
      ]
     },
     "execution_count": 15,
     "metadata": {},
     "output_type": "execute_result"
    }
   ],
   "source": [
    "longer_ts[\"2001-03-04\" : \"2002-03-04\"]"
   ]
  },
  {
   "cell_type": "code",
   "execution_count": 16,
   "id": "58596b6d-9945-4ef7-a06c-c367fcf766e5",
   "metadata": {
    "execution": {
     "iopub.execute_input": "2023-10-06T19:28:56.756378Z",
     "iopub.status.busy": "2023-10-06T19:28:56.755187Z",
     "iopub.status.idle": "2023-10-06T19:28:56.780170Z",
     "shell.execute_reply": "2023-10-06T19:28:56.778170Z",
     "shell.execute_reply.started": "2023-10-06T19:28:56.756378Z"
    }
   },
   "outputs": [
    {
     "data": {
      "text/plain": [
       "2000-03-04    0.362740\n",
       "2000-03-05    0.165629\n",
       "2000-03-06    0.207052\n",
       "2000-03-07   -0.599364\n",
       "2000-03-08    0.139507\n",
       "                ...   \n",
       "2001-12-28   -0.534381\n",
       "2001-12-29    0.063169\n",
       "2001-12-30    0.223423\n",
       "2001-12-31   -0.198698\n",
       "2002-01-01   -1.497574\n",
       "Freq: D, Length: 669, dtype: float64"
      ]
     },
     "execution_count": 16,
     "metadata": {},
     "output_type": "execute_result"
    }
   ],
   "source": [
    "longer_ts[datetime(2000,3,4): datetime(2002,1,1)]"
   ]
  },
  {
   "cell_type": "markdown",
   "id": "85c59fb0-6139-434e-b1b1-f40a7032f4d6",
   "metadata": {},
   "source": [
    "We can also slice with timestamps that are not present in our timeseries."
   ]
  },
  {
   "cell_type": "code",
   "execution_count": 17,
   "id": "0429cced-6ff8-4df7-aa38-f0bd83579f13",
   "metadata": {
    "execution": {
     "iopub.execute_input": "2023-10-06T19:28:56.783178Z",
     "iopub.status.busy": "2023-10-06T19:28:56.782171Z",
     "iopub.status.idle": "2023-10-06T19:28:56.811915Z",
     "shell.execute_reply": "2023-10-06T19:28:56.809923Z",
     "shell.execute_reply.started": "2023-10-06T19:28:56.783178Z"
    }
   },
   "outputs": [
    {
     "data": {
      "text/plain": [
       "2011-01-02   -2.214448\n",
       "2011-01-05   -1.888508\n",
       "2011-01-07   -3.510028\n",
       "2011-01-08   -0.684059\n",
       "2011-01-10   -2.600635\n",
       "2011-01-12    0.149761\n",
       "dtype: float64"
      ]
     },
     "execution_count": 17,
     "metadata": {},
     "output_type": "execute_result"
    }
   ],
   "source": [
    "ts"
   ]
  },
  {
   "cell_type": "code",
   "execution_count": 18,
   "id": "3fa88aab-29f3-46bb-891c-9ddb9337fb44",
   "metadata": {
    "execution": {
     "iopub.execute_input": "2023-10-06T19:28:56.815931Z",
     "iopub.status.busy": "2023-10-06T19:28:56.814919Z",
     "iopub.status.idle": "2023-10-06T19:28:56.843919Z",
     "shell.execute_reply": "2023-10-06T19:28:56.841921Z",
     "shell.execute_reply.started": "2023-10-06T19:28:56.815931Z"
    }
   },
   "outputs": [
    {
     "data": {
      "text/plain": [
       "2011-01-07   -3.510028\n",
       "2011-01-08   -0.684059\n",
       "2011-01-10   -2.600635\n",
       "dtype: float64"
      ]
     },
     "execution_count": 18,
     "metadata": {},
     "output_type": "execute_result"
    }
   ],
   "source": [
    "ts[\"2011-01-06\":\"2011-01-11\"]"
   ]
  },
  {
   "cell_type": "code",
   "execution_count": 19,
   "id": "302626ed-b0e4-4e0d-8378-1ae08896594b",
   "metadata": {
    "execution": {
     "iopub.execute_input": "2023-10-06T19:28:56.849315Z",
     "iopub.status.busy": "2023-10-06T19:28:56.846919Z",
     "iopub.status.idle": "2023-10-06T19:28:56.875919Z",
     "shell.execute_reply": "2023-10-06T19:28:56.873916Z",
     "shell.execute_reply.started": "2023-10-06T19:28:56.848926Z"
    },
    "tags": []
   },
   "outputs": [
    {
     "data": {
      "text/plain": [
       "2011-01-02   -2.214448\n",
       "dtype: float64"
      ]
     },
     "execution_count": 19,
     "metadata": {},
     "output_type": "execute_result"
    }
   ],
   "source": [
    "ts.truncate(after = \"2011-01-04\") #truncate based on the date provided, here we select everything after the provided date"
   ]
  },
  {
   "cell_type": "code",
   "execution_count": 20,
   "id": "f54a87b3-c42c-4b8f-b273-62242a67b4f3",
   "metadata": {
    "execution": {
     "iopub.execute_input": "2023-10-06T19:28:56.878116Z",
     "iopub.status.busy": "2023-10-06T19:28:56.877920Z",
     "iopub.status.idle": "2023-10-06T19:28:56.939923Z",
     "shell.execute_reply": "2023-10-06T19:28:56.936934Z",
     "shell.execute_reply.started": "2023-10-06T19:28:56.878116Z"
    },
    "tags": []
   },
   "outputs": [
    {
     "data": {
      "text/html": [
       "<div>\n",
       "<style scoped>\n",
       "    .dataframe tbody tr th:only-of-type {\n",
       "        vertical-align: middle;\n",
       "    }\n",
       "\n",
       "    .dataframe tbody tr th {\n",
       "        vertical-align: top;\n",
       "    }\n",
       "\n",
       "    .dataframe thead th {\n",
       "        text-align: right;\n",
       "    }\n",
       "</style>\n",
       "<table border=\"1\" class=\"dataframe\">\n",
       "  <thead>\n",
       "    <tr style=\"text-align: right;\">\n",
       "      <th></th>\n",
       "      <th>Tokyo</th>\n",
       "      <th>Montreal</th>\n",
       "      <th>Madrid</th>\n",
       "      <th>London</th>\n",
       "    </tr>\n",
       "  </thead>\n",
       "  <tbody>\n",
       "    <tr>\n",
       "      <th>2000-01-05</th>\n",
       "      <td>0.988876</td>\n",
       "      <td>-0.466676</td>\n",
       "      <td>1.361497</td>\n",
       "      <td>1.403123</td>\n",
       "    </tr>\n",
       "    <tr>\n",
       "      <th>2000-01-12</th>\n",
       "      <td>1.322552</td>\n",
       "      <td>0.771559</td>\n",
       "      <td>-0.885974</td>\n",
       "      <td>-1.514634</td>\n",
       "    </tr>\n",
       "    <tr>\n",
       "      <th>2000-01-19</th>\n",
       "      <td>-0.636866</td>\n",
       "      <td>-1.555296</td>\n",
       "      <td>0.901979</td>\n",
       "      <td>-1.281472</td>\n",
       "    </tr>\n",
       "    <tr>\n",
       "      <th>2000-01-26</th>\n",
       "      <td>-1.036680</td>\n",
       "      <td>-0.447214</td>\n",
       "      <td>0.061538</td>\n",
       "      <td>-0.689968</td>\n",
       "    </tr>\n",
       "    <tr>\n",
       "      <th>2000-02-02</th>\n",
       "      <td>-0.776900</td>\n",
       "      <td>-0.365856</td>\n",
       "      <td>0.898216</td>\n",
       "      <td>-0.809633</td>\n",
       "    </tr>\n",
       "    <tr>\n",
       "      <th>...</th>\n",
       "      <td>...</td>\n",
       "      <td>...</td>\n",
       "      <td>...</td>\n",
       "      <td>...</td>\n",
       "    </tr>\n",
       "    <tr>\n",
       "      <th>2001-10-31</th>\n",
       "      <td>-1.469272</td>\n",
       "      <td>0.774804</td>\n",
       "      <td>-0.473844</td>\n",
       "      <td>0.995257</td>\n",
       "    </tr>\n",
       "    <tr>\n",
       "      <th>2001-11-07</th>\n",
       "      <td>-0.821695</td>\n",
       "      <td>0.223125</td>\n",
       "      <td>0.487051</td>\n",
       "      <td>2.230770</td>\n",
       "    </tr>\n",
       "    <tr>\n",
       "      <th>2001-11-14</th>\n",
       "      <td>1.111050</td>\n",
       "      <td>1.423851</td>\n",
       "      <td>1.114752</td>\n",
       "      <td>0.631592</td>\n",
       "    </tr>\n",
       "    <tr>\n",
       "      <th>2001-11-21</th>\n",
       "      <td>-0.852355</td>\n",
       "      <td>0.365543</td>\n",
       "      <td>-1.923623</td>\n",
       "      <td>-0.960653</td>\n",
       "    </tr>\n",
       "    <tr>\n",
       "      <th>2001-11-28</th>\n",
       "      <td>-1.498540</td>\n",
       "      <td>0.695622</td>\n",
       "      <td>-0.305248</td>\n",
       "      <td>1.217776</td>\n",
       "    </tr>\n",
       "  </tbody>\n",
       "</table>\n",
       "<p>100 rows × 4 columns</p>\n",
       "</div>"
      ],
      "text/plain": [
       "               Tokyo  Montreal    Madrid    London\n",
       "2000-01-05  0.988876 -0.466676  1.361497  1.403123\n",
       "2000-01-12  1.322552  0.771559 -0.885974 -1.514634\n",
       "2000-01-19 -0.636866 -1.555296  0.901979 -1.281472\n",
       "2000-01-26 -1.036680 -0.447214  0.061538 -0.689968\n",
       "2000-02-02 -0.776900 -0.365856  0.898216 -0.809633\n",
       "...              ...       ...       ...       ...\n",
       "2001-10-31 -1.469272  0.774804 -0.473844  0.995257\n",
       "2001-11-07 -0.821695  0.223125  0.487051  2.230770\n",
       "2001-11-14  1.111050  1.423851  1.114752  0.631592\n",
       "2001-11-21 -0.852355  0.365543 -1.923623 -0.960653\n",
       "2001-11-28 -1.498540  0.695622 -0.305248  1.217776\n",
       "\n",
       "[100 rows x 4 columns]"
      ]
     },
     "execution_count": 20,
     "metadata": {},
     "output_type": "execute_result"
    }
   ],
   "source": [
    "dates = pd.date_range(\"2000-01-01\", periods = 100, freq = \"W-WED\")\n",
    "df_towns = pd.DataFrame(np.random.standard_normal((100,4)), index = dates, columns = [\"Tokyo\", \"Montreal\", \"Madrid\", \"London\"])\n",
    "df_towns"
   ]
  },
  {
   "cell_type": "code",
   "execution_count": 21,
   "id": "751339b6-b211-4e06-aa16-9f2b6f432c59",
   "metadata": {
    "execution": {
     "iopub.execute_input": "2023-10-06T19:28:56.943914Z",
     "iopub.status.busy": "2023-10-06T19:28:56.942918Z",
     "iopub.status.idle": "2023-10-06T19:28:56.968914Z",
     "shell.execute_reply": "2023-10-06T19:28:56.967914Z",
     "shell.execute_reply.started": "2023-10-06T19:28:56.943914Z"
    },
    "tags": []
   },
   "outputs": [
    {
     "data": {
      "text/plain": [
       "Tokyo      -1.469272\n",
       "Montreal    0.774804\n",
       "Madrid     -0.473844\n",
       "London      0.995257\n",
       "Name: 2001-10-31 00:00:00, dtype: float64"
      ]
     },
     "execution_count": 21,
     "metadata": {},
     "output_type": "execute_result"
    }
   ],
   "source": [
    "df_towns.loc[\"2001-10-31\"]"
   ]
  },
  {
   "cell_type": "markdown",
   "id": "eaefa38e-3921-45ef-8b3d-82905be7d1a0",
   "metadata": {},
   "source": [
    "### Working with duplicates"
   ]
  },
  {
   "cell_type": "code",
   "execution_count": 22,
   "id": "c9553ed9-ecca-4c66-889b-88bbc15a5055",
   "metadata": {
    "execution": {
     "iopub.execute_input": "2023-10-06T19:28:56.971956Z",
     "iopub.status.busy": "2023-10-06T19:28:56.970914Z",
     "iopub.status.idle": "2023-10-06T19:28:56.983913Z",
     "shell.execute_reply": "2023-10-06T19:28:56.983015Z",
     "shell.execute_reply.started": "2023-10-06T19:28:56.971956Z"
    }
   },
   "outputs": [
    {
     "data": {
      "text/plain": [
       "2000-01-01    1\n",
       "2000-01-02    2\n",
       "2000-01-02    3\n",
       "2000-01-02    3\n",
       "2000-01-03    4\n",
       "dtype: int64"
      ]
     },
     "execution_count": 22,
     "metadata": {},
     "output_type": "execute_result"
    }
   ],
   "source": [
    "dates = pd.DatetimeIndex([\"2000-01-01\", \"2000-01-02\", \"2000-01-02\",\"2000-01-02\", \"2000-01-03\"])\n",
    "duplicates = pd.Series(data = [1,2,3,3,4], index = dates)\n",
    "duplicates"
   ]
  },
  {
   "cell_type": "code",
   "execution_count": 23,
   "id": "f035a3bd-4dfd-4fee-a78d-155ceb03e86d",
   "metadata": {
    "execution": {
     "iopub.execute_input": "2023-10-06T19:28:56.985913Z",
     "iopub.status.busy": "2023-10-06T19:28:56.985913Z",
     "iopub.status.idle": "2023-10-06T19:28:57.031923Z",
     "shell.execute_reply": "2023-10-06T19:28:57.030920Z",
     "shell.execute_reply.started": "2023-10-06T19:28:56.985913Z"
    }
   },
   "outputs": [
    {
     "data": {
      "text/plain": [
       "2000-01-02    2\n",
       "2000-01-02    3\n",
       "2000-01-02    3\n",
       "dtype: int64"
      ]
     },
     "execution_count": 23,
     "metadata": {},
     "output_type": "execute_result"
    }
   ],
   "source": [
    "duplicates[\"2000-01-02\"]"
   ]
  },
  {
   "cell_type": "code",
   "execution_count": 24,
   "id": "884a29df-e000-4b08-b016-c8f9b00dcdca",
   "metadata": {
    "execution": {
     "iopub.execute_input": "2023-10-06T19:28:57.034221Z",
     "iopub.status.busy": "2023-10-06T19:28:57.034221Z",
     "iopub.status.idle": "2023-10-06T19:28:57.095925Z",
     "shell.execute_reply": "2023-10-06T19:28:57.093022Z",
     "shell.execute_reply.started": "2023-10-06T19:28:57.034221Z"
    }
   },
   "outputs": [
    {
     "data": {
      "text/plain": [
       "2000-01-01    1.000000\n",
       "2000-01-02    2.666667\n",
       "2000-01-03    4.000000\n",
       "dtype: float64"
      ]
     },
     "execution_count": 24,
     "metadata": {},
     "output_type": "execute_result"
    }
   ],
   "source": [
    "duplicates.groupby(level = 0).mean()"
   ]
  },
  {
   "cell_type": "markdown",
   "id": "9b47e39a-8a99-49d6-93c7-669d6a58d334",
   "metadata": {},
   "source": [
    "### Working with frequencies\n",
    "When working with time series, we have many options for frequencies. For example once a week, every hour or different frequencies. Pandas has a ```resample``` method for this purpose."
   ]
  },
  {
   "cell_type": "code",
   "execution_count": 25,
   "id": "fd434a95-70ee-4588-ab48-6fcf5fb322f5",
   "metadata": {
    "execution": {
     "iopub.execute_input": "2023-10-06T19:28:57.099922Z",
     "iopub.status.busy": "2023-10-06T19:28:57.099095Z",
     "iopub.status.idle": "2023-10-06T19:28:57.127280Z",
     "shell.execute_reply": "2023-10-06T19:28:57.124320Z",
     "shell.execute_reply.started": "2023-10-06T19:28:57.099922Z"
    }
   },
   "outputs": [
    {
     "data": {
      "text/plain": [
       "2011-01-02   -2.214448\n",
       "2011-01-05   -1.888508\n",
       "2011-01-07   -3.510028\n",
       "2011-01-08   -0.684059\n",
       "2011-01-10   -2.600635\n",
       "2011-01-12    0.149761\n",
       "dtype: float64"
      ]
     },
     "execution_count": 25,
     "metadata": {},
     "output_type": "execute_result"
    }
   ],
   "source": [
    "ts"
   ]
  },
  {
   "cell_type": "code",
   "execution_count": 26,
   "id": "1f7fee8d-531c-4f2c-bcf8-e9c2a5789563",
   "metadata": {
    "execution": {
     "iopub.execute_input": "2023-10-06T19:28:57.130273Z",
     "iopub.status.busy": "2023-10-06T19:28:57.129636Z",
     "iopub.status.idle": "2023-10-06T19:28:57.203386Z",
     "shell.execute_reply": "2023-10-06T19:28:57.202324Z",
     "shell.execute_reply.started": "2023-10-06T19:28:57.130273Z"
    }
   },
   "outputs": [
    {
     "data": {
      "text/plain": [
       "<pandas.core.resample.DatetimeIndexResampler object at 0x0000027819A294F0>"
      ]
     },
     "execution_count": 26,
     "metadata": {},
     "output_type": "execute_result"
    }
   ],
   "source": [
    "ts = ts.resample(\"D\") #parameter indicates how to resample\n",
    "ts"
   ]
  },
  {
   "cell_type": "markdown",
   "id": "8b680434-241b-4c87-8f6a-67554b693ab0",
   "metadata": {},
   "source": [
    "```pd.date_range``` can be used to generate large sequences of data starting or ending on a particular date. Also these periods can be a specific number of days or other."
   ]
  },
  {
   "cell_type": "code",
   "execution_count": 27,
   "id": "8b6f6fdf-7eb2-43ba-a83c-44339059dae0",
   "metadata": {
    "execution": {
     "iopub.execute_input": "2023-10-06T19:28:57.206756Z",
     "iopub.status.busy": "2023-10-06T19:28:57.206273Z",
     "iopub.status.idle": "2023-10-06T19:28:57.233963Z",
     "shell.execute_reply": "2023-10-06T19:28:57.232314Z",
     "shell.execute_reply.started": "2023-10-06T19:28:57.206756Z"
    },
    "tags": []
   },
   "outputs": [
    {
     "data": {
      "text/plain": [
       "DatetimeIndex(['2016-12-12', '2016-12-13', '2016-12-14', '2016-12-15',\n",
       "               '2016-12-16', '2016-12-17', '2016-12-18', '2016-12-19',\n",
       "               '2016-12-20', '2016-12-21',\n",
       "               ...\n",
       "               '2017-12-03', '2017-12-04', '2017-12-05', '2017-12-06',\n",
       "               '2017-12-07', '2017-12-08', '2017-12-09', '2017-12-10',\n",
       "               '2017-12-11', '2017-12-12'],\n",
       "              dtype='datetime64[ns]', length=366, freq='D')"
      ]
     },
     "execution_count": 27,
     "metadata": {},
     "output_type": "execute_result"
    }
   ],
   "source": [
    "dates = pd.date_range(\"2016-12-12\", \"2017-12-12\")\n",
    "dates"
   ]
  },
  {
   "cell_type": "code",
   "execution_count": 28,
   "id": "50b60198-dd9a-4251-9ede-7e8c67c3a312",
   "metadata": {
    "execution": {
     "iopub.execute_input": "2023-10-06T19:28:57.236285Z",
     "iopub.status.busy": "2023-10-06T19:28:57.236285Z",
     "iopub.status.idle": "2023-10-06T19:28:57.266400Z",
     "shell.execute_reply": "2023-10-06T19:28:57.264656Z",
     "shell.execute_reply.started": "2023-10-06T19:28:57.236285Z"
    },
    "tags": []
   },
   "outputs": [
    {
     "data": {
      "text/plain": [
       "DatetimeIndex(['2017-01-31', '2017-04-30', '2017-07-31', '2017-10-31'], dtype='datetime64[ns]', freq='Q-JAN')"
      ]
     },
     "execution_count": 28,
     "metadata": {},
     "output_type": "execute_result"
    }
   ],
   "source": [
    "date_quarterly = pd.date_range(\"2016-12-01\", \"2017-12-12\", freq = \"Q-JAN\")\n",
    "date_quarterly"
   ]
  },
  {
   "cell_type": "code",
   "execution_count": 29,
   "id": "2a4eecc6-d5fa-4cf3-beb4-3c00b21f5a8d",
   "metadata": {
    "execution": {
     "iopub.execute_input": "2023-10-06T19:28:57.273417Z",
     "iopub.status.busy": "2023-10-06T19:28:57.272395Z",
     "iopub.status.idle": "2023-10-06T19:28:57.295400Z",
     "shell.execute_reply": "2023-10-06T19:28:57.294542Z",
     "shell.execute_reply.started": "2023-10-06T19:28:57.273417Z"
    },
    "tags": []
   },
   "outputs": [
    {
     "data": {
      "text/plain": [
       "DatetimeIndex(['2018-01-03', '2018-01-04', '2018-01-05', '2018-01-06',\n",
       "               '2018-01-07', '2018-01-08', '2018-01-09', '2018-01-10',\n",
       "               '2018-01-11', '2018-01-12', '2018-01-13', '2018-01-14',\n",
       "               '2018-01-15', '2018-01-16', '2018-01-17', '2018-01-18',\n",
       "               '2018-01-19', '2018-01-20', '2018-01-21', '2018-01-22'],\n",
       "              dtype='datetime64[ns]', freq='D')"
      ]
     },
     "execution_count": 29,
     "metadata": {},
     "output_type": "execute_result"
    }
   ],
   "source": [
    "date_20days = pd.date_range(\"2018-01-03 08:46:21\", periods = 20, normalize = True)\n",
    "date_20days"
   ]
  },
  {
   "cell_type": "code",
   "execution_count": 30,
   "id": "3fd88490-06b5-4971-b09e-ad50a78719ff",
   "metadata": {
    "execution": {
     "iopub.execute_input": "2023-10-06T19:28:57.299696Z",
     "iopub.status.busy": "2023-10-06T19:28:57.298403Z",
     "iopub.status.idle": "2023-10-06T19:28:57.331661Z",
     "shell.execute_reply": "2023-10-06T19:28:57.326432Z",
     "shell.execute_reply.started": "2023-10-06T19:28:57.299696Z"
    },
    "tags": []
   },
   "outputs": [
    {
     "data": {
      "text/plain": [
       "DatetimeIndex(['2023-01-01 00:00:00', '2023-01-01 00:00:15',\n",
       "               '2023-01-01 00:00:30', '2023-01-01 00:00:45',\n",
       "               '2023-01-01 00:01:00', '2023-01-01 00:01:15',\n",
       "               '2023-01-01 00:01:30', '2023-01-01 00:01:45',\n",
       "               '2023-01-01 00:02:00', '2023-01-01 00:02:15',\n",
       "               ...\n",
       "               '2023-01-01 23:56:45', '2023-01-01 23:57:00',\n",
       "               '2023-01-01 23:57:15', '2023-01-01 23:57:30',\n",
       "               '2023-01-01 23:57:45', '2023-01-01 23:58:00',\n",
       "               '2023-01-01 23:58:15', '2023-01-01 23:58:30',\n",
       "               '2023-01-01 23:58:45', '2023-01-01 23:59:00'],\n",
       "              dtype='datetime64[ns]', length=5757, freq='15S')"
      ]
     },
     "execution_count": 30,
     "metadata": {},
     "output_type": "execute_result"
    }
   ],
   "source": [
    "hour = Hour()\n",
    "minute = Minute()\n",
    "second = Second()\n",
    "fifteen_seconds = Second(15)\n",
    "high_freq = pd.date_range(\"2023-01-01\", \"2023-01-01 23:59\",freq = fifteen_seconds)\n",
    "high_freq"
   ]
  },
  {
   "cell_type": "code",
   "execution_count": 31,
   "id": "c220c66a-9b72-414e-94e8-6474237901ca",
   "metadata": {
    "execution": {
     "iopub.execute_input": "2023-10-06T19:28:57.334401Z",
     "iopub.status.busy": "2023-10-06T19:28:57.333393Z",
     "iopub.status.idle": "2023-10-06T19:28:57.358398Z",
     "shell.execute_reply": "2023-10-06T19:28:57.356402Z",
     "shell.execute_reply.started": "2023-10-06T19:28:57.334401Z"
    },
    "tags": []
   },
   "outputs": [
    {
     "name": "stdout",
     "output_type": "stream",
     "text": [
      "Shifting provides us with a way to move data backwards or forwards in time.\n"
     ]
    }
   ],
   "source": [
    "print(\"Shifting provides us with a way to move data backwards or forwards in time.\")"
   ]
  },
  {
   "cell_type": "code",
   "execution_count": 32,
   "id": "af31e262-26d2-4243-8731-ce9c8b9ec90d",
   "metadata": {
    "execution": {
     "iopub.execute_input": "2023-10-06T19:28:57.363394Z",
     "iopub.status.busy": "2023-10-06T19:28:57.361605Z",
     "iopub.status.idle": "2023-10-06T19:28:57.389431Z",
     "shell.execute_reply": "2023-10-06T19:28:57.387395Z",
     "shell.execute_reply.started": "2023-10-06T19:28:57.363394Z"
    },
    "tags": []
   },
   "outputs": [
    {
     "data": {
      "text/plain": [
       "DatetimeIndex(['2015-01-01', '2015-01-02', '2015-01-03', '2015-01-04',\n",
       "               '2015-01-05'],\n",
       "              dtype='datetime64[ns]', freq='D')"
      ]
     },
     "execution_count": 32,
     "metadata": {},
     "output_type": "execute_result"
    }
   ],
   "source": [
    "shifting_example = pd.date_range(\"2015-01-01\", \"2015-01-05\")\n",
    "shifting_example"
   ]
  },
  {
   "cell_type": "code",
   "execution_count": 33,
   "id": "c46cace4-ba1e-4260-b940-2ca6766eba6a",
   "metadata": {
    "execution": {
     "iopub.execute_input": "2023-10-06T19:28:57.392068Z",
     "iopub.status.busy": "2023-10-06T19:28:57.391401Z",
     "iopub.status.idle": "2023-10-06T19:28:57.421402Z",
     "shell.execute_reply": "2023-10-06T19:28:57.419409Z",
     "shell.execute_reply.started": "2023-10-06T19:28:57.392068Z"
    }
   },
   "outputs": [
    {
     "data": {
      "text/plain": [
       "DatetimeIndex(['2015-01-06', '2015-01-07', '2015-01-08', '2015-01-09',\n",
       "               '2015-01-10'],\n",
       "              dtype='datetime64[ns]', freq='D')"
      ]
     },
     "execution_count": 33,
     "metadata": {},
     "output_type": "execute_result"
    }
   ],
   "source": [
    "shifting_example.shift(5)"
   ]
  },
  {
   "cell_type": "code",
   "execution_count": 34,
   "id": "7e1d9de2-cc48-4bd2-9dcc-9add3c8ff60b",
   "metadata": {
    "execution": {
     "iopub.execute_input": "2023-10-06T19:28:57.423746Z",
     "iopub.status.busy": "2023-10-06T19:28:57.423436Z",
     "iopub.status.idle": "2023-10-06T19:28:57.435397Z",
     "shell.execute_reply": "2023-10-06T19:28:57.434429Z",
     "shell.execute_reply.started": "2023-10-06T19:28:57.423746Z"
    },
    "tags": []
   },
   "outputs": [
    {
     "data": {
      "text/plain": [
       "DatetimeIndex(['2014-12-27', '2014-12-28', '2014-12-29', '2014-12-30',\n",
       "               '2014-12-31'],\n",
       "              dtype='datetime64[ns]', freq='D')"
      ]
     },
     "execution_count": 34,
     "metadata": {},
     "output_type": "execute_result"
    }
   ],
   "source": [
    "shifting_example.shift(-5)"
   ]
  },
  {
   "cell_type": "code",
   "execution_count": 35,
   "id": "58ea650c-2f3d-49f0-96fc-00995f061add",
   "metadata": {
    "execution": {
     "iopub.execute_input": "2023-10-06T19:28:57.437391Z",
     "iopub.status.busy": "2023-10-06T19:28:57.436397Z",
     "iopub.status.idle": "2023-10-06T19:28:57.465399Z",
     "shell.execute_reply": "2023-10-06T19:28:57.464397Z",
     "shell.execute_reply.started": "2023-10-06T19:28:57.436397Z"
    },
    "tags": []
   },
   "outputs": [
    {
     "data": {
      "text/plain": [
       "2015-01-01    1\n",
       "2015-01-02    2\n",
       "2015-01-03    3\n",
       "2015-01-04    4\n",
       "2015-01-05    5\n",
       "Freq: D, dtype: int64"
      ]
     },
     "execution_count": 35,
     "metadata": {},
     "output_type": "execute_result"
    }
   ],
   "source": [
    "series_shifting = pd.Series([1,2,3,4,5], index = shifting_example)\n",
    "series_shifting"
   ]
  },
  {
   "cell_type": "markdown",
   "id": "5b307e4e-a06e-4ceb-af91-a02d9221e355",
   "metadata": {},
   "source": [
    "An interesting trick is to compute how much percentage wise has a timeseries valu changed, based on a shift."
   ]
  },
  {
   "cell_type": "code",
   "execution_count": 36,
   "id": "efe9c2ab-ff5b-42c2-b623-49333d08f9bf",
   "metadata": {
    "execution": {
     "iopub.execute_input": "2023-10-06T19:28:57.468393Z",
     "iopub.status.busy": "2023-10-06T19:28:57.467396Z",
     "iopub.status.idle": "2023-10-06T19:28:57.497412Z",
     "shell.execute_reply": "2023-10-06T19:28:57.495432Z",
     "shell.execute_reply.started": "2023-10-06T19:28:57.468393Z"
    },
    "tags": []
   },
   "outputs": [
    {
     "data": {
      "text/plain": [
       "2015-01-01           NaN\n",
       "2015-01-02    100.000000\n",
       "2015-01-03     50.000000\n",
       "2015-01-04     33.333333\n",
       "2015-01-05     25.000000\n",
       "Freq: D, dtype: float64"
      ]
     },
     "execution_count": 36,
     "metadata": {},
     "output_type": "execute_result"
    }
   ],
   "source": [
    "percentage = (series_shifting / series_shifting.shift(1) - 1) * 100\n",
    "percentage"
   ]
  },
  {
   "cell_type": "markdown",
   "id": "6539b479-6bfb-4740-bc9f-c7310b57910f",
   "metadata": {},
   "source": [
    "Roll forward \"rolls\" a date to the end of the specific month.\n",
    "\n",
    "Roll backward \"rolls\" a date to the end of the previous month."
   ]
  },
  {
   "cell_type": "code",
   "execution_count": 37,
   "id": "9be4d8eb-b018-40b3-9790-e5e023737996",
   "metadata": {
    "execution": {
     "iopub.execute_input": "2023-10-06T19:28:57.500393Z",
     "iopub.status.busy": "2023-10-06T19:28:57.499391Z",
     "iopub.status.idle": "2023-10-06T19:28:57.528395Z",
     "shell.execute_reply": "2023-10-06T19:28:57.527397Z",
     "shell.execute_reply.started": "2023-10-06T19:28:57.500393Z"
    },
    "tags": []
   },
   "outputs": [
    {
     "data": {
      "text/plain": [
       "datetime.datetime(2015, 10, 5, 0, 0)"
      ]
     },
     "execution_count": 37,
     "metadata": {},
     "output_type": "execute_result"
    }
   ],
   "source": [
    "offset = MonthEnd()\n",
    "now = datetime(2015,10,5)\n",
    "now"
   ]
  },
  {
   "cell_type": "code",
   "execution_count": 38,
   "id": "886dbebe-d8b0-4973-a35e-eac9f63f4549",
   "metadata": {
    "execution": {
     "iopub.execute_input": "2023-10-06T19:28:57.532396Z",
     "iopub.status.busy": "2023-10-06T19:28:57.530394Z",
     "iopub.status.idle": "2023-10-06T19:28:57.561394Z",
     "shell.execute_reply": "2023-10-06T19:28:57.559392Z",
     "shell.execute_reply.started": "2023-10-06T19:28:57.532396Z"
    },
    "tags": []
   },
   "outputs": [
    {
     "data": {
      "text/plain": [
       "Timestamp('2015-10-31 00:00:00')"
      ]
     },
     "execution_count": 38,
     "metadata": {},
     "output_type": "execute_result"
    }
   ],
   "source": [
    "offset.rollforward(now)"
   ]
  },
  {
   "cell_type": "code",
   "execution_count": 39,
   "id": "f8d46d64-07f5-44f3-ac72-edacaab59f72",
   "metadata": {
    "execution": {
     "iopub.execute_input": "2023-10-06T19:28:57.566397Z",
     "iopub.status.busy": "2023-10-06T19:28:57.565395Z",
     "iopub.status.idle": "2023-10-06T19:28:57.636706Z",
     "shell.execute_reply": "2023-10-06T19:28:57.635646Z",
     "shell.execute_reply.started": "2023-10-06T19:28:57.566397Z"
    },
    "tags": []
   },
   "outputs": [
    {
     "data": {
      "text/plain": [
       "Timestamp('2015-09-30 00:00:00')"
      ]
     },
     "execution_count": 39,
     "metadata": {},
     "output_type": "execute_result"
    }
   ],
   "source": [
    "offset.rollback(now)"
   ]
  },
  {
   "cell_type": "markdown",
   "id": "3acd0222-0214-49e5-bb94-69b67c048590",
   "metadata": {},
   "source": [
    "Timezones can be tricky in real life, let's see how pandas handles them."
   ]
  },
  {
   "cell_type": "code",
   "execution_count": 40,
   "id": "fdbb7362-f5cc-4bcf-b7e7-a90515eec464",
   "metadata": {
    "execution": {
     "iopub.execute_input": "2023-10-06T19:28:57.639546Z",
     "iopub.status.busy": "2023-10-06T19:28:57.638407Z",
     "iopub.status.idle": "2023-10-06T19:28:58.567778Z",
     "shell.execute_reply": "2023-10-06T19:28:58.566778Z",
     "shell.execute_reply.started": "2023-10-06T19:28:57.639546Z"
    },
    "tags": []
   },
   "outputs": [
    {
     "data": {
      "text/plain": [
       "['Pacific/Wake',\n",
       " 'Pacific/Wallis',\n",
       " 'US/Alaska',\n",
       " 'US/Arizona',\n",
       " 'US/Central',\n",
       " 'US/Eastern',\n",
       " 'US/Hawaii',\n",
       " 'US/Mountain',\n",
       " 'US/Pacific',\n",
       " 'UTC']"
      ]
     },
     "execution_count": 40,
     "metadata": {},
     "output_type": "execute_result"
    }
   ],
   "source": [
    "pytz.common_timezones[-10:]"
   ]
  },
  {
   "cell_type": "code",
   "execution_count": 41,
   "id": "eb4246e7-312e-4eeb-bbb6-d369b0eb4aab",
   "metadata": {
    "execution": {
     "iopub.execute_input": "2023-10-06T19:28:58.570780Z",
     "iopub.status.busy": "2023-10-06T19:28:58.570780Z",
     "iopub.status.idle": "2023-10-06T19:28:58.599536Z",
     "shell.execute_reply": "2023-10-06T19:28:58.597283Z",
     "shell.execute_reply.started": "2023-10-06T19:28:58.570780Z"
    },
    "tags": []
   },
   "outputs": [
    {
     "data": {
      "text/plain": [
       "2018-01-01   -0.095460\n",
       "2018-01-02    0.462176\n",
       "2018-01-03   -0.471172\n",
       "2018-01-04    1.893374\n",
       "2018-01-05    0.248551\n",
       "Freq: D, dtype: float64"
      ]
     },
     "execution_count": 41,
     "metadata": {},
     "output_type": "execute_result"
    }
   ],
   "source": [
    "dates = pd.date_range(\"2018-01-01\", periods = 5)\n",
    "ts = pd.Series(data = np.random.standard_normal(5), index = dates)\n",
    "ts"
   ]
  },
  {
   "cell_type": "code",
   "execution_count": 42,
   "id": "6116568a-bf80-4d57-a8d3-775aedef5629",
   "metadata": {
    "execution": {
     "iopub.execute_input": "2023-10-06T19:28:58.604186Z",
     "iopub.status.busy": "2023-10-06T19:28:58.603602Z",
     "iopub.status.idle": "2023-10-06T19:28:58.710008Z",
     "shell.execute_reply": "2023-10-06T19:28:58.707244Z",
     "shell.execute_reply.started": "2023-10-06T19:28:58.604186Z"
    },
    "tags": []
   },
   "outputs": [
    {
     "name": "stdout",
     "output_type": "stream",
     "text": [
      "None\n"
     ]
    }
   ],
   "source": [
    "print(ts.index.tz)"
   ]
  },
  {
   "cell_type": "code",
   "execution_count": 43,
   "id": "6c2515a7-bf38-4cef-b4f3-415425e67262",
   "metadata": {
    "execution": {
     "iopub.execute_input": "2023-10-06T19:28:58.717007Z",
     "iopub.status.busy": "2023-10-06T19:28:58.716014Z",
     "iopub.status.idle": "2023-10-06T19:28:58.771656Z",
     "shell.execute_reply": "2023-10-06T19:28:58.767631Z",
     "shell.execute_reply.started": "2023-10-06T19:28:58.717007Z"
    }
   },
   "outputs": [
    {
     "data": {
      "text/plain": [
       "2018-01-01 00:00:00+00:00   -0.095460\n",
       "2018-01-02 00:00:00+00:00    0.462176\n",
       "2018-01-03 00:00:00+00:00   -0.471172\n",
       "2018-01-04 00:00:00+00:00    1.893374\n",
       "2018-01-05 00:00:00+00:00    0.248551\n",
       "Freq: D, dtype: float64"
      ]
     },
     "execution_count": 43,
     "metadata": {},
     "output_type": "execute_result"
    }
   ],
   "source": [
    "ts_utc = ts.tz_localize(\"UTC\")\n",
    "ts_utc"
   ]
  },
  {
   "cell_type": "code",
   "execution_count": 44,
   "id": "cf90e850-af65-4b31-bbf1-93ab82633d84",
   "metadata": {
    "execution": {
     "iopub.execute_input": "2023-10-06T19:28:58.783637Z",
     "iopub.status.busy": "2023-10-06T19:28:58.780787Z",
     "iopub.status.idle": "2023-10-06T19:28:58.833635Z",
     "shell.execute_reply": "2023-10-06T19:28:58.830641Z",
     "shell.execute_reply.started": "2023-10-06T19:28:58.783637Z"
    },
    "tags": []
   },
   "outputs": [
    {
     "data": {
      "text/plain": [
       "2018-01-01 12:00:00+12:00   -0.095460\n",
       "2018-01-02 12:00:00+12:00    0.462176\n",
       "2018-01-03 12:00:00+12:00   -0.471172\n",
       "2018-01-04 12:00:00+12:00    1.893374\n",
       "2018-01-05 12:00:00+12:00    0.248551\n",
       "Freq: D, dtype: float64"
      ]
     },
     "execution_count": 44,
     "metadata": {},
     "output_type": "execute_result"
    }
   ],
   "source": [
    "ts_utc.tz_convert(\"Pacific/Wake\")"
   ]
  },
  {
   "cell_type": "code",
   "execution_count": 45,
   "id": "232c31af-6eaf-46d4-9fa1-d321836ffa73",
   "metadata": {
    "execution": {
     "iopub.execute_input": "2023-10-06T19:28:58.837636Z",
     "iopub.status.busy": "2023-10-06T19:28:58.836635Z",
     "iopub.status.idle": "2023-10-06T19:28:58.865190Z",
     "shell.execute_reply": "2023-10-06T19:28:58.862190Z",
     "shell.execute_reply.started": "2023-10-06T19:28:58.837636Z"
    }
   },
   "outputs": [
    {
     "data": {
      "text/plain": [
       "Period('2016', 'A-DEC')"
      ]
     },
     "execution_count": 45,
     "metadata": {},
     "output_type": "execute_result"
    }
   ],
   "source": [
    "period = pd.Period(\"2016\", freq = \"A-DEC\")\n",
    "period"
   ]
  },
  {
   "cell_type": "code",
   "execution_count": 46,
   "id": "4b2f79bb-b7bc-412c-9052-ebd76dce5f03",
   "metadata": {
    "execution": {
     "iopub.execute_input": "2023-10-06T19:28:58.869192Z",
     "iopub.status.busy": "2023-10-06T19:28:58.868191Z",
     "iopub.status.idle": "2023-10-06T19:28:58.991878Z",
     "shell.execute_reply": "2023-10-06T19:28:58.986427Z",
     "shell.execute_reply.started": "2023-10-06T19:28:58.869192Z"
    }
   },
   "outputs": [
    {
     "data": {
      "text/plain": [
       "Period('2021', 'A-DEC')"
      ]
     },
     "execution_count": 46,
     "metadata": {},
     "output_type": "execute_result"
    }
   ],
   "source": [
    "period + 5"
   ]
  },
  {
   "cell_type": "code",
   "execution_count": 47,
   "id": "43a9efe1-a4bc-438f-ba6c-4ff95d87b49a",
   "metadata": {
    "execution": {
     "iopub.execute_input": "2023-10-06T19:28:58.999894Z",
     "iopub.status.busy": "2023-10-06T19:28:58.997894Z",
     "iopub.status.idle": "2023-10-06T19:28:59.050886Z",
     "shell.execute_reply": "2023-10-06T19:28:59.047875Z",
     "shell.execute_reply.started": "2023-10-06T19:28:58.999894Z"
    }
   },
   "outputs": [
    {
     "data": {
      "text/plain": [
       "PeriodIndex(['2001-06', '2001-07', '2001-08', '2001-09', '2001-10', '2001-11',\n",
       "             '2001-12', '2002-01', '2002-02', '2002-03', '2002-04', '2002-05',\n",
       "             '2002-06', '2002-07', '2002-08', '2002-09', '2002-10', '2002-11',\n",
       "             '2002-12', '2003-01', '2003-02', '2003-03', '2003-04', '2003-05',\n",
       "             '2003-06', '2003-07', '2003-08', '2003-09'],\n",
       "            dtype='period[M]')"
      ]
     },
     "execution_count": 47,
     "metadata": {},
     "output_type": "execute_result"
    }
   ],
   "source": [
    "periods = pd.period_range(\"2001-06-17\", \"2003-09-12\", freq = \"M\")\n",
    "periods"
   ]
  },
  {
   "cell_type": "code",
   "execution_count": 48,
   "id": "f2476826-61f9-4c1d-adef-5af8532d29da",
   "metadata": {
    "execution": {
     "iopub.execute_input": "2023-10-06T19:28:59.056871Z",
     "iopub.status.busy": "2023-10-06T19:28:59.055874Z",
     "iopub.status.idle": "2023-10-06T19:28:59.081879Z",
     "shell.execute_reply": "2023-10-06T19:28:59.079877Z",
     "shell.execute_reply.started": "2023-10-06T19:28:59.056158Z"
    },
    "tags": []
   },
   "outputs": [
    {
     "data": {
      "text/plain": [
       "PeriodIndex(['2001', '2001', '2001', '2001', '2001', '2001', '2001', '2002',\n",
       "             '2002', '2002', '2002', '2002', '2002', '2002', '2002', '2002',\n",
       "             '2002', '2002', '2002', '2003', '2003', '2003', '2003', '2003',\n",
       "             '2003', '2003', '2003', '2003'],\n",
       "            dtype='period[A-DEC]')"
      ]
     },
     "execution_count": 48,
     "metadata": {},
     "output_type": "execute_result"
    }
   ],
   "source": [
    "periods.asfreq(\"Y\", how = \"start\")"
   ]
  },
  {
   "cell_type": "code",
   "execution_count": 49,
   "id": "6ecd724a-88bc-48be-8011-e4cdd7635d59",
   "metadata": {
    "execution": {
     "iopub.execute_input": "2023-10-06T19:28:59.085871Z",
     "iopub.status.busy": "2023-10-06T19:28:59.084875Z",
     "iopub.status.idle": "2023-10-06T19:28:59.098872Z",
     "shell.execute_reply": "2023-10-06T19:28:59.094876Z",
     "shell.execute_reply.started": "2023-10-06T19:28:59.085871Z"
    },
    "tags": []
   },
   "outputs": [],
   "source": [
    "dates = pd.date_range(\"2000-01-01\", periods=100)\n",
    "\n",
    "ts = pd.Series(np.random.standard_normal(len(dates)), index=dates)"
   ]
  },
  {
   "cell_type": "code",
   "execution_count": 50,
   "id": "ca9a669e-1738-47f2-8c6f-5661d83398e0",
   "metadata": {
    "execution": {
     "iopub.execute_input": "2023-10-06T19:28:59.101872Z",
     "iopub.status.busy": "2023-10-06T19:28:59.100875Z",
     "iopub.status.idle": "2023-10-06T19:28:59.129875Z",
     "shell.execute_reply": "2023-10-06T19:28:59.126894Z",
     "shell.execute_reply.started": "2023-10-06T19:28:59.101872Z"
    },
    "tags": []
   },
   "outputs": [
    {
     "data": {
      "text/plain": [
       "2000-01-01    0.056821\n",
       "2000-01-02    1.923601\n",
       "2000-01-03   -0.012016\n",
       "2000-01-04    0.095646\n",
       "2000-01-05    1.007432\n",
       "                ...   \n",
       "2000-04-05   -0.766003\n",
       "2000-04-06   -2.268001\n",
       "2000-04-07   -0.418499\n",
       "2000-04-08   -0.569786\n",
       "2000-04-09   -0.900276\n",
       "Freq: D, Length: 100, dtype: float64"
      ]
     },
     "execution_count": 50,
     "metadata": {},
     "output_type": "execute_result"
    }
   ],
   "source": [
    "ts"
   ]
  },
  {
   "cell_type": "code",
   "execution_count": 51,
   "id": "839264be-2462-4ff1-bdff-0b4eb84203d4",
   "metadata": {
    "execution": {
     "iopub.execute_input": "2023-10-06T19:28:59.134893Z",
     "iopub.status.busy": "2023-10-06T19:28:59.133874Z",
     "iopub.status.idle": "2023-10-06T19:28:59.174015Z",
     "shell.execute_reply": "2023-10-06T19:28:59.173037Z",
     "shell.execute_reply.started": "2023-10-06T19:28:59.134893Z"
    },
    "tags": []
   },
   "outputs": [
    {
     "data": {
      "text/plain": [
       "2000-01-31   -0.079690\n",
       "2000-02-29   -0.175095\n",
       "2000-03-31    0.245577\n",
       "2000-04-30   -0.453932\n",
       "Freq: M, dtype: float64"
      ]
     },
     "execution_count": 51,
     "metadata": {},
     "output_type": "execute_result"
    }
   ],
   "source": [
    "resampled = ts.resample(\"M\").mean()\n",
    "resampled"
   ]
  },
  {
   "cell_type": "code",
   "execution_count": 52,
   "id": "e770d077-59be-4b57-8885-9b9804d9f55b",
   "metadata": {
    "execution": {
     "iopub.execute_input": "2023-10-06T19:28:59.177012Z",
     "iopub.status.busy": "2023-10-06T19:28:59.177012Z",
     "iopub.status.idle": "2023-10-06T19:28:59.208013Z",
     "shell.execute_reply": "2023-10-06T19:28:59.204062Z",
     "shell.execute_reply.started": "2023-10-06T19:28:59.177012Z"
    },
    "tags": []
   },
   "outputs": [
    {
     "data": {
      "text/plain": [
       "2013-01-01 00:00:00   -0.746244\n",
       "2013-01-01 00:00:01    0.318444\n",
       "2013-01-01 00:00:02   -0.775917\n",
       "2013-01-01 00:00:03    0.141427\n",
       "2013-01-01 00:00:04   -1.210096\n",
       "                         ...   \n",
       "2013-01-01 00:04:55    0.497748\n",
       "2013-01-01 00:04:56   -1.181746\n",
       "2013-01-01 00:04:57    0.432057\n",
       "2013-01-01 00:04:58    1.192025\n",
       "2013-01-01 00:04:59   -0.428179\n",
       "Freq: S, Length: 300, dtype: float64"
      ]
     },
     "execution_count": 52,
     "metadata": {},
     "output_type": "execute_result"
    }
   ],
   "source": [
    "seconds = pd.date_range(\"2013-01-01\", periods = 300, freq = \"S\")\n",
    "ts_seconds = pd.Series(np.random.standard_normal(len(seconds)), index = seconds)\n",
    "ts_seconds"
   ]
  },
  {
   "cell_type": "code",
   "execution_count": 53,
   "id": "fcd6cfce-7919-4f67-a0e4-1a30924fcaef",
   "metadata": {
    "execution": {
     "iopub.execute_input": "2023-10-06T19:28:59.212016Z",
     "iopub.status.busy": "2023-10-06T19:28:59.211013Z",
     "iopub.status.idle": "2023-10-06T19:28:59.237014Z",
     "shell.execute_reply": "2023-10-06T19:28:59.236012Z",
     "shell.execute_reply.started": "2023-10-06T19:28:59.212016Z"
    },
    "tags": []
   },
   "outputs": [
    {
     "data": {
      "text/plain": [
       "2013-01-01 00:00:00   -5.477024\n",
       "2013-01-01 00:01:00    2.579173\n",
       "2013-01-01 00:02:00   -1.828660\n",
       "2013-01-01 00:03:00   -8.402202\n",
       "2013-01-01 00:04:00   -1.013940\n",
       "Freq: T, dtype: float64"
      ]
     },
     "execution_count": 53,
     "metadata": {},
     "output_type": "execute_result"
    }
   ],
   "source": [
    "ts_seconds.resample(\"1min\").sum()"
   ]
  },
  {
   "cell_type": "code",
   "execution_count": 54,
   "id": "73a2927b-5a45-42d4-a19e-f8e692f3f21b",
   "metadata": {
    "execution": {
     "iopub.execute_input": "2023-10-06T19:28:59.241052Z",
     "iopub.status.busy": "2023-10-06T19:28:59.240012Z",
     "iopub.status.idle": "2023-10-06T19:28:59.283016Z",
     "shell.execute_reply": "2023-10-06T19:28:59.282145Z",
     "shell.execute_reply.started": "2023-10-06T19:28:59.241052Z"
    },
    "tags": []
   },
   "outputs": [
    {
     "data": {
      "text/html": [
       "<div>\n",
       "<style scoped>\n",
       "    .dataframe tbody tr th:only-of-type {\n",
       "        vertical-align: middle;\n",
       "    }\n",
       "\n",
       "    .dataframe tbody tr th {\n",
       "        vertical-align: top;\n",
       "    }\n",
       "\n",
       "    .dataframe thead th {\n",
       "        text-align: right;\n",
       "    }\n",
       "</style>\n",
       "<table border=\"1\" class=\"dataframe\">\n",
       "  <thead>\n",
       "    <tr style=\"text-align: right;\">\n",
       "      <th></th>\n",
       "      <th>open</th>\n",
       "      <th>high</th>\n",
       "      <th>low</th>\n",
       "      <th>close</th>\n",
       "    </tr>\n",
       "  </thead>\n",
       "  <tbody>\n",
       "    <tr>\n",
       "      <th>2000-01-01</th>\n",
       "      <td>16</td>\n",
       "      <td>16</td>\n",
       "      <td>16</td>\n",
       "      <td>16</td>\n",
       "    </tr>\n",
       "    <tr>\n",
       "      <th>2000-01-02</th>\n",
       "      <td>54</td>\n",
       "      <td>54</td>\n",
       "      <td>54</td>\n",
       "      <td>54</td>\n",
       "    </tr>\n",
       "    <tr>\n",
       "      <th>2000-01-03</th>\n",
       "      <td>5</td>\n",
       "      <td>5</td>\n",
       "      <td>5</td>\n",
       "      <td>5</td>\n",
       "    </tr>\n",
       "    <tr>\n",
       "      <th>2000-01-04</th>\n",
       "      <td>92</td>\n",
       "      <td>92</td>\n",
       "      <td>92</td>\n",
       "      <td>92</td>\n",
       "    </tr>\n",
       "    <tr>\n",
       "      <th>2000-01-05</th>\n",
       "      <td>91</td>\n",
       "      <td>91</td>\n",
       "      <td>91</td>\n",
       "      <td>91</td>\n",
       "    </tr>\n",
       "    <tr>\n",
       "      <th>...</th>\n",
       "      <td>...</td>\n",
       "      <td>...</td>\n",
       "      <td>...</td>\n",
       "      <td>...</td>\n",
       "    </tr>\n",
       "    <tr>\n",
       "      <th>2000-04-05</th>\n",
       "      <td>29</td>\n",
       "      <td>29</td>\n",
       "      <td>29</td>\n",
       "      <td>29</td>\n",
       "    </tr>\n",
       "    <tr>\n",
       "      <th>2000-04-06</th>\n",
       "      <td>18</td>\n",
       "      <td>18</td>\n",
       "      <td>18</td>\n",
       "      <td>18</td>\n",
       "    </tr>\n",
       "    <tr>\n",
       "      <th>2000-04-07</th>\n",
       "      <td>17</td>\n",
       "      <td>17</td>\n",
       "      <td>17</td>\n",
       "      <td>17</td>\n",
       "    </tr>\n",
       "    <tr>\n",
       "      <th>2000-04-08</th>\n",
       "      <td>42</td>\n",
       "      <td>42</td>\n",
       "      <td>42</td>\n",
       "      <td>42</td>\n",
       "    </tr>\n",
       "    <tr>\n",
       "      <th>2000-04-09</th>\n",
       "      <td>38</td>\n",
       "      <td>38</td>\n",
       "      <td>38</td>\n",
       "      <td>38</td>\n",
       "    </tr>\n",
       "  </tbody>\n",
       "</table>\n",
       "<p>100 rows × 4 columns</p>\n",
       "</div>"
      ],
      "text/plain": [
       "            open  high  low  close\n",
       "2000-01-01    16    16   16     16\n",
       "2000-01-02    54    54   54     54\n",
       "2000-01-03     5     5    5      5\n",
       "2000-01-04    92    92   92     92\n",
       "2000-01-05    91    91   91     91\n",
       "...          ...   ...  ...    ...\n",
       "2000-04-05    29    29   29     29\n",
       "2000-04-06    18    18   18     18\n",
       "2000-04-07    17    17   17     17\n",
       "2000-04-08    42    42   42     42\n",
       "2000-04-09    38    38   38     38\n",
       "\n",
       "[100 rows x 4 columns]"
      ]
     },
     "execution_count": 54,
     "metadata": {},
     "output_type": "execute_result"
    }
   ],
   "source": [
    "ts = pd.Series(np.random.permutation(np.arange(len(dates))), index = dates)\n",
    "ts.resample(\"D\").ohlc()"
   ]
  },
  {
   "cell_type": "markdown",
   "id": "4d6c38a9-7eb3-46e6-baf4-8d832f6d7d5d",
   "metadata": {},
   "source": [
    "Sometimes we want to convert to a higher frequency, but without agggregation."
   ]
  },
  {
   "cell_type": "code",
   "execution_count": 55,
   "id": "35d630b0-11e1-4d55-aa93-9b8675db5d2f",
   "metadata": {
    "execution": {
     "iopub.execute_input": "2023-10-06T19:32:27.322618Z",
     "iopub.status.busy": "2023-10-06T19:32:27.322618Z",
     "iopub.status.idle": "2023-10-06T19:32:27.355582Z",
     "shell.execute_reply": "2023-10-06T19:32:27.354643Z",
     "shell.execute_reply.started": "2023-10-06T19:32:27.322618Z"
    }
   },
   "outputs": [
    {
     "data": {
      "text/html": [
       "<div>\n",
       "<style scoped>\n",
       "    .dataframe tbody tr th:only-of-type {\n",
       "        vertical-align: middle;\n",
       "    }\n",
       "\n",
       "    .dataframe tbody tr th {\n",
       "        vertical-align: top;\n",
       "    }\n",
       "\n",
       "    .dataframe thead th {\n",
       "        text-align: right;\n",
       "    }\n",
       "</style>\n",
       "<table border=\"1\" class=\"dataframe\">\n",
       "  <thead>\n",
       "    <tr style=\"text-align: right;\">\n",
       "      <th></th>\n",
       "      <th>Colorado</th>\n",
       "      <th>Texas</th>\n",
       "      <th>New York</th>\n",
       "      <th>Ohio</th>\n",
       "    </tr>\n",
       "  </thead>\n",
       "  <tbody>\n",
       "    <tr>\n",
       "      <th>2000-01-05</th>\n",
       "      <td>-0.218364</td>\n",
       "      <td>0.190373</td>\n",
       "      <td>0.625100</td>\n",
       "      <td>1.602575</td>\n",
       "    </tr>\n",
       "    <tr>\n",
       "      <th>2000-01-12</th>\n",
       "      <td>0.969576</td>\n",
       "      <td>-0.840024</td>\n",
       "      <td>0.614594</td>\n",
       "      <td>-0.035252</td>\n",
       "    </tr>\n",
       "  </tbody>\n",
       "</table>\n",
       "</div>"
      ],
      "text/plain": [
       "            Colorado     Texas  New York      Ohio\n",
       "2000-01-05 -0.218364  0.190373  0.625100  1.602575\n",
       "2000-01-12  0.969576 -0.840024  0.614594 -0.035252"
      ]
     },
     "execution_count": 55,
     "metadata": {},
     "output_type": "execute_result"
    }
   ],
   "source": [
    "frame = pd.DataFrame(np.random.standard_normal((2, 4)),\n",
    "                        index=pd.date_range(\"2000-01-01\", periods=2,freq=\"W-WED\"),\n",
    "                        columns=[\"Colorado\", \"Texas\", \"New York\", \"Ohio\"])\n",
    "\n",
    "frame"
   ]
  },
  {
   "cell_type": "code",
   "execution_count": 56,
   "id": "ffb1f846-395c-4d9a-81b3-2e193f1e9974",
   "metadata": {
    "execution": {
     "iopub.execute_input": "2023-10-06T19:32:41.610874Z",
     "iopub.status.busy": "2023-10-06T19:32:41.609873Z",
     "iopub.status.idle": "2023-10-06T19:32:41.679690Z",
     "shell.execute_reply": "2023-10-06T19:32:41.678689Z",
     "shell.execute_reply.started": "2023-10-06T19:32:41.610874Z"
    }
   },
   "outputs": [
    {
     "data": {
      "text/html": [
       "<div>\n",
       "<style scoped>\n",
       "    .dataframe tbody tr th:only-of-type {\n",
       "        vertical-align: middle;\n",
       "    }\n",
       "\n",
       "    .dataframe tbody tr th {\n",
       "        vertical-align: top;\n",
       "    }\n",
       "\n",
       "    .dataframe thead th {\n",
       "        text-align: right;\n",
       "    }\n",
       "</style>\n",
       "<table border=\"1\" class=\"dataframe\">\n",
       "  <thead>\n",
       "    <tr style=\"text-align: right;\">\n",
       "      <th></th>\n",
       "      <th>Colorado</th>\n",
       "      <th>Texas</th>\n",
       "      <th>New York</th>\n",
       "      <th>Ohio</th>\n",
       "    </tr>\n",
       "  </thead>\n",
       "  <tbody>\n",
       "    <tr>\n",
       "      <th>2000-01-05</th>\n",
       "      <td>-0.218364</td>\n",
       "      <td>0.190373</td>\n",
       "      <td>0.625100</td>\n",
       "      <td>1.602575</td>\n",
       "    </tr>\n",
       "    <tr>\n",
       "      <th>2000-01-06</th>\n",
       "      <td>NaN</td>\n",
       "      <td>NaN</td>\n",
       "      <td>NaN</td>\n",
       "      <td>NaN</td>\n",
       "    </tr>\n",
       "    <tr>\n",
       "      <th>2000-01-07</th>\n",
       "      <td>NaN</td>\n",
       "      <td>NaN</td>\n",
       "      <td>NaN</td>\n",
       "      <td>NaN</td>\n",
       "    </tr>\n",
       "    <tr>\n",
       "      <th>2000-01-08</th>\n",
       "      <td>NaN</td>\n",
       "      <td>NaN</td>\n",
       "      <td>NaN</td>\n",
       "      <td>NaN</td>\n",
       "    </tr>\n",
       "    <tr>\n",
       "      <th>2000-01-09</th>\n",
       "      <td>NaN</td>\n",
       "      <td>NaN</td>\n",
       "      <td>NaN</td>\n",
       "      <td>NaN</td>\n",
       "    </tr>\n",
       "    <tr>\n",
       "      <th>2000-01-10</th>\n",
       "      <td>NaN</td>\n",
       "      <td>NaN</td>\n",
       "      <td>NaN</td>\n",
       "      <td>NaN</td>\n",
       "    </tr>\n",
       "    <tr>\n",
       "      <th>2000-01-11</th>\n",
       "      <td>NaN</td>\n",
       "      <td>NaN</td>\n",
       "      <td>NaN</td>\n",
       "      <td>NaN</td>\n",
       "    </tr>\n",
       "    <tr>\n",
       "      <th>2000-01-12</th>\n",
       "      <td>0.969576</td>\n",
       "      <td>-0.840024</td>\n",
       "      <td>0.614594</td>\n",
       "      <td>-0.035252</td>\n",
       "    </tr>\n",
       "  </tbody>\n",
       "</table>\n",
       "</div>"
      ],
      "text/plain": [
       "            Colorado     Texas  New York      Ohio\n",
       "2000-01-05 -0.218364  0.190373  0.625100  1.602575\n",
       "2000-01-06       NaN       NaN       NaN       NaN\n",
       "2000-01-07       NaN       NaN       NaN       NaN\n",
       "2000-01-08       NaN       NaN       NaN       NaN\n",
       "2000-01-09       NaN       NaN       NaN       NaN\n",
       "2000-01-10       NaN       NaN       NaN       NaN\n",
       "2000-01-11       NaN       NaN       NaN       NaN\n",
       "2000-01-12  0.969576 -0.840024  0.614594 -0.035252"
      ]
     },
     "execution_count": 56,
     "metadata": {},
     "output_type": "execute_result"
    }
   ],
   "source": [
    "frame.resample(\"D\").asfreq()"
   ]
  },
  {
   "cell_type": "markdown",
   "id": "99d4ad4a-e1ca-401a-9a41-52f5871ab3b8",
   "metadata": {},
   "source": [
    "Now we have to deal with filling the missing information."
   ]
  },
  {
   "cell_type": "code",
   "execution_count": 59,
   "id": "a6cc2a55-9820-4850-af10-9ca9140fedbc",
   "metadata": {
    "execution": {
     "iopub.execute_input": "2023-10-06T19:35:45.776162Z",
     "iopub.status.busy": "2023-10-06T19:35:45.775439Z",
     "iopub.status.idle": "2023-10-06T19:35:45.812732Z",
     "shell.execute_reply": "2023-10-06T19:35:45.812201Z",
     "shell.execute_reply.started": "2023-10-06T19:35:45.775439Z"
    },
    "tags": []
   },
   "outputs": [
    {
     "data": {
      "text/html": [
       "<div>\n",
       "<style scoped>\n",
       "    .dataframe tbody tr th:only-of-type {\n",
       "        vertical-align: middle;\n",
       "    }\n",
       "\n",
       "    .dataframe tbody tr th {\n",
       "        vertical-align: top;\n",
       "    }\n",
       "\n",
       "    .dataframe thead th {\n",
       "        text-align: right;\n",
       "    }\n",
       "</style>\n",
       "<table border=\"1\" class=\"dataframe\">\n",
       "  <thead>\n",
       "    <tr style=\"text-align: right;\">\n",
       "      <th></th>\n",
       "      <th>Colorado</th>\n",
       "      <th>Texas</th>\n",
       "      <th>New York</th>\n",
       "      <th>Ohio</th>\n",
       "    </tr>\n",
       "  </thead>\n",
       "  <tbody>\n",
       "    <tr>\n",
       "      <th>2000-01-05</th>\n",
       "      <td>-0.218364</td>\n",
       "      <td>0.190373</td>\n",
       "      <td>0.625100</td>\n",
       "      <td>1.602575</td>\n",
       "    </tr>\n",
       "    <tr>\n",
       "      <th>2000-01-06</th>\n",
       "      <td>-0.218364</td>\n",
       "      <td>0.190373</td>\n",
       "      <td>0.625100</td>\n",
       "      <td>1.602575</td>\n",
       "    </tr>\n",
       "    <tr>\n",
       "      <th>2000-01-07</th>\n",
       "      <td>-0.218364</td>\n",
       "      <td>0.190373</td>\n",
       "      <td>0.625100</td>\n",
       "      <td>1.602575</td>\n",
       "    </tr>\n",
       "    <tr>\n",
       "      <th>2000-01-08</th>\n",
       "      <td>-0.218364</td>\n",
       "      <td>0.190373</td>\n",
       "      <td>0.625100</td>\n",
       "      <td>1.602575</td>\n",
       "    </tr>\n",
       "    <tr>\n",
       "      <th>2000-01-09</th>\n",
       "      <td>NaN</td>\n",
       "      <td>NaN</td>\n",
       "      <td>NaN</td>\n",
       "      <td>NaN</td>\n",
       "    </tr>\n",
       "    <tr>\n",
       "      <th>2000-01-10</th>\n",
       "      <td>NaN</td>\n",
       "      <td>NaN</td>\n",
       "      <td>NaN</td>\n",
       "      <td>NaN</td>\n",
       "    </tr>\n",
       "    <tr>\n",
       "      <th>2000-01-11</th>\n",
       "      <td>NaN</td>\n",
       "      <td>NaN</td>\n",
       "      <td>NaN</td>\n",
       "      <td>NaN</td>\n",
       "    </tr>\n",
       "    <tr>\n",
       "      <th>2000-01-12</th>\n",
       "      <td>0.969576</td>\n",
       "      <td>-0.840024</td>\n",
       "      <td>0.614594</td>\n",
       "      <td>-0.035252</td>\n",
       "    </tr>\n",
       "  </tbody>\n",
       "</table>\n",
       "</div>"
      ],
      "text/plain": [
       "            Colorado     Texas  New York      Ohio\n",
       "2000-01-05 -0.218364  0.190373  0.625100  1.602575\n",
       "2000-01-06 -0.218364  0.190373  0.625100  1.602575\n",
       "2000-01-07 -0.218364  0.190373  0.625100  1.602575\n",
       "2000-01-08 -0.218364  0.190373  0.625100  1.602575\n",
       "2000-01-09       NaN       NaN       NaN       NaN\n",
       "2000-01-10       NaN       NaN       NaN       NaN\n",
       "2000-01-11       NaN       NaN       NaN       NaN\n",
       "2000-01-12  0.969576 -0.840024  0.614594 -0.035252"
      ]
     },
     "execution_count": 59,
     "metadata": {},
     "output_type": "execute_result"
    }
   ],
   "source": [
    "frame.resample(\"D\").ffill(limit = 3)"
   ]
  },
  {
   "cell_type": "markdown",
   "id": "9b0377b3-5b0c-4694-bf8b-59cf78796dbd",
   "metadata": {},
   "source": [
    "We can have multiple time series in one dataframe"
   ]
  },
  {
   "cell_type": "code",
   "execution_count": 64,
   "id": "3304369b-d2e8-4879-a441-d41aed531560",
   "metadata": {
    "execution": {
     "iopub.execute_input": "2023-10-06T20:35:52.777057Z",
     "iopub.status.busy": "2023-10-06T20:35:52.776238Z",
     "iopub.status.idle": "2023-10-06T20:35:52.819194Z",
     "shell.execute_reply": "2023-10-06T20:35:52.817246Z",
     "shell.execute_reply.started": "2023-10-06T20:35:52.776238Z"
    },
    "tags": []
   },
   "outputs": [
    {
     "data": {
      "text/html": [
       "<div>\n",
       "<style scoped>\n",
       "    .dataframe tbody tr th:only-of-type {\n",
       "        vertical-align: middle;\n",
       "    }\n",
       "\n",
       "    .dataframe tbody tr th {\n",
       "        vertical-align: top;\n",
       "    }\n",
       "\n",
       "    .dataframe thead th {\n",
       "        text-align: right;\n",
       "    }\n",
       "</style>\n",
       "<table border=\"1\" class=\"dataframe\">\n",
       "  <thead>\n",
       "    <tr style=\"text-align: right;\">\n",
       "      <th></th>\n",
       "      <th>time</th>\n",
       "      <th>key</th>\n",
       "      <th>value</th>\n",
       "    </tr>\n",
       "  </thead>\n",
       "  <tbody>\n",
       "    <tr>\n",
       "      <th>0</th>\n",
       "      <td>2017-05-20 00:00:00</td>\n",
       "      <td>a</td>\n",
       "      <td>0.0</td>\n",
       "    </tr>\n",
       "    <tr>\n",
       "      <th>1</th>\n",
       "      <td>2017-05-20 00:00:00</td>\n",
       "      <td>b</td>\n",
       "      <td>1.0</td>\n",
       "    </tr>\n",
       "    <tr>\n",
       "      <th>2</th>\n",
       "      <td>2017-05-20 00:00:00</td>\n",
       "      <td>c</td>\n",
       "      <td>2.0</td>\n",
       "    </tr>\n",
       "    <tr>\n",
       "      <th>3</th>\n",
       "      <td>2017-05-20 00:01:00</td>\n",
       "      <td>a</td>\n",
       "      <td>3.0</td>\n",
       "    </tr>\n",
       "    <tr>\n",
       "      <th>4</th>\n",
       "      <td>2017-05-20 00:01:00</td>\n",
       "      <td>b</td>\n",
       "      <td>4.0</td>\n",
       "    </tr>\n",
       "    <tr>\n",
       "      <th>5</th>\n",
       "      <td>2017-05-20 00:01:00</td>\n",
       "      <td>c</td>\n",
       "      <td>5.0</td>\n",
       "    </tr>\n",
       "    <tr>\n",
       "      <th>6</th>\n",
       "      <td>2017-05-20 00:02:00</td>\n",
       "      <td>a</td>\n",
       "      <td>6.0</td>\n",
       "    </tr>\n",
       "    <tr>\n",
       "      <th>7</th>\n",
       "      <td>2017-05-20 00:02:00</td>\n",
       "      <td>b</td>\n",
       "      <td>7.0</td>\n",
       "    </tr>\n",
       "    <tr>\n",
       "      <th>8</th>\n",
       "      <td>2017-05-20 00:02:00</td>\n",
       "      <td>c</td>\n",
       "      <td>8.0</td>\n",
       "    </tr>\n",
       "    <tr>\n",
       "      <th>9</th>\n",
       "      <td>2017-05-20 00:03:00</td>\n",
       "      <td>a</td>\n",
       "      <td>9.0</td>\n",
       "    </tr>\n",
       "    <tr>\n",
       "      <th>10</th>\n",
       "      <td>2017-05-20 00:03:00</td>\n",
       "      <td>b</td>\n",
       "      <td>10.0</td>\n",
       "    </tr>\n",
       "    <tr>\n",
       "      <th>11</th>\n",
       "      <td>2017-05-20 00:03:00</td>\n",
       "      <td>c</td>\n",
       "      <td>11.0</td>\n",
       "    </tr>\n",
       "    <tr>\n",
       "      <th>12</th>\n",
       "      <td>2017-05-20 00:04:00</td>\n",
       "      <td>a</td>\n",
       "      <td>12.0</td>\n",
       "    </tr>\n",
       "    <tr>\n",
       "      <th>13</th>\n",
       "      <td>2017-05-20 00:04:00</td>\n",
       "      <td>b</td>\n",
       "      <td>13.0</td>\n",
       "    </tr>\n",
       "    <tr>\n",
       "      <th>14</th>\n",
       "      <td>2017-05-20 00:04:00</td>\n",
       "      <td>c</td>\n",
       "      <td>14.0</td>\n",
       "    </tr>\n",
       "    <tr>\n",
       "      <th>15</th>\n",
       "      <td>2017-05-20 00:05:00</td>\n",
       "      <td>a</td>\n",
       "      <td>15.0</td>\n",
       "    </tr>\n",
       "    <tr>\n",
       "      <th>16</th>\n",
       "      <td>2017-05-20 00:05:00</td>\n",
       "      <td>b</td>\n",
       "      <td>16.0</td>\n",
       "    </tr>\n",
       "    <tr>\n",
       "      <th>17</th>\n",
       "      <td>2017-05-20 00:05:00</td>\n",
       "      <td>c</td>\n",
       "      <td>17.0</td>\n",
       "    </tr>\n",
       "    <tr>\n",
       "      <th>18</th>\n",
       "      <td>2017-05-20 00:06:00</td>\n",
       "      <td>a</td>\n",
       "      <td>18.0</td>\n",
       "    </tr>\n",
       "    <tr>\n",
       "      <th>19</th>\n",
       "      <td>2017-05-20 00:06:00</td>\n",
       "      <td>b</td>\n",
       "      <td>19.0</td>\n",
       "    </tr>\n",
       "    <tr>\n",
       "      <th>20</th>\n",
       "      <td>2017-05-20 00:06:00</td>\n",
       "      <td>c</td>\n",
       "      <td>20.0</td>\n",
       "    </tr>\n",
       "  </tbody>\n",
       "</table>\n",
       "</div>"
      ],
      "text/plain": [
       "                  time key  value\n",
       "0  2017-05-20 00:00:00   a    0.0\n",
       "1  2017-05-20 00:00:00   b    1.0\n",
       "2  2017-05-20 00:00:00   c    2.0\n",
       "3  2017-05-20 00:01:00   a    3.0\n",
       "4  2017-05-20 00:01:00   b    4.0\n",
       "5  2017-05-20 00:01:00   c    5.0\n",
       "6  2017-05-20 00:02:00   a    6.0\n",
       "7  2017-05-20 00:02:00   b    7.0\n",
       "8  2017-05-20 00:02:00   c    8.0\n",
       "9  2017-05-20 00:03:00   a    9.0\n",
       "10 2017-05-20 00:03:00   b   10.0\n",
       "11 2017-05-20 00:03:00   c   11.0\n",
       "12 2017-05-20 00:04:00   a   12.0\n",
       "13 2017-05-20 00:04:00   b   13.0\n",
       "14 2017-05-20 00:04:00   c   14.0\n",
       "15 2017-05-20 00:05:00   a   15.0\n",
       "16 2017-05-20 00:05:00   b   16.0\n",
       "17 2017-05-20 00:05:00   c   17.0\n",
       "18 2017-05-20 00:06:00   a   18.0\n",
       "19 2017-05-20 00:06:00   b   19.0\n",
       "20 2017-05-20 00:06:00   c   20.0"
      ]
     },
     "execution_count": 64,
     "metadata": {},
     "output_type": "execute_result"
    }
   ],
   "source": [
    "times = pd.date_range(\"2017-05-20 00:00\", freq=\"1min\", periods=7)\n",
    "df = pd.DataFrame({\"time\": times.repeat(3),\n",
    "                    \"key\": np.tile([\"a\", \"b\", \"c\"], 7),\n",
    "                     \"value\": np.arange(7 * 3.)})\n",
    "df"
   ]
  },
  {
   "cell_type": "markdown",
   "id": "634e23ae-0d00-4718-8a80-d43512dbaefd",
   "metadata": {},
   "source": [
    "Let's use a Grouper object, to group the time series by the key column."
   ]
  },
  {
   "cell_type": "code",
   "execution_count": 65,
   "id": "4cf65479-0000-4896-89ca-1494d8e3899b",
   "metadata": {
    "execution": {
     "iopub.execute_input": "2023-10-06T20:36:43.482398Z",
     "iopub.status.busy": "2023-10-06T20:36:43.481161Z",
     "iopub.status.idle": "2023-10-06T20:36:43.491167Z",
     "shell.execute_reply": "2023-10-06T20:36:43.490381Z",
     "shell.execute_reply.started": "2023-10-06T20:36:43.482398Z"
    }
   },
   "outputs": [],
   "source": [
    "time_key = pd.Grouper(freq=\"5min\")"
   ]
  },
  {
   "cell_type": "code",
   "execution_count": null,
   "id": "9fc6be56-cbdf-4c82-a861-42650c6f4ca9",
   "metadata": {},
   "outputs": [],
   "source": []
  }
 ],
 "metadata": {
  "kernelspec": {
   "display_name": "Python 3",
   "language": "python",
   "name": "python3"
  },
  "language_info": {
   "codemirror_mode": {
    "name": "ipython",
    "version": 3
   },
   "file_extension": ".py",
   "mimetype": "text/x-python",
   "name": "python",
   "nbconvert_exporter": "python",
   "pygments_lexer": "ipython3",
   "version": "3.9.13"
  }
 },
 "nbformat": 4,
 "nbformat_minor": 5
}
