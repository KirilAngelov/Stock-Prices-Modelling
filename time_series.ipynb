{
 "cells": [
  {
   "cell_type": "code",
   "execution_count": 1,
   "id": "a7e95dec-48e2-402c-a46f-7e48cf464787",
   "metadata": {
    "execution": {
     "iopub.execute_input": "2023-10-01T20:40:10.774700Z",
     "iopub.status.busy": "2023-10-01T20:40:10.773680Z",
     "iopub.status.idle": "2023-10-01T20:40:11.879048Z",
     "shell.execute_reply": "2023-10-01T20:40:11.878253Z",
     "shell.execute_reply.started": "2023-10-01T20:40:10.774700Z"
    },
    "tags": []
   },
   "outputs": [],
   "source": [
    "import numpy as np\n",
    "import pandas as pd\n",
    "from datetime import datetime, timedelta\n",
    "from pandas.tseries.offsets import Hour, Minute, Second"
   ]
  },
  {
   "cell_type": "markdown",
   "id": "d3b32b96-6d7e-4291-b41a-dad794bed8f8",
   "metadata": {},
   "source": [
    "### Basic date manipulations in Python\n",
    "\n",
    "Python supports a datetime module which has several functionalitites:\n",
    "1. Datetime objects representing a specific date in time with years, months and days\n",
    "2. Addition and substraction of datetime objects\n",
    "3. Format datetime objects based on different format specification\n",
    "\n",
    "Pandas supports handling of null value timestampts with its NaT which stands for Not a Time."
   ]
  },
  {
   "cell_type": "code",
   "execution_count": 2,
   "id": "512188ca-e3e8-4cc9-a45f-685275f231cf",
   "metadata": {
    "execution": {
     "iopub.execute_input": "2023-10-01T20:40:11.883024Z",
     "iopub.status.busy": "2023-10-01T20:40:11.882017Z",
     "iopub.status.idle": "2023-10-01T20:40:11.910219Z",
     "shell.execute_reply": "2023-10-01T20:40:11.909206Z",
     "shell.execute_reply.started": "2023-10-01T20:40:11.883024Z"
    },
    "tags": []
   },
   "outputs": [
    {
     "data": {
      "text/plain": [
       "datetime.datetime(2023, 10, 1, 23, 40, 11, 884016)"
      ]
     },
     "execution_count": 2,
     "metadata": {},
     "output_type": "execute_result"
    }
   ],
   "source": [
    "current_date = datetime.now()\n",
    "current_date"
   ]
  },
  {
   "cell_type": "code",
   "execution_count": 3,
   "id": "5ce89368-7f7f-4b59-add9-9a0737c094eb",
   "metadata": {
    "execution": {
     "iopub.execute_input": "2023-10-01T20:40:11.920028Z",
     "iopub.status.busy": "2023-10-01T20:40:11.919460Z",
     "iopub.status.idle": "2023-10-01T20:40:12.004943Z",
     "shell.execute_reply": "2023-10-01T20:40:12.002763Z",
     "shell.execute_reply.started": "2023-10-01T20:40:11.920028Z"
    },
    "tags": []
   },
   "outputs": [
    {
     "data": {
      "text/plain": [
       "(2023, 10, 1)"
      ]
     },
     "execution_count": 3,
     "metadata": {},
     "output_type": "execute_result"
    }
   ],
   "source": [
    "current_date.year, current_date.month, current_date.day"
   ]
  },
  {
   "cell_type": "code",
   "execution_count": 4,
   "id": "0bd31945-8a4c-4b6b-8500-2bf43097bcda",
   "metadata": {
    "execution": {
     "iopub.execute_input": "2023-10-01T20:40:12.012758Z",
     "iopub.status.busy": "2023-10-01T20:40:12.012758Z",
     "iopub.status.idle": "2023-10-01T20:40:12.034786Z",
     "shell.execute_reply": "2023-10-01T20:40:12.033800Z",
     "shell.execute_reply.started": "2023-10-01T20:40:12.012758Z"
    },
    "tags": []
   },
   "outputs": [
    {
     "data": {
      "text/plain": [
       "datetime.timedelta(days=5575, seconds=56700)"
      ]
     },
     "execution_count": 4,
     "metadata": {},
     "output_type": "execute_result"
    }
   ],
   "source": [
    "delta = datetime(2019, 1, 7) - datetime(2003, 10, 2, 8, 15)\n",
    "delta"
   ]
  },
  {
   "cell_type": "code",
   "execution_count": 5,
   "id": "c1f65b83-6f1c-48ac-a6b5-70c775698b66",
   "metadata": {
    "execution": {
     "iopub.execute_input": "2023-10-01T20:40:12.040748Z",
     "iopub.status.busy": "2023-10-01T20:40:12.039751Z",
     "iopub.status.idle": "2023-10-01T20:40:12.066054Z",
     "shell.execute_reply": "2023-10-01T20:40:12.064750Z",
     "shell.execute_reply.started": "2023-10-01T20:40:12.040748Z"
    },
    "tags": []
   },
   "outputs": [
    {
     "data": {
      "text/plain": [
       "datetime.timedelta(days=5585, seconds=56700)"
      ]
     },
     "execution_count": 5,
     "metadata": {},
     "output_type": "execute_result"
    }
   ],
   "source": [
    "delta = delta + timedelta(10)\n",
    "delta"
   ]
  },
  {
   "cell_type": "code",
   "execution_count": 6,
   "id": "a9a03a15-8ad1-42c8-aa60-ecd6f2fef703",
   "metadata": {
    "execution": {
     "iopub.execute_input": "2023-10-01T20:40:12.069795Z",
     "iopub.status.busy": "2023-10-01T20:40:12.068754Z",
     "iopub.status.idle": "2023-10-01T20:40:12.080815Z",
     "shell.execute_reply": "2023-10-01T20:40:12.079753Z",
     "shell.execute_reply.started": "2023-10-01T20:40:12.069795Z"
    },
    "tags": []
   },
   "outputs": [
    {
     "name": "stdout",
     "output_type": "stream",
     "text": [
      "2011-01-03 00:00:00\n"
     ]
    }
   ],
   "source": [
    "stamp = datetime(2011,1,3)\n",
    "print(str(stamp))"
   ]
  },
  {
   "cell_type": "code",
   "execution_count": 7,
   "id": "beaf174c-b1f9-4d5b-92bb-2f4a7b3acd65",
   "metadata": {
    "execution": {
     "iopub.execute_input": "2023-10-01T20:40:12.082783Z",
     "iopub.status.busy": "2023-10-01T20:40:12.082783Z",
     "iopub.status.idle": "2023-10-01T20:40:12.096748Z",
     "shell.execute_reply": "2023-10-01T20:40:12.095750Z",
     "shell.execute_reply.started": "2023-10-01T20:40:12.082783Z"
    },
    "tags": []
   },
   "outputs": [
    {
     "data": {
      "text/plain": [
       "'01/03/11'"
      ]
     },
     "execution_count": 7,
     "metadata": {},
     "output_type": "execute_result"
    }
   ],
   "source": [
    "stamp = stamp.strftime(\"%D\")\n",
    "stamp"
   ]
  },
  {
   "cell_type": "code",
   "execution_count": 8,
   "id": "e5a378eb-a89f-458c-b27e-d5142fd69b8b",
   "metadata": {
    "execution": {
     "iopub.execute_input": "2023-10-01T20:40:12.099753Z",
     "iopub.status.busy": "2023-10-01T20:40:12.099753Z",
     "iopub.status.idle": "2023-10-01T20:40:12.127750Z",
     "shell.execute_reply": "2023-10-01T20:40:12.125886Z",
     "shell.execute_reply.started": "2023-10-01T20:40:12.099753Z"
    },
    "tags": []
   },
   "outputs": [
    {
     "data": {
      "text/plain": [
       "datetime.datetime(2011, 1, 3, 0, 0)"
      ]
     },
     "execution_count": 8,
     "metadata": {},
     "output_type": "execute_result"
    }
   ],
   "source": [
    "value = \"2011-01-03\"\n",
    "datetime.strptime(value, \"%Y-%m-%d\")"
   ]
  },
  {
   "cell_type": "code",
   "execution_count": 9,
   "id": "56342b9c-0536-4dce-ab9f-eb4fc0993df3",
   "metadata": {
    "execution": {
     "iopub.execute_input": "2023-10-01T20:40:12.129749Z",
     "iopub.status.busy": "2023-10-01T20:40:12.129749Z",
     "iopub.status.idle": "2023-10-01T20:40:12.142765Z",
     "shell.execute_reply": "2023-10-01T20:40:12.141750Z",
     "shell.execute_reply.started": "2023-10-01T20:40:12.129749Z"
    },
    "tags": []
   },
   "outputs": [
    {
     "data": {
      "text/plain": [
       "DatetimeIndex(['2015-03-18', '1996-07-03', 'NaT'], dtype='datetime64[ns]', freq=None)"
      ]
     },
     "execution_count": 9,
     "metadata": {},
     "output_type": "execute_result"
    }
   ],
   "source": [
    "dates_arr = [\"2015-03-18\", \"1996-07-03\", None]\n",
    "datetime_index = pd.to_datetime(dates_arr)\n",
    "datetime_index"
   ]
  },
  {
   "cell_type": "markdown",
   "id": "0771156f-d085-47e3-8fa5-35b74dce22fd",
   "metadata": {},
   "source": [
    "### Time Series in Pandas\n",
    "\n",
    "Times series are essentially an a Pandas series with its index set to the timestamps. \n",
    "\n",
    "Timestamps show the specific value of something in that time. For now we will just fill the values with random ones"
   ]
  },
  {
   "cell_type": "code",
   "execution_count": 10,
   "id": "cd1a4f70-4e1f-40bd-8462-2e414b32c027",
   "metadata": {
    "execution": {
     "iopub.execute_input": "2023-10-01T20:40:12.143748Z",
     "iopub.status.busy": "2023-10-01T20:40:12.143748Z",
     "iopub.status.idle": "2023-10-01T20:40:12.172751Z",
     "shell.execute_reply": "2023-10-01T20:40:12.171751Z",
     "shell.execute_reply.started": "2023-10-01T20:40:12.143748Z"
    },
    "tags": []
   },
   "outputs": [
    {
     "data": {
      "text/plain": [
       "2011-01-02   -0.214287\n",
       "2011-01-05   -0.767551\n",
       "2011-01-07   -0.709757\n",
       "2011-01-08   -1.373033\n",
       "2011-01-10   -0.289797\n",
       "2011-01-12   -1.214900\n",
       "dtype: float64"
      ]
     },
     "execution_count": 10,
     "metadata": {},
     "output_type": "execute_result"
    }
   ],
   "source": [
    "dates = [datetime(2011, 1, 2), datetime(2011, 1, 5),\n",
    "         datetime(2011, 1, 7), datetime(2011, 1, 8),\n",
    "         datetime(2011, 1, 10), datetime(2011, 1, 12)]\n",
    "ts = pd.Series(np.random.standard_normal(6), index = dates)\n",
    "ts"
   ]
  },
  {
   "cell_type": "code",
   "execution_count": 11,
   "id": "ceade226-2edb-4f66-8905-9bba2ec52a23",
   "metadata": {
    "execution": {
     "iopub.execute_input": "2023-10-01T20:40:12.176751Z",
     "iopub.status.busy": "2023-10-01T20:40:12.174758Z",
     "iopub.status.idle": "2023-10-01T20:40:12.188749Z",
     "shell.execute_reply": "2023-10-01T20:40:12.186749Z",
     "shell.execute_reply.started": "2023-10-01T20:40:12.175827Z"
    },
    "tags": []
   },
   "outputs": [
    {
     "data": {
      "text/plain": [
       "DatetimeIndex(['2011-01-02', '2011-01-05', '2011-01-07', '2011-01-08',\n",
       "               '2011-01-10', '2011-01-12'],\n",
       "              dtype='datetime64[ns]', freq=None)"
      ]
     },
     "execution_count": 11,
     "metadata": {},
     "output_type": "execute_result"
    }
   ],
   "source": [
    "ts.index"
   ]
  },
  {
   "cell_type": "markdown",
   "id": "cdb7ff4f-31d8-49e7-a116-630e42a5e111",
   "metadata": {},
   "source": [
    "The same things for regular Pandas series apply here, operations are broadcast and we can also select a value by using the date as an index in our timeseries."
   ]
  },
  {
   "cell_type": "code",
   "execution_count": 12,
   "id": "527a5b01-0a06-43b9-a769-253b0c7a14b2",
   "metadata": {
    "execution": {
     "iopub.execute_input": "2023-10-01T20:40:12.192791Z",
     "iopub.status.busy": "2023-10-01T20:40:12.191751Z",
     "iopub.status.idle": "2023-10-01T20:40:12.217904Z",
     "shell.execute_reply": "2023-10-01T20:40:12.216747Z",
     "shell.execute_reply.started": "2023-10-01T20:40:12.192791Z"
    },
    "tags": []
   },
   "outputs": [
    {
     "data": {
      "text/plain": [
       "2011-01-02   -0.428575\n",
       "2011-01-05   -1.535101\n",
       "2011-01-07   -1.419514\n",
       "2011-01-08   -2.746065\n",
       "2011-01-10   -0.579593\n",
       "2011-01-12   -2.429800\n",
       "dtype: float64"
      ]
     },
     "execution_count": 12,
     "metadata": {},
     "output_type": "execute_result"
    }
   ],
   "source": [
    "ts = ts*2\n",
    "ts"
   ]
  },
  {
   "cell_type": "code",
   "execution_count": 13,
   "id": "ae43b52c-855d-477b-b803-350830706042",
   "metadata": {
    "execution": {
     "iopub.execute_input": "2023-10-01T20:40:12.221745Z",
     "iopub.status.busy": "2023-10-01T20:40:12.220243Z",
     "iopub.status.idle": "2023-10-01T20:40:12.233742Z",
     "shell.execute_reply": "2023-10-01T20:40:12.232740Z",
     "shell.execute_reply.started": "2023-10-01T20:40:12.221745Z"
    },
    "tags": []
   },
   "outputs": [
    {
     "data": {
      "text/plain": [
       "-2.4297996592298485"
      ]
     },
     "execution_count": 13,
     "metadata": {},
     "output_type": "execute_result"
    }
   ],
   "source": [
    "ts[\"2011-01-12\"]"
   ]
  },
  {
   "cell_type": "markdown",
   "id": "6e004ce1-1a89-463c-a973-cdfaceb1cda7",
   "metadata": {},
   "source": [
    "Something more interesting is when we are manipulating a big timeseries. We will use ```pd.date_range``` for the creation of our timeseries. Let's demonstrate selecting months and slicing."
   ]
  },
  {
   "cell_type": "code",
   "execution_count": 14,
   "id": "5accb7d6-9594-4d50-b480-bba0625a12de",
   "metadata": {
    "execution": {
     "iopub.execute_input": "2023-10-01T20:40:12.235741Z",
     "iopub.status.busy": "2023-10-01T20:40:12.234838Z",
     "iopub.status.idle": "2023-10-01T20:40:12.248742Z",
     "shell.execute_reply": "2023-10-01T20:40:12.247743Z",
     "shell.execute_reply.started": "2023-10-01T20:40:12.235741Z"
    },
    "tags": []
   },
   "outputs": [],
   "source": [
    "longer_ts = pd.Series(np.random.standard_normal(1000),index = pd.date_range(\"2000-01-01\", periods = 1000))\n"
   ]
  },
  {
   "cell_type": "code",
   "execution_count": 15,
   "id": "70cc1726-8c17-4791-8e1a-7673345ba32b",
   "metadata": {
    "execution": {
     "iopub.execute_input": "2023-10-01T20:40:12.251745Z",
     "iopub.status.busy": "2023-10-01T20:40:12.250744Z",
     "iopub.status.idle": "2023-10-01T20:40:12.283167Z",
     "shell.execute_reply": "2023-10-01T20:40:12.279746Z",
     "shell.execute_reply.started": "2023-10-01T20:40:12.250744Z"
    },
    "tags": []
   },
   "outputs": [
    {
     "data": {
      "text/plain": [
       "2001-03-04    0.607415\n",
       "2001-03-05   -0.027249\n",
       "2001-03-06   -0.701389\n",
       "2001-03-07    2.450786\n",
       "2001-03-08   -0.685847\n",
       "                ...   \n",
       "2002-02-28    1.637894\n",
       "2002-03-01   -1.236736\n",
       "2002-03-02    0.959028\n",
       "2002-03-03    1.930938\n",
       "2002-03-04   -1.084801\n",
       "Freq: D, Length: 366, dtype: float64"
      ]
     },
     "execution_count": 15,
     "metadata": {},
     "output_type": "execute_result"
    }
   ],
   "source": [
    "longer_ts[\"2001-03-04\" : \"2002-03-04\"]"
   ]
  },
  {
   "cell_type": "code",
   "execution_count": 16,
   "id": "58596b6d-9945-4ef7-a06c-c367fcf766e5",
   "metadata": {
    "execution": {
     "iopub.execute_input": "2023-10-01T20:40:12.285744Z",
     "iopub.status.busy": "2023-10-01T20:40:12.285744Z",
     "iopub.status.idle": "2023-10-01T20:40:12.312653Z",
     "shell.execute_reply": "2023-10-01T20:40:12.311655Z",
     "shell.execute_reply.started": "2023-10-01T20:40:12.285744Z"
    }
   },
   "outputs": [
    {
     "data": {
      "text/plain": [
       "2000-03-04    0.431030\n",
       "2000-03-05   -1.674624\n",
       "2000-03-06   -0.269372\n",
       "2000-03-07   -0.153318\n",
       "2000-03-08   -0.785142\n",
       "                ...   \n",
       "2001-12-28    0.713485\n",
       "2001-12-29    0.502124\n",
       "2001-12-30   -0.458151\n",
       "2001-12-31    0.760570\n",
       "2002-01-01   -1.563111\n",
       "Freq: D, Length: 669, dtype: float64"
      ]
     },
     "execution_count": 16,
     "metadata": {},
     "output_type": "execute_result"
    }
   ],
   "source": [
    "longer_ts[datetime(2000,3,4): datetime(2002,1,1)]"
   ]
  },
  {
   "cell_type": "markdown",
   "id": "85c59fb0-6139-434e-b1b1-f40a7032f4d6",
   "metadata": {},
   "source": [
    "We can also slice with timestamps that are not present in our timeseries."
   ]
  },
  {
   "cell_type": "code",
   "execution_count": 17,
   "id": "0429cced-6ff8-4df7-aa38-f0bd83579f13",
   "metadata": {
    "execution": {
     "iopub.execute_input": "2023-10-01T20:40:12.315381Z",
     "iopub.status.busy": "2023-10-01T20:40:12.314656Z",
     "iopub.status.idle": "2023-10-01T20:40:12.330665Z",
     "shell.execute_reply": "2023-10-01T20:40:12.327655Z",
     "shell.execute_reply.started": "2023-10-01T20:40:12.315381Z"
    }
   },
   "outputs": [
    {
     "data": {
      "text/plain": [
       "2011-01-02   -0.428575\n",
       "2011-01-05   -1.535101\n",
       "2011-01-07   -1.419514\n",
       "2011-01-08   -2.746065\n",
       "2011-01-10   -0.579593\n",
       "2011-01-12   -2.429800\n",
       "dtype: float64"
      ]
     },
     "execution_count": 17,
     "metadata": {},
     "output_type": "execute_result"
    }
   ],
   "source": [
    "ts"
   ]
  },
  {
   "cell_type": "code",
   "execution_count": 18,
   "id": "3fa88aab-29f3-46bb-891c-9ddb9337fb44",
   "metadata": {
    "execution": {
     "iopub.execute_input": "2023-10-01T20:40:12.336679Z",
     "iopub.status.busy": "2023-10-01T20:40:12.334669Z",
     "iopub.status.idle": "2023-10-01T20:40:12.360657Z",
     "shell.execute_reply": "2023-10-01T20:40:12.358657Z",
     "shell.execute_reply.started": "2023-10-01T20:40:12.336679Z"
    }
   },
   "outputs": [
    {
     "data": {
      "text/plain": [
       "2011-01-07   -1.419514\n",
       "2011-01-08   -2.746065\n",
       "2011-01-10   -0.579593\n",
       "dtype: float64"
      ]
     },
     "execution_count": 18,
     "metadata": {},
     "output_type": "execute_result"
    }
   ],
   "source": [
    "ts[\"2011-01-06\":\"2011-01-11\"]"
   ]
  },
  {
   "cell_type": "code",
   "execution_count": 19,
   "id": "302626ed-b0e4-4e0d-8378-1ae08896594b",
   "metadata": {
    "execution": {
     "iopub.execute_input": "2023-10-01T20:40:12.363666Z",
     "iopub.status.busy": "2023-10-01T20:40:12.362655Z",
     "iopub.status.idle": "2023-10-01T20:40:12.374690Z",
     "shell.execute_reply": "2023-10-01T20:40:12.373654Z",
     "shell.execute_reply.started": "2023-10-01T20:40:12.363666Z"
    },
    "tags": []
   },
   "outputs": [
    {
     "data": {
      "text/plain": [
       "2011-01-02   -0.428575\n",
       "dtype: float64"
      ]
     },
     "execution_count": 19,
     "metadata": {},
     "output_type": "execute_result"
    }
   ],
   "source": [
    "ts.truncate(after = \"2011-01-04\") #truncate based on the date provided, here we select everything after the provided date"
   ]
  },
  {
   "cell_type": "code",
   "execution_count": 20,
   "id": "f54a87b3-c42c-4b8f-b273-62242a67b4f3",
   "metadata": {
    "execution": {
     "iopub.execute_input": "2023-10-01T20:40:12.376660Z",
     "iopub.status.busy": "2023-10-01T20:40:12.376660Z",
     "iopub.status.idle": "2023-10-01T20:40:12.422666Z",
     "shell.execute_reply": "2023-10-01T20:40:12.421663Z",
     "shell.execute_reply.started": "2023-10-01T20:40:12.376660Z"
    },
    "tags": []
   },
   "outputs": [
    {
     "data": {
      "text/html": [
       "<div>\n",
       "<style scoped>\n",
       "    .dataframe tbody tr th:only-of-type {\n",
       "        vertical-align: middle;\n",
       "    }\n",
       "\n",
       "    .dataframe tbody tr th {\n",
       "        vertical-align: top;\n",
       "    }\n",
       "\n",
       "    .dataframe thead th {\n",
       "        text-align: right;\n",
       "    }\n",
       "</style>\n",
       "<table border=\"1\" class=\"dataframe\">\n",
       "  <thead>\n",
       "    <tr style=\"text-align: right;\">\n",
       "      <th></th>\n",
       "      <th>Tokyo</th>\n",
       "      <th>Montreal</th>\n",
       "      <th>Madrid</th>\n",
       "      <th>London</th>\n",
       "    </tr>\n",
       "  </thead>\n",
       "  <tbody>\n",
       "    <tr>\n",
       "      <th>2000-01-05</th>\n",
       "      <td>0.286703</td>\n",
       "      <td>-0.678211</td>\n",
       "      <td>0.771036</td>\n",
       "      <td>-1.499259</td>\n",
       "    </tr>\n",
       "    <tr>\n",
       "      <th>2000-01-12</th>\n",
       "      <td>-0.048176</td>\n",
       "      <td>-0.156228</td>\n",
       "      <td>-0.622029</td>\n",
       "      <td>-2.331602</td>\n",
       "    </tr>\n",
       "    <tr>\n",
       "      <th>2000-01-19</th>\n",
       "      <td>-1.415016</td>\n",
       "      <td>0.335937</td>\n",
       "      <td>1.536523</td>\n",
       "      <td>0.212271</td>\n",
       "    </tr>\n",
       "    <tr>\n",
       "      <th>2000-01-26</th>\n",
       "      <td>0.435100</td>\n",
       "      <td>-0.877103</td>\n",
       "      <td>0.822028</td>\n",
       "      <td>-0.346504</td>\n",
       "    </tr>\n",
       "    <tr>\n",
       "      <th>2000-02-02</th>\n",
       "      <td>0.446094</td>\n",
       "      <td>0.745248</td>\n",
       "      <td>2.507659</td>\n",
       "      <td>-0.886549</td>\n",
       "    </tr>\n",
       "    <tr>\n",
       "      <th>...</th>\n",
       "      <td>...</td>\n",
       "      <td>...</td>\n",
       "      <td>...</td>\n",
       "      <td>...</td>\n",
       "    </tr>\n",
       "    <tr>\n",
       "      <th>2001-10-31</th>\n",
       "      <td>-1.371002</td>\n",
       "      <td>-0.293811</td>\n",
       "      <td>-1.015878</td>\n",
       "      <td>1.082889</td>\n",
       "    </tr>\n",
       "    <tr>\n",
       "      <th>2001-11-07</th>\n",
       "      <td>0.834216</td>\n",
       "      <td>0.301002</td>\n",
       "      <td>0.917793</td>\n",
       "      <td>0.013535</td>\n",
       "    </tr>\n",
       "    <tr>\n",
       "      <th>2001-11-14</th>\n",
       "      <td>0.294612</td>\n",
       "      <td>-1.344772</td>\n",
       "      <td>0.233542</td>\n",
       "      <td>-1.223276</td>\n",
       "    </tr>\n",
       "    <tr>\n",
       "      <th>2001-11-21</th>\n",
       "      <td>-0.530712</td>\n",
       "      <td>0.456243</td>\n",
       "      <td>-0.513399</td>\n",
       "      <td>0.241145</td>\n",
       "    </tr>\n",
       "    <tr>\n",
       "      <th>2001-11-28</th>\n",
       "      <td>-0.086025</td>\n",
       "      <td>1.038105</td>\n",
       "      <td>0.583156</td>\n",
       "      <td>0.073432</td>\n",
       "    </tr>\n",
       "  </tbody>\n",
       "</table>\n",
       "<p>100 rows × 4 columns</p>\n",
       "</div>"
      ],
      "text/plain": [
       "               Tokyo  Montreal    Madrid    London\n",
       "2000-01-05  0.286703 -0.678211  0.771036 -1.499259\n",
       "2000-01-12 -0.048176 -0.156228 -0.622029 -2.331602\n",
       "2000-01-19 -1.415016  0.335937  1.536523  0.212271\n",
       "2000-01-26  0.435100 -0.877103  0.822028 -0.346504\n",
       "2000-02-02  0.446094  0.745248  2.507659 -0.886549\n",
       "...              ...       ...       ...       ...\n",
       "2001-10-31 -1.371002 -0.293811 -1.015878  1.082889\n",
       "2001-11-07  0.834216  0.301002  0.917793  0.013535\n",
       "2001-11-14  0.294612 -1.344772  0.233542 -1.223276\n",
       "2001-11-21 -0.530712  0.456243 -0.513399  0.241145\n",
       "2001-11-28 -0.086025  1.038105  0.583156  0.073432\n",
       "\n",
       "[100 rows x 4 columns]"
      ]
     },
     "execution_count": 20,
     "metadata": {},
     "output_type": "execute_result"
    }
   ],
   "source": [
    "dates = pd.date_range(\"2000-01-01\", periods = 100, freq = \"W-WED\")\n",
    "df_towns = pd.DataFrame(np.random.standard_normal((100,4)), index = dates, columns = [\"Tokyo\", \"Montreal\", \"Madrid\", \"London\"])\n",
    "df_towns"
   ]
  },
  {
   "cell_type": "code",
   "execution_count": 21,
   "id": "751339b6-b211-4e06-aa16-9f2b6f432c59",
   "metadata": {
    "execution": {
     "iopub.execute_input": "2023-10-01T20:40:12.425668Z",
     "iopub.status.busy": "2023-10-01T20:40:12.424977Z",
     "iopub.status.idle": "2023-10-01T20:40:12.438668Z",
     "shell.execute_reply": "2023-10-01T20:40:12.436665Z",
     "shell.execute_reply.started": "2023-10-01T20:40:12.425668Z"
    },
    "tags": []
   },
   "outputs": [
    {
     "data": {
      "text/plain": [
       "Tokyo      -1.371002\n",
       "Montreal   -0.293811\n",
       "Madrid     -1.015878\n",
       "London      1.082889\n",
       "Name: 2001-10-31 00:00:00, dtype: float64"
      ]
     },
     "execution_count": 21,
     "metadata": {},
     "output_type": "execute_result"
    }
   ],
   "source": [
    "df_towns.loc[\"2001-10-31\"]"
   ]
  },
  {
   "cell_type": "markdown",
   "id": "eaefa38e-3921-45ef-8b3d-82905be7d1a0",
   "metadata": {},
   "source": [
    "### Working with duplicates"
   ]
  },
  {
   "cell_type": "code",
   "execution_count": 22,
   "id": "c9553ed9-ecca-4c66-889b-88bbc15a5055",
   "metadata": {
    "execution": {
     "iopub.execute_input": "2023-10-01T20:40:12.442807Z",
     "iopub.status.busy": "2023-10-01T20:40:12.441672Z",
     "iopub.status.idle": "2023-10-01T20:40:12.468664Z",
     "shell.execute_reply": "2023-10-01T20:40:12.467745Z",
     "shell.execute_reply.started": "2023-10-01T20:40:12.442807Z"
    }
   },
   "outputs": [
    {
     "data": {
      "text/plain": [
       "2000-01-01    1\n",
       "2000-01-02    2\n",
       "2000-01-02    3\n",
       "2000-01-02    3\n",
       "2000-01-03    4\n",
       "dtype: int64"
      ]
     },
     "execution_count": 22,
     "metadata": {},
     "output_type": "execute_result"
    }
   ],
   "source": [
    "dates = pd.DatetimeIndex([\"2000-01-01\", \"2000-01-02\", \"2000-01-02\",\"2000-01-02\", \"2000-01-03\"])\n",
    "duplicates = pd.Series(data = [1,2,3,3,4], index = dates)\n",
    "duplicates"
   ]
  },
  {
   "cell_type": "code",
   "execution_count": 23,
   "id": "f035a3bd-4dfd-4fee-a78d-155ceb03e86d",
   "metadata": {
    "execution": {
     "iopub.execute_input": "2023-10-01T20:40:12.470665Z",
     "iopub.status.busy": "2023-10-01T20:40:12.469664Z",
     "iopub.status.idle": "2023-10-01T20:40:12.500669Z",
     "shell.execute_reply": "2023-10-01T20:40:12.498676Z",
     "shell.execute_reply.started": "2023-10-01T20:40:12.469664Z"
    }
   },
   "outputs": [
    {
     "data": {
      "text/plain": [
       "2000-01-02    2\n",
       "2000-01-02    3\n",
       "2000-01-02    3\n",
       "dtype: int64"
      ]
     },
     "execution_count": 23,
     "metadata": {},
     "output_type": "execute_result"
    }
   ],
   "source": [
    "duplicates[\"2000-01-02\"]"
   ]
  },
  {
   "cell_type": "code",
   "execution_count": 24,
   "id": "884a29df-e000-4b08-b016-c8f9b00dcdca",
   "metadata": {
    "execution": {
     "iopub.execute_input": "2023-10-01T20:40:12.507980Z",
     "iopub.status.busy": "2023-10-01T20:40:12.503678Z",
     "iopub.status.idle": "2023-10-01T20:40:12.529664Z",
     "shell.execute_reply": "2023-10-01T20:40:12.528664Z",
     "shell.execute_reply.started": "2023-10-01T20:40:12.507980Z"
    }
   },
   "outputs": [
    {
     "data": {
      "text/plain": [
       "2000-01-01    1.000000\n",
       "2000-01-02    2.666667\n",
       "2000-01-03    4.000000\n",
       "dtype: float64"
      ]
     },
     "execution_count": 24,
     "metadata": {},
     "output_type": "execute_result"
    }
   ],
   "source": [
    "duplicates.groupby(level = 0).mean()"
   ]
  },
  {
   "cell_type": "markdown",
   "id": "9b47e39a-8a99-49d6-93c7-669d6a58d334",
   "metadata": {},
   "source": [
    "### Working with frequencies\n",
    "When working with time series, we have many options for frequencies. For example once a week, every hour or different frequencies. Pandas has a ```resample``` method for this purpose."
   ]
  },
  {
   "cell_type": "code",
   "execution_count": 25,
   "id": "fd434a95-70ee-4588-ab48-6fcf5fb322f5",
   "metadata": {
    "execution": {
     "iopub.execute_input": "2023-10-01T20:40:12.531985Z",
     "iopub.status.busy": "2023-10-01T20:40:12.530669Z",
     "iopub.status.idle": "2023-10-01T20:40:12.545939Z",
     "shell.execute_reply": "2023-10-01T20:40:12.543947Z",
     "shell.execute_reply.started": "2023-10-01T20:40:12.531985Z"
    }
   },
   "outputs": [
    {
     "data": {
      "text/plain": [
       "2011-01-02   -0.428575\n",
       "2011-01-05   -1.535101\n",
       "2011-01-07   -1.419514\n",
       "2011-01-08   -2.746065\n",
       "2011-01-10   -0.579593\n",
       "2011-01-12   -2.429800\n",
       "dtype: float64"
      ]
     },
     "execution_count": 25,
     "metadata": {},
     "output_type": "execute_result"
    }
   ],
   "source": [
    "ts"
   ]
  },
  {
   "cell_type": "code",
   "execution_count": 26,
   "id": "1f7fee8d-531c-4f2c-bcf8-e9c2a5789563",
   "metadata": {
    "execution": {
     "iopub.execute_input": "2023-10-01T20:40:12.551667Z",
     "iopub.status.busy": "2023-10-01T20:40:12.550998Z",
     "iopub.status.idle": "2023-10-01T20:40:12.577675Z",
     "shell.execute_reply": "2023-10-01T20:40:12.575713Z",
     "shell.execute_reply.started": "2023-10-01T20:40:12.550998Z"
    }
   },
   "outputs": [
    {
     "data": {
      "text/plain": [
       "<pandas.core.resample.DatetimeIndexResampler object at 0x0000017F673964F0>"
      ]
     },
     "execution_count": 26,
     "metadata": {},
     "output_type": "execute_result"
    }
   ],
   "source": [
    "ts = ts.resample(\"D\") #parameter indicates how to resample\n",
    "ts"
   ]
  },
  {
   "cell_type": "markdown",
   "id": "8b680434-241b-4c87-8f6a-67554b693ab0",
   "metadata": {},
   "source": [
    "```pd.date_range``` can be used to generate large sequences of data starting or ending on a particular date. Also these periods can be a specific number of days or other."
   ]
  },
  {
   "cell_type": "code",
   "execution_count": 27,
   "id": "8b6f6fdf-7eb2-43ba-a83c-44339059dae0",
   "metadata": {
    "execution": {
     "iopub.execute_input": "2023-10-01T20:40:12.580666Z",
     "iopub.status.busy": "2023-10-01T20:40:12.579701Z",
     "iopub.status.idle": "2023-10-01T20:40:12.608948Z",
     "shell.execute_reply": "2023-10-01T20:40:12.605959Z",
     "shell.execute_reply.started": "2023-10-01T20:40:12.580666Z"
    },
    "tags": []
   },
   "outputs": [
    {
     "data": {
      "text/plain": [
       "DatetimeIndex(['2016-12-12', '2016-12-13', '2016-12-14', '2016-12-15',\n",
       "               '2016-12-16', '2016-12-17', '2016-12-18', '2016-12-19',\n",
       "               '2016-12-20', '2016-12-21',\n",
       "               ...\n",
       "               '2017-12-03', '2017-12-04', '2017-12-05', '2017-12-06',\n",
       "               '2017-12-07', '2017-12-08', '2017-12-09', '2017-12-10',\n",
       "               '2017-12-11', '2017-12-12'],\n",
       "              dtype='datetime64[ns]', length=366, freq='D')"
      ]
     },
     "execution_count": 27,
     "metadata": {},
     "output_type": "execute_result"
    }
   ],
   "source": [
    "dates = pd.date_range(\"2016-12-12\", \"2017-12-12\")\n",
    "dates"
   ]
  },
  {
   "cell_type": "code",
   "execution_count": 28,
   "id": "50b60198-dd9a-4251-9ede-7e8c67c3a312",
   "metadata": {
    "execution": {
     "iopub.execute_input": "2023-10-01T20:40:12.620266Z",
     "iopub.status.busy": "2023-10-01T20:40:12.619953Z",
     "iopub.status.idle": "2023-10-01T20:40:12.638948Z",
     "shell.execute_reply": "2023-10-01T20:40:12.636960Z",
     "shell.execute_reply.started": "2023-10-01T20:40:12.620266Z"
    },
    "tags": []
   },
   "outputs": [
    {
     "data": {
      "text/plain": [
       "DatetimeIndex(['2017-01-31', '2017-04-30', '2017-07-31', '2017-10-31'], dtype='datetime64[ns]', freq='Q-JAN')"
      ]
     },
     "execution_count": 28,
     "metadata": {},
     "output_type": "execute_result"
    }
   ],
   "source": [
    "date_quarterly = pd.date_range(\"2016-12-01\", \"2017-12-12\", freq = \"Q-JAN\")\n",
    "date_quarterly"
   ]
  },
  {
   "cell_type": "code",
   "execution_count": 29,
   "id": "2a4eecc6-d5fa-4cf3-beb4-3c00b21f5a8d",
   "metadata": {
    "execution": {
     "iopub.execute_input": "2023-10-01T20:40:12.641042Z",
     "iopub.status.busy": "2023-10-01T20:40:12.639961Z",
     "iopub.status.idle": "2023-10-01T20:40:12.668950Z",
     "shell.execute_reply": "2023-10-01T20:40:12.667950Z",
     "shell.execute_reply.started": "2023-10-01T20:40:12.641042Z"
    },
    "tags": []
   },
   "outputs": [
    {
     "data": {
      "text/plain": [
       "DatetimeIndex(['2018-01-03', '2018-01-04', '2018-01-05', '2018-01-06',\n",
       "               '2018-01-07', '2018-01-08', '2018-01-09', '2018-01-10',\n",
       "               '2018-01-11', '2018-01-12', '2018-01-13', '2018-01-14',\n",
       "               '2018-01-15', '2018-01-16', '2018-01-17', '2018-01-18',\n",
       "               '2018-01-19', '2018-01-20', '2018-01-21', '2018-01-22'],\n",
       "              dtype='datetime64[ns]', freq='D')"
      ]
     },
     "execution_count": 29,
     "metadata": {},
     "output_type": "execute_result"
    }
   ],
   "source": [
    "date_20days = pd.date_range(\"2018-01-03 08:46:21\", periods = 20, normalize = True)\n",
    "date_20days"
   ]
  },
  {
   "cell_type": "code",
   "execution_count": 30,
   "id": "3fd88490-06b5-4971-b09e-ad50a78719ff",
   "metadata": {
    "execution": {
     "iopub.execute_input": "2023-10-01T20:40:12.670953Z",
     "iopub.status.busy": "2023-10-01T20:40:12.669952Z",
     "iopub.status.idle": "2023-10-01T20:40:12.700796Z",
     "shell.execute_reply": "2023-10-01T20:40:12.699947Z",
     "shell.execute_reply.started": "2023-10-01T20:40:12.669952Z"
    },
    "tags": []
   },
   "outputs": [
    {
     "data": {
      "text/plain": [
       "DatetimeIndex(['2023-01-01 00:00:00', '2023-01-01 00:00:15',\n",
       "               '2023-01-01 00:00:30', '2023-01-01 00:00:45',\n",
       "               '2023-01-01 00:01:00', '2023-01-01 00:01:15',\n",
       "               '2023-01-01 00:01:30', '2023-01-01 00:01:45',\n",
       "               '2023-01-01 00:02:00', '2023-01-01 00:02:15',\n",
       "               ...\n",
       "               '2023-01-01 23:56:45', '2023-01-01 23:57:00',\n",
       "               '2023-01-01 23:57:15', '2023-01-01 23:57:30',\n",
       "               '2023-01-01 23:57:45', '2023-01-01 23:58:00',\n",
       "               '2023-01-01 23:58:15', '2023-01-01 23:58:30',\n",
       "               '2023-01-01 23:58:45', '2023-01-01 23:59:00'],\n",
       "              dtype='datetime64[ns]', length=5757, freq='15S')"
      ]
     },
     "execution_count": 30,
     "metadata": {},
     "output_type": "execute_result"
    }
   ],
   "source": [
    "hour = Hour()\n",
    "minute = Minute()\n",
    "second = Second()\n",
    "fifteen_seconds = Second(15)\n",
    "high_freq = pd.date_range(\"2023-01-01\", \"2023-01-01 23:59\",freq = fifteen_seconds)\n",
    "high_freq"
   ]
  },
  {
   "cell_type": "code",
   "execution_count": 31,
   "id": "c220c66a-9b72-414e-94e8-6474237901ca",
   "metadata": {
    "execution": {
     "iopub.execute_input": "2023-10-01T20:40:12.702854Z",
     "iopub.status.busy": "2023-10-01T20:40:12.701814Z",
     "iopub.status.idle": "2023-10-01T20:40:12.717811Z",
     "shell.execute_reply": "2023-10-01T20:40:12.715826Z",
     "shell.execute_reply.started": "2023-10-01T20:40:12.702854Z"
    },
    "tags": []
   },
   "outputs": [
    {
     "name": "stdout",
     "output_type": "stream",
     "text": [
      "Shifting provides us with a way to move data backwards or forwards in time.\n"
     ]
    }
   ],
   "source": [
    "print(\"Shifting provides us with a way to move data backwards or forwards in time.\")"
   ]
  },
  {
   "cell_type": "code",
   "execution_count": 32,
   "id": "af31e262-26d2-4243-8731-ce9c8b9ec90d",
   "metadata": {
    "execution": {
     "iopub.execute_input": "2023-10-01T20:40:12.720813Z",
     "iopub.status.busy": "2023-10-01T20:40:12.719810Z",
     "iopub.status.idle": "2023-10-01T20:40:12.732808Z",
     "shell.execute_reply": "2023-10-01T20:40:12.731959Z",
     "shell.execute_reply.started": "2023-10-01T20:40:12.720813Z"
    },
    "tags": []
   },
   "outputs": [
    {
     "data": {
      "text/plain": [
       "DatetimeIndex(['2015-01-01', '2015-01-02', '2015-01-03', '2015-01-04',\n",
       "               '2015-01-05'],\n",
       "              dtype='datetime64[ns]', freq='D')"
      ]
     },
     "execution_count": 32,
     "metadata": {},
     "output_type": "execute_result"
    }
   ],
   "source": [
    "shifting_example = pd.date_range(\"2015-01-01\", \"2015-01-05\")\n",
    "shifting_example"
   ]
  },
  {
   "cell_type": "code",
   "execution_count": 33,
   "id": "c46cace4-ba1e-4260-b940-2ca6766eba6a",
   "metadata": {
    "execution": {
     "iopub.execute_input": "2023-10-01T20:40:12.734810Z",
     "iopub.status.busy": "2023-10-01T20:40:12.734810Z",
     "iopub.status.idle": "2023-10-01T20:40:12.752809Z",
     "shell.execute_reply": "2023-10-01T20:40:12.747813Z",
     "shell.execute_reply.started": "2023-10-01T20:40:12.734810Z"
    }
   },
   "outputs": [
    {
     "data": {
      "text/plain": [
       "DatetimeIndex(['2015-01-06', '2015-01-07', '2015-01-08', '2015-01-09',\n",
       "               '2015-01-10'],\n",
       "              dtype='datetime64[ns]', freq='D')"
      ]
     },
     "execution_count": 33,
     "metadata": {},
     "output_type": "execute_result"
    }
   ],
   "source": [
    "shifting_example.shift(5)"
   ]
  },
  {
   "cell_type": "code",
   "execution_count": 34,
   "id": "7e1d9de2-cc48-4bd2-9dcc-9add3c8ff60b",
   "metadata": {
    "execution": {
     "iopub.execute_input": "2023-10-01T20:40:12.755815Z",
     "iopub.status.busy": "2023-10-01T20:40:12.755815Z",
     "iopub.status.idle": "2023-10-01T20:40:12.784813Z",
     "shell.execute_reply": "2023-10-01T20:40:12.779928Z",
     "shell.execute_reply.started": "2023-10-01T20:40:12.755815Z"
    },
    "tags": []
   },
   "outputs": [
    {
     "data": {
      "text/plain": [
       "DatetimeIndex(['2014-12-27', '2014-12-28', '2014-12-29', '2014-12-30',\n",
       "               '2014-12-31'],\n",
       "              dtype='datetime64[ns]', freq='D')"
      ]
     },
     "execution_count": 34,
     "metadata": {},
     "output_type": "execute_result"
    }
   ],
   "source": [
    "shifting_example.shift(-5)"
   ]
  },
  {
   "cell_type": "code",
   "execution_count": 35,
   "id": "58ea650c-2f3d-49f0-96fc-00995f061add",
   "metadata": {
    "execution": {
     "iopub.execute_input": "2023-10-01T20:40:12.786811Z",
     "iopub.status.busy": "2023-10-01T20:40:12.786811Z",
     "iopub.status.idle": "2023-10-01T20:40:12.812947Z",
     "shell.execute_reply": "2023-10-01T20:40:12.810317Z",
     "shell.execute_reply.started": "2023-10-01T20:40:12.786811Z"
    },
    "tags": []
   },
   "outputs": [
    {
     "data": {
      "text/plain": [
       "2015-01-01    1\n",
       "2015-01-02    2\n",
       "2015-01-03    3\n",
       "2015-01-04    4\n",
       "2015-01-05    5\n",
       "Freq: D, dtype: int64"
      ]
     },
     "execution_count": 35,
     "metadata": {},
     "output_type": "execute_result"
    }
   ],
   "source": [
    "series_shifting = pd.Series([1,2,3,4,5], index = shifting_example)\n",
    "series_shifting"
   ]
  },
  {
   "cell_type": "markdown",
   "id": "5b307e4e-a06e-4ceb-af91-a02d9221e355",
   "metadata": {},
   "source": [
    "An interesting trick is to compute how much percentage wise has a timeseries valu changed, based on a shift."
   ]
  },
  {
   "cell_type": "code",
   "execution_count": 36,
   "id": "efe9c2ab-ff5b-42c2-b623-49333d08f9bf",
   "metadata": {
    "execution": {
     "iopub.execute_input": "2023-10-01T20:40:12.817928Z",
     "iopub.status.busy": "2023-10-01T20:40:12.816916Z",
     "iopub.status.idle": "2023-10-01T20:40:12.842932Z",
     "shell.execute_reply": "2023-10-01T20:40:12.841913Z",
     "shell.execute_reply.started": "2023-10-01T20:40:12.817928Z"
    },
    "tags": []
   },
   "outputs": [
    {
     "data": {
      "text/plain": [
       "2015-01-01           NaN\n",
       "2015-01-02    100.000000\n",
       "2015-01-03     50.000000\n",
       "2015-01-04     33.333333\n",
       "2015-01-05     25.000000\n",
       "Freq: D, dtype: float64"
      ]
     },
     "execution_count": 36,
     "metadata": {},
     "output_type": "execute_result"
    }
   ],
   "source": [
    "percentage = (series_shifting / series_shifting.shift(1) - 1) * 100\n",
    "percentage"
   ]
  },
  {
   "cell_type": "code",
   "execution_count": null,
   "id": "9be4d8eb-b018-40b3-9790-e5e023737996",
   "metadata": {},
   "outputs": [],
   "source": []
  }
 ],
 "metadata": {
  "kernelspec": {
   "display_name": "Python 3",
   "language": "python",
   "name": "python3"
  },
  "language_info": {
   "codemirror_mode": {
    "name": "ipython",
    "version": 3
   },
   "file_extension": ".py",
   "mimetype": "text/x-python",
   "name": "python",
   "nbconvert_exporter": "python",
   "pygments_lexer": "ipython3",
   "version": "3.9.13"
  }
 },
 "nbformat": 4,
 "nbformat_minor": 5
}
