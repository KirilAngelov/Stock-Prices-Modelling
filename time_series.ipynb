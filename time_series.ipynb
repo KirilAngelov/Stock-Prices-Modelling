{
 "cells": [
  {
   "cell_type": "code",
   "execution_count": 1,
   "id": "a7e95dec-48e2-402c-a46f-7e48cf464787",
   "metadata": {
    "execution": {
     "iopub.execute_input": "2023-10-02T19:16:17.512148Z",
     "iopub.status.busy": "2023-10-02T19:16:17.509122Z",
     "iopub.status.idle": "2023-10-02T19:16:18.204786Z",
     "shell.execute_reply": "2023-10-02T19:16:18.203898Z",
     "shell.execute_reply.started": "2023-10-02T19:16:17.511134Z"
    },
    "tags": []
   },
   "outputs": [],
   "source": [
    "import numpy as np\n",
    "import pandas as pd\n",
    "import pytz\n",
    "from datetime import datetime, timedelta\n",
    "from pandas.tseries.offsets import Hour, Minute, Second\n",
    "from pandas.tseries.offsets import Day, MonthEnd"
   ]
  },
  {
   "cell_type": "markdown",
   "id": "d3b32b96-6d7e-4291-b41a-dad794bed8f8",
   "metadata": {},
   "source": [
    "### Basic date manipulations in Python\n",
    "\n",
    "Python supports a datetime module which has several functionalitites:\n",
    "1. Datetime objects representing a specific date in time with years, months and days\n",
    "2. Addition and substraction of datetime objects\n",
    "3. Format datetime objects based on different format specification\n",
    "\n",
    "Pandas supports handling of null value timestampts with its NaT which stands for Not a Time."
   ]
  },
  {
   "cell_type": "code",
   "execution_count": 2,
   "id": "512188ca-e3e8-4cc9-a45f-685275f231cf",
   "metadata": {
    "execution": {
     "iopub.execute_input": "2023-10-02T19:16:18.205786Z",
     "iopub.status.busy": "2023-10-02T19:16:18.204786Z",
     "iopub.status.idle": "2023-10-02T19:16:18.220785Z",
     "shell.execute_reply": "2023-10-02T19:16:18.219783Z",
     "shell.execute_reply.started": "2023-10-02T19:16:18.205786Z"
    },
    "tags": []
   },
   "outputs": [
    {
     "data": {
      "text/plain": [
       "datetime.datetime(2023, 10, 2, 22, 16, 18, 206782)"
      ]
     },
     "execution_count": 2,
     "metadata": {},
     "output_type": "execute_result"
    }
   ],
   "source": [
    "current_date = datetime.now()\n",
    "current_date"
   ]
  },
  {
   "cell_type": "code",
   "execution_count": 3,
   "id": "5ce89368-7f7f-4b59-add9-9a0737c094eb",
   "metadata": {
    "execution": {
     "iopub.execute_input": "2023-10-02T19:16:18.221783Z",
     "iopub.status.busy": "2023-10-02T19:16:18.221783Z",
     "iopub.status.idle": "2023-10-02T19:16:18.236791Z",
     "shell.execute_reply": "2023-10-02T19:16:18.235789Z",
     "shell.execute_reply.started": "2023-10-02T19:16:18.221783Z"
    },
    "tags": []
   },
   "outputs": [
    {
     "data": {
      "text/plain": [
       "(2023, 10, 2)"
      ]
     },
     "execution_count": 3,
     "metadata": {},
     "output_type": "execute_result"
    }
   ],
   "source": [
    "current_date.year, current_date.month, current_date.day"
   ]
  },
  {
   "cell_type": "code",
   "execution_count": 4,
   "id": "0bd31945-8a4c-4b6b-8500-2bf43097bcda",
   "metadata": {
    "execution": {
     "iopub.execute_input": "2023-10-02T19:16:18.242789Z",
     "iopub.status.busy": "2023-10-02T19:16:18.242789Z",
     "iopub.status.idle": "2023-10-02T19:16:18.252784Z",
     "shell.execute_reply": "2023-10-02T19:16:18.251783Z",
     "shell.execute_reply.started": "2023-10-02T19:16:18.242789Z"
    },
    "tags": []
   },
   "outputs": [
    {
     "data": {
      "text/plain": [
       "datetime.timedelta(days=5575, seconds=56700)"
      ]
     },
     "execution_count": 4,
     "metadata": {},
     "output_type": "execute_result"
    }
   ],
   "source": [
    "delta = datetime(2019, 1, 7) - datetime(2003, 10, 2, 8, 15)\n",
    "delta"
   ]
  },
  {
   "cell_type": "code",
   "execution_count": 5,
   "id": "c1f65b83-6f1c-48ac-a6b5-70c775698b66",
   "metadata": {
    "execution": {
     "iopub.execute_input": "2023-10-02T19:16:18.253789Z",
     "iopub.status.busy": "2023-10-02T19:16:18.253789Z",
     "iopub.status.idle": "2023-10-02T19:16:18.283791Z",
     "shell.execute_reply": "2023-10-02T19:16:18.282812Z",
     "shell.execute_reply.started": "2023-10-02T19:16:18.253789Z"
    },
    "tags": []
   },
   "outputs": [
    {
     "data": {
      "text/plain": [
       "datetime.timedelta(days=5585, seconds=56700)"
      ]
     },
     "execution_count": 5,
     "metadata": {},
     "output_type": "execute_result"
    }
   ],
   "source": [
    "delta = delta + timedelta(10)\n",
    "delta"
   ]
  },
  {
   "cell_type": "code",
   "execution_count": 6,
   "id": "a9a03a15-8ad1-42c8-aa60-ecd6f2fef703",
   "metadata": {
    "execution": {
     "iopub.execute_input": "2023-10-02T19:16:18.285790Z",
     "iopub.status.busy": "2023-10-02T19:16:18.284790Z",
     "iopub.status.idle": "2023-10-02T19:16:18.298791Z",
     "shell.execute_reply": "2023-10-02T19:16:18.297818Z",
     "shell.execute_reply.started": "2023-10-02T19:16:18.285790Z"
    },
    "tags": []
   },
   "outputs": [
    {
     "name": "stdout",
     "output_type": "stream",
     "text": [
      "2011-01-03 00:00:00\n"
     ]
    }
   ],
   "source": [
    "stamp = datetime(2011,1,3)\n",
    "print(str(stamp))"
   ]
  },
  {
   "cell_type": "code",
   "execution_count": 7,
   "id": "beaf174c-b1f9-4d5b-92bb-2f4a7b3acd65",
   "metadata": {
    "execution": {
     "iopub.execute_input": "2023-10-02T19:16:18.300790Z",
     "iopub.status.busy": "2023-10-02T19:16:18.300790Z",
     "iopub.status.idle": "2023-10-02T19:16:18.315787Z",
     "shell.execute_reply": "2023-10-02T19:16:18.313795Z",
     "shell.execute_reply.started": "2023-10-02T19:16:18.300790Z"
    },
    "tags": []
   },
   "outputs": [
    {
     "data": {
      "text/plain": [
       "'01/03/11'"
      ]
     },
     "execution_count": 7,
     "metadata": {},
     "output_type": "execute_result"
    }
   ],
   "source": [
    "stamp = stamp.strftime(\"%D\")\n",
    "stamp"
   ]
  },
  {
   "cell_type": "code",
   "execution_count": 8,
   "id": "e5a378eb-a89f-458c-b27e-d5142fd69b8b",
   "metadata": {
    "execution": {
     "iopub.execute_input": "2023-10-02T19:16:18.321827Z",
     "iopub.status.busy": "2023-10-02T19:16:18.318796Z",
     "iopub.status.idle": "2023-10-02T19:16:18.346785Z",
     "shell.execute_reply": "2023-10-02T19:16:18.345789Z",
     "shell.execute_reply.started": "2023-10-02T19:16:18.321827Z"
    },
    "tags": []
   },
   "outputs": [
    {
     "data": {
      "text/plain": [
       "datetime.datetime(2011, 1, 3, 0, 0)"
      ]
     },
     "execution_count": 8,
     "metadata": {},
     "output_type": "execute_result"
    }
   ],
   "source": [
    "value = \"2011-01-03\"\n",
    "datetime.strptime(value, \"%Y-%m-%d\")"
   ]
  },
  {
   "cell_type": "code",
   "execution_count": 9,
   "id": "56342b9c-0536-4dce-ab9f-eb4fc0993df3",
   "metadata": {
    "execution": {
     "iopub.execute_input": "2023-10-02T19:16:18.348786Z",
     "iopub.status.busy": "2023-10-02T19:16:18.348786Z",
     "iopub.status.idle": "2023-10-02T19:16:18.362790Z",
     "shell.execute_reply": "2023-10-02T19:16:18.361785Z",
     "shell.execute_reply.started": "2023-10-02T19:16:18.348786Z"
    },
    "tags": []
   },
   "outputs": [
    {
     "data": {
      "text/plain": [
       "DatetimeIndex(['2015-03-18', '1996-07-03', 'NaT'], dtype='datetime64[ns]', freq=None)"
      ]
     },
     "execution_count": 9,
     "metadata": {},
     "output_type": "execute_result"
    }
   ],
   "source": [
    "dates_arr = [\"2015-03-18\", \"1996-07-03\", None]\n",
    "datetime_index = pd.to_datetime(dates_arr)\n",
    "datetime_index"
   ]
  },
  {
   "cell_type": "markdown",
   "id": "0771156f-d085-47e3-8fa5-35b74dce22fd",
   "metadata": {},
   "source": [
    "### Time Series in Pandas\n",
    "\n",
    "Times series are essentially an a Pandas series with its index set to the timestamps. \n",
    "\n",
    "Timestamps show the specific value of something in that time. For now we will just fill the values with random ones"
   ]
  },
  {
   "cell_type": "code",
   "execution_count": 10,
   "id": "cd1a4f70-4e1f-40bd-8462-2e414b32c027",
   "metadata": {
    "execution": {
     "iopub.execute_input": "2023-10-02T19:16:18.364786Z",
     "iopub.status.busy": "2023-10-02T19:16:18.363789Z",
     "iopub.status.idle": "2023-10-02T19:16:18.395788Z",
     "shell.execute_reply": "2023-10-02T19:16:18.393786Z",
     "shell.execute_reply.started": "2023-10-02T19:16:18.363789Z"
    },
    "tags": []
   },
   "outputs": [
    {
     "data": {
      "text/plain": [
       "2011-01-02    1.220327\n",
       "2011-01-05   -1.057032\n",
       "2011-01-07    0.229131\n",
       "2011-01-08    0.930194\n",
       "2011-01-10   -1.711029\n",
       "2011-01-12    2.300997\n",
       "dtype: float64"
      ]
     },
     "execution_count": 10,
     "metadata": {},
     "output_type": "execute_result"
    }
   ],
   "source": [
    "dates = [datetime(2011, 1, 2), datetime(2011, 1, 5),\n",
    "         datetime(2011, 1, 7), datetime(2011, 1, 8),\n",
    "         datetime(2011, 1, 10), datetime(2011, 1, 12)]\n",
    "ts = pd.Series(np.random.standard_normal(6), index = dates)\n",
    "ts"
   ]
  },
  {
   "cell_type": "code",
   "execution_count": 11,
   "id": "ceade226-2edb-4f66-8905-9bba2ec52a23",
   "metadata": {
    "execution": {
     "iopub.execute_input": "2023-10-02T19:16:18.398789Z",
     "iopub.status.busy": "2023-10-02T19:16:18.397787Z",
     "iopub.status.idle": "2023-10-02T19:16:18.410785Z",
     "shell.execute_reply": "2023-10-02T19:16:18.409803Z",
     "shell.execute_reply.started": "2023-10-02T19:16:18.398789Z"
    },
    "tags": []
   },
   "outputs": [
    {
     "data": {
      "text/plain": [
       "DatetimeIndex(['2011-01-02', '2011-01-05', '2011-01-07', '2011-01-08',\n",
       "               '2011-01-10', '2011-01-12'],\n",
       "              dtype='datetime64[ns]', freq=None)"
      ]
     },
     "execution_count": 11,
     "metadata": {},
     "output_type": "execute_result"
    }
   ],
   "source": [
    "ts.index"
   ]
  },
  {
   "cell_type": "markdown",
   "id": "cdb7ff4f-31d8-49e7-a116-630e42a5e111",
   "metadata": {},
   "source": [
    "The same things for regular Pandas series apply here, operations are broadcast and we can also select a value by using the date as an index in our timeseries."
   ]
  },
  {
   "cell_type": "code",
   "execution_count": 12,
   "id": "527a5b01-0a06-43b9-a769-253b0c7a14b2",
   "metadata": {
    "execution": {
     "iopub.execute_input": "2023-10-02T19:16:18.413789Z",
     "iopub.status.busy": "2023-10-02T19:16:18.412791Z",
     "iopub.status.idle": "2023-10-02T19:16:18.428792Z",
     "shell.execute_reply": "2023-10-02T19:16:18.426811Z",
     "shell.execute_reply.started": "2023-10-02T19:16:18.412791Z"
    },
    "tags": []
   },
   "outputs": [
    {
     "data": {
      "text/plain": [
       "2011-01-02    2.440654\n",
       "2011-01-05   -2.114065\n",
       "2011-01-07    0.458263\n",
       "2011-01-08    1.860388\n",
       "2011-01-10   -3.422058\n",
       "2011-01-12    4.601994\n",
       "dtype: float64"
      ]
     },
     "execution_count": 12,
     "metadata": {},
     "output_type": "execute_result"
    }
   ],
   "source": [
    "ts = ts*2\n",
    "ts"
   ]
  },
  {
   "cell_type": "code",
   "execution_count": 13,
   "id": "ae43b52c-855d-477b-b803-350830706042",
   "metadata": {
    "execution": {
     "iopub.execute_input": "2023-10-02T19:16:18.430790Z",
     "iopub.status.busy": "2023-10-02T19:16:18.430790Z",
     "iopub.status.idle": "2023-10-02T19:16:18.442790Z",
     "shell.execute_reply": "2023-10-02T19:16:18.441791Z",
     "shell.execute_reply.started": "2023-10-02T19:16:18.430790Z"
    },
    "tags": []
   },
   "outputs": [
    {
     "data": {
      "text/plain": [
       "4.601993738973464"
      ]
     },
     "execution_count": 13,
     "metadata": {},
     "output_type": "execute_result"
    }
   ],
   "source": [
    "ts[\"2011-01-12\"]"
   ]
  },
  {
   "cell_type": "markdown",
   "id": "6e004ce1-1a89-463c-a973-cdfaceb1cda7",
   "metadata": {},
   "source": [
    "Something more interesting is when we are manipulating a big timeseries. We will use ```pd.date_range``` for the creation of our timeseries. Let's demonstrate selecting months and slicing."
   ]
  },
  {
   "cell_type": "code",
   "execution_count": 14,
   "id": "5accb7d6-9594-4d50-b480-bba0625a12de",
   "metadata": {
    "execution": {
     "iopub.execute_input": "2023-10-02T19:16:18.444788Z",
     "iopub.status.busy": "2023-10-02T19:16:18.444788Z",
     "iopub.status.idle": "2023-10-02T19:16:18.458785Z",
     "shell.execute_reply": "2023-10-02T19:16:18.457787Z",
     "shell.execute_reply.started": "2023-10-02T19:16:18.444788Z"
    },
    "tags": []
   },
   "outputs": [],
   "source": [
    "longer_ts = pd.Series(np.random.standard_normal(1000),index = pd.date_range(\"2000-01-01\", periods = 1000))\n"
   ]
  },
  {
   "cell_type": "code",
   "execution_count": 15,
   "id": "70cc1726-8c17-4791-8e1a-7673345ba32b",
   "metadata": {
    "execution": {
     "iopub.execute_input": "2023-10-02T19:16:18.460788Z",
     "iopub.status.busy": "2023-10-02T19:16:18.460788Z",
     "iopub.status.idle": "2023-10-02T19:16:18.490793Z",
     "shell.execute_reply": "2023-10-02T19:16:18.489787Z",
     "shell.execute_reply.started": "2023-10-02T19:16:18.460788Z"
    },
    "tags": []
   },
   "outputs": [
    {
     "data": {
      "text/plain": [
       "2001-03-04   -0.527597\n",
       "2001-03-05   -1.211596\n",
       "2001-03-06    0.622887\n",
       "2001-03-07    0.292985\n",
       "2001-03-08    1.321900\n",
       "                ...   \n",
       "2002-02-28   -0.627686\n",
       "2002-03-01    1.264150\n",
       "2002-03-02    1.028213\n",
       "2002-03-03    1.601282\n",
       "2002-03-04    0.088177\n",
       "Freq: D, Length: 366, dtype: float64"
      ]
     },
     "execution_count": 15,
     "metadata": {},
     "output_type": "execute_result"
    }
   ],
   "source": [
    "longer_ts[\"2001-03-04\" : \"2002-03-04\"]"
   ]
  },
  {
   "cell_type": "code",
   "execution_count": 16,
   "id": "58596b6d-9945-4ef7-a06c-c367fcf766e5",
   "metadata": {
    "execution": {
     "iopub.execute_input": "2023-10-02T19:16:18.492786Z",
     "iopub.status.busy": "2023-10-02T19:16:18.492786Z",
     "iopub.status.idle": "2023-10-02T19:16:18.521790Z",
     "shell.execute_reply": "2023-10-02T19:16:18.520788Z",
     "shell.execute_reply.started": "2023-10-02T19:16:18.492786Z"
    }
   },
   "outputs": [
    {
     "data": {
      "text/plain": [
       "2000-03-04   -0.975578\n",
       "2000-03-05    0.509179\n",
       "2000-03-06    0.624847\n",
       "2000-03-07    0.130119\n",
       "2000-03-08   -0.394621\n",
       "                ...   \n",
       "2001-12-28    0.479291\n",
       "2001-12-29    0.140200\n",
       "2001-12-30   -0.712504\n",
       "2001-12-31    1.391901\n",
       "2002-01-01    0.522234\n",
       "Freq: D, Length: 669, dtype: float64"
      ]
     },
     "execution_count": 16,
     "metadata": {},
     "output_type": "execute_result"
    }
   ],
   "source": [
    "longer_ts[datetime(2000,3,4): datetime(2002,1,1)]"
   ]
  },
  {
   "cell_type": "markdown",
   "id": "85c59fb0-6139-434e-b1b1-f40a7032f4d6",
   "metadata": {},
   "source": [
    "We can also slice with timestamps that are not present in our timeseries."
   ]
  },
  {
   "cell_type": "code",
   "execution_count": 17,
   "id": "0429cced-6ff8-4df7-aa38-f0bd83579f13",
   "metadata": {
    "execution": {
     "iopub.execute_input": "2023-10-02T19:16:18.523787Z",
     "iopub.status.busy": "2023-10-02T19:16:18.523787Z",
     "iopub.status.idle": "2023-10-02T19:16:18.538785Z",
     "shell.execute_reply": "2023-10-02T19:16:18.536791Z",
     "shell.execute_reply.started": "2023-10-02T19:16:18.523787Z"
    }
   },
   "outputs": [
    {
     "data": {
      "text/plain": [
       "2011-01-02    2.440654\n",
       "2011-01-05   -2.114065\n",
       "2011-01-07    0.458263\n",
       "2011-01-08    1.860388\n",
       "2011-01-10   -3.422058\n",
       "2011-01-12    4.601994\n",
       "dtype: float64"
      ]
     },
     "execution_count": 17,
     "metadata": {},
     "output_type": "execute_result"
    }
   ],
   "source": [
    "ts"
   ]
  },
  {
   "cell_type": "code",
   "execution_count": 18,
   "id": "3fa88aab-29f3-46bb-891c-9ddb9337fb44",
   "metadata": {
    "execution": {
     "iopub.execute_input": "2023-10-02T19:16:18.540789Z",
     "iopub.status.busy": "2023-10-02T19:16:18.540789Z",
     "iopub.status.idle": "2023-10-02T19:16:18.568786Z",
     "shell.execute_reply": "2023-10-02T19:16:18.567786Z",
     "shell.execute_reply.started": "2023-10-02T19:16:18.540789Z"
    }
   },
   "outputs": [
    {
     "data": {
      "text/plain": [
       "2011-01-07    0.458263\n",
       "2011-01-08    1.860388\n",
       "2011-01-10   -3.422058\n",
       "dtype: float64"
      ]
     },
     "execution_count": 18,
     "metadata": {},
     "output_type": "execute_result"
    }
   ],
   "source": [
    "ts[\"2011-01-06\":\"2011-01-11\"]"
   ]
  },
  {
   "cell_type": "code",
   "execution_count": 19,
   "id": "302626ed-b0e4-4e0d-8378-1ae08896594b",
   "metadata": {
    "execution": {
     "iopub.execute_input": "2023-10-02T19:16:18.575790Z",
     "iopub.status.busy": "2023-10-02T19:16:18.575790Z",
     "iopub.status.idle": "2023-10-02T19:16:18.599789Z",
     "shell.execute_reply": "2023-10-02T19:16:18.598787Z",
     "shell.execute_reply.started": "2023-10-02T19:16:18.575790Z"
    },
    "tags": []
   },
   "outputs": [
    {
     "data": {
      "text/plain": [
       "2011-01-02    2.440654\n",
       "dtype: float64"
      ]
     },
     "execution_count": 19,
     "metadata": {},
     "output_type": "execute_result"
    }
   ],
   "source": [
    "ts.truncate(after = \"2011-01-04\") #truncate based on the date provided, here we select everything after the provided date"
   ]
  },
  {
   "cell_type": "code",
   "execution_count": 20,
   "id": "f54a87b3-c42c-4b8f-b273-62242a67b4f3",
   "metadata": {
    "execution": {
     "iopub.execute_input": "2023-10-02T19:16:18.602789Z",
     "iopub.status.busy": "2023-10-02T19:16:18.601790Z",
     "iopub.status.idle": "2023-10-02T19:16:18.646801Z",
     "shell.execute_reply": "2023-10-02T19:16:18.645787Z",
     "shell.execute_reply.started": "2023-10-02T19:16:18.602789Z"
    },
    "tags": []
   },
   "outputs": [
    {
     "data": {
      "text/html": [
       "<div>\n",
       "<style scoped>\n",
       "    .dataframe tbody tr th:only-of-type {\n",
       "        vertical-align: middle;\n",
       "    }\n",
       "\n",
       "    .dataframe tbody tr th {\n",
       "        vertical-align: top;\n",
       "    }\n",
       "\n",
       "    .dataframe thead th {\n",
       "        text-align: right;\n",
       "    }\n",
       "</style>\n",
       "<table border=\"1\" class=\"dataframe\">\n",
       "  <thead>\n",
       "    <tr style=\"text-align: right;\">\n",
       "      <th></th>\n",
       "      <th>Tokyo</th>\n",
       "      <th>Montreal</th>\n",
       "      <th>Madrid</th>\n",
       "      <th>London</th>\n",
       "    </tr>\n",
       "  </thead>\n",
       "  <tbody>\n",
       "    <tr>\n",
       "      <th>2000-01-05</th>\n",
       "      <td>-0.646853</td>\n",
       "      <td>-0.343833</td>\n",
       "      <td>-1.926051</td>\n",
       "      <td>-0.574718</td>\n",
       "    </tr>\n",
       "    <tr>\n",
       "      <th>2000-01-12</th>\n",
       "      <td>-0.956370</td>\n",
       "      <td>0.393256</td>\n",
       "      <td>-0.784467</td>\n",
       "      <td>0.957365</td>\n",
       "    </tr>\n",
       "    <tr>\n",
       "      <th>2000-01-19</th>\n",
       "      <td>-1.164328</td>\n",
       "      <td>-1.514412</td>\n",
       "      <td>0.829060</td>\n",
       "      <td>0.211351</td>\n",
       "    </tr>\n",
       "    <tr>\n",
       "      <th>2000-01-26</th>\n",
       "      <td>-0.272980</td>\n",
       "      <td>2.260282</td>\n",
       "      <td>1.501285</td>\n",
       "      <td>2.419184</td>\n",
       "    </tr>\n",
       "    <tr>\n",
       "      <th>2000-02-02</th>\n",
       "      <td>0.643508</td>\n",
       "      <td>-0.610025</td>\n",
       "      <td>-1.860355</td>\n",
       "      <td>-0.655078</td>\n",
       "    </tr>\n",
       "    <tr>\n",
       "      <th>...</th>\n",
       "      <td>...</td>\n",
       "      <td>...</td>\n",
       "      <td>...</td>\n",
       "      <td>...</td>\n",
       "    </tr>\n",
       "    <tr>\n",
       "      <th>2001-10-31</th>\n",
       "      <td>-0.650916</td>\n",
       "      <td>0.242820</td>\n",
       "      <td>-0.050783</td>\n",
       "      <td>0.665412</td>\n",
       "    </tr>\n",
       "    <tr>\n",
       "      <th>2001-11-07</th>\n",
       "      <td>-0.045285</td>\n",
       "      <td>-1.080848</td>\n",
       "      <td>1.819835</td>\n",
       "      <td>1.092263</td>\n",
       "    </tr>\n",
       "    <tr>\n",
       "      <th>2001-11-14</th>\n",
       "      <td>-1.289246</td>\n",
       "      <td>0.441228</td>\n",
       "      <td>0.152442</td>\n",
       "      <td>-0.793646</td>\n",
       "    </tr>\n",
       "    <tr>\n",
       "      <th>2001-11-21</th>\n",
       "      <td>0.436082</td>\n",
       "      <td>-0.526629</td>\n",
       "      <td>0.107992</td>\n",
       "      <td>-0.464209</td>\n",
       "    </tr>\n",
       "    <tr>\n",
       "      <th>2001-11-28</th>\n",
       "      <td>1.554871</td>\n",
       "      <td>-0.772685</td>\n",
       "      <td>-0.227054</td>\n",
       "      <td>1.070344</td>\n",
       "    </tr>\n",
       "  </tbody>\n",
       "</table>\n",
       "<p>100 rows × 4 columns</p>\n",
       "</div>"
      ],
      "text/plain": [
       "               Tokyo  Montreal    Madrid    London\n",
       "2000-01-05 -0.646853 -0.343833 -1.926051 -0.574718\n",
       "2000-01-12 -0.956370  0.393256 -0.784467  0.957365\n",
       "2000-01-19 -1.164328 -1.514412  0.829060  0.211351\n",
       "2000-01-26 -0.272980  2.260282  1.501285  2.419184\n",
       "2000-02-02  0.643508 -0.610025 -1.860355 -0.655078\n",
       "...              ...       ...       ...       ...\n",
       "2001-10-31 -0.650916  0.242820 -0.050783  0.665412\n",
       "2001-11-07 -0.045285 -1.080848  1.819835  1.092263\n",
       "2001-11-14 -1.289246  0.441228  0.152442 -0.793646\n",
       "2001-11-21  0.436082 -0.526629  0.107992 -0.464209\n",
       "2001-11-28  1.554871 -0.772685 -0.227054  1.070344\n",
       "\n",
       "[100 rows x 4 columns]"
      ]
     },
     "execution_count": 20,
     "metadata": {},
     "output_type": "execute_result"
    }
   ],
   "source": [
    "dates = pd.date_range(\"2000-01-01\", periods = 100, freq = \"W-WED\")\n",
    "df_towns = pd.DataFrame(np.random.standard_normal((100,4)), index = dates, columns = [\"Tokyo\", \"Montreal\", \"Madrid\", \"London\"])\n",
    "df_towns"
   ]
  },
  {
   "cell_type": "code",
   "execution_count": 21,
   "id": "751339b6-b211-4e06-aa16-9f2b6f432c59",
   "metadata": {
    "execution": {
     "iopub.execute_input": "2023-10-02T19:16:18.649788Z",
     "iopub.status.busy": "2023-10-02T19:16:18.649788Z",
     "iopub.status.idle": "2023-10-02T19:16:18.662786Z",
     "shell.execute_reply": "2023-10-02T19:16:18.661785Z",
     "shell.execute_reply.started": "2023-10-02T19:16:18.649788Z"
    },
    "tags": []
   },
   "outputs": [
    {
     "data": {
      "text/plain": [
       "Tokyo      -0.650916\n",
       "Montreal    0.242820\n",
       "Madrid     -0.050783\n",
       "London      0.665412\n",
       "Name: 2001-10-31 00:00:00, dtype: float64"
      ]
     },
     "execution_count": 21,
     "metadata": {},
     "output_type": "execute_result"
    }
   ],
   "source": [
    "df_towns.loc[\"2001-10-31\"]"
   ]
  },
  {
   "cell_type": "markdown",
   "id": "eaefa38e-3921-45ef-8b3d-82905be7d1a0",
   "metadata": {},
   "source": [
    "### Working with duplicates"
   ]
  },
  {
   "cell_type": "code",
   "execution_count": 22,
   "id": "c9553ed9-ecca-4c66-889b-88bbc15a5055",
   "metadata": {
    "execution": {
     "iopub.execute_input": "2023-10-02T19:16:18.665786Z",
     "iopub.status.busy": "2023-10-02T19:16:18.665786Z",
     "iopub.status.idle": "2023-10-02T19:16:18.677788Z",
     "shell.execute_reply": "2023-10-02T19:16:18.676787Z",
     "shell.execute_reply.started": "2023-10-02T19:16:18.665786Z"
    }
   },
   "outputs": [
    {
     "data": {
      "text/plain": [
       "2000-01-01    1\n",
       "2000-01-02    2\n",
       "2000-01-02    3\n",
       "2000-01-02    3\n",
       "2000-01-03    4\n",
       "dtype: int64"
      ]
     },
     "execution_count": 22,
     "metadata": {},
     "output_type": "execute_result"
    }
   ],
   "source": [
    "dates = pd.DatetimeIndex([\"2000-01-01\", \"2000-01-02\", \"2000-01-02\",\"2000-01-02\", \"2000-01-03\"])\n",
    "duplicates = pd.Series(data = [1,2,3,3,4], index = dates)\n",
    "duplicates"
   ]
  },
  {
   "cell_type": "code",
   "execution_count": 23,
   "id": "f035a3bd-4dfd-4fee-a78d-155ceb03e86d",
   "metadata": {
    "execution": {
     "iopub.execute_input": "2023-10-02T19:16:18.679785Z",
     "iopub.status.busy": "2023-10-02T19:16:18.678785Z",
     "iopub.status.idle": "2023-10-02T19:16:18.707785Z",
     "shell.execute_reply": "2023-10-02T19:16:18.706788Z",
     "shell.execute_reply.started": "2023-10-02T19:16:18.679785Z"
    }
   },
   "outputs": [
    {
     "data": {
      "text/plain": [
       "2000-01-02    2\n",
       "2000-01-02    3\n",
       "2000-01-02    3\n",
       "dtype: int64"
      ]
     },
     "execution_count": 23,
     "metadata": {},
     "output_type": "execute_result"
    }
   ],
   "source": [
    "duplicates[\"2000-01-02\"]"
   ]
  },
  {
   "cell_type": "code",
   "execution_count": 24,
   "id": "884a29df-e000-4b08-b016-c8f9b00dcdca",
   "metadata": {
    "execution": {
     "iopub.execute_input": "2023-10-02T19:16:18.709786Z",
     "iopub.status.busy": "2023-10-02T19:16:18.708789Z",
     "iopub.status.idle": "2023-10-02T19:16:18.724790Z",
     "shell.execute_reply": "2023-10-02T19:16:18.723812Z",
     "shell.execute_reply.started": "2023-10-02T19:16:18.709786Z"
    }
   },
   "outputs": [
    {
     "data": {
      "text/plain": [
       "2000-01-01    1.000000\n",
       "2000-01-02    2.666667\n",
       "2000-01-03    4.000000\n",
       "dtype: float64"
      ]
     },
     "execution_count": 24,
     "metadata": {},
     "output_type": "execute_result"
    }
   ],
   "source": [
    "duplicates.groupby(level = 0).mean()"
   ]
  },
  {
   "cell_type": "markdown",
   "id": "9b47e39a-8a99-49d6-93c7-669d6a58d334",
   "metadata": {},
   "source": [
    "### Working with frequencies\n",
    "When working with time series, we have many options for frequencies. For example once a week, every hour or different frequencies. Pandas has a ```resample``` method for this purpose."
   ]
  },
  {
   "cell_type": "code",
   "execution_count": 25,
   "id": "fd434a95-70ee-4588-ab48-6fcf5fb322f5",
   "metadata": {
    "execution": {
     "iopub.execute_input": "2023-10-02T19:16:18.727785Z",
     "iopub.status.busy": "2023-10-02T19:16:18.726790Z",
     "iopub.status.idle": "2023-10-02T19:16:18.752788Z",
     "shell.execute_reply": "2023-10-02T19:16:18.751786Z",
     "shell.execute_reply.started": "2023-10-02T19:16:18.727785Z"
    }
   },
   "outputs": [
    {
     "data": {
      "text/plain": [
       "2011-01-02    2.440654\n",
       "2011-01-05   -2.114065\n",
       "2011-01-07    0.458263\n",
       "2011-01-08    1.860388\n",
       "2011-01-10   -3.422058\n",
       "2011-01-12    4.601994\n",
       "dtype: float64"
      ]
     },
     "execution_count": 25,
     "metadata": {},
     "output_type": "execute_result"
    }
   ],
   "source": [
    "ts"
   ]
  },
  {
   "cell_type": "code",
   "execution_count": 26,
   "id": "1f7fee8d-531c-4f2c-bcf8-e9c2a5789563",
   "metadata": {
    "execution": {
     "iopub.execute_input": "2023-10-02T19:16:18.754810Z",
     "iopub.status.busy": "2023-10-02T19:16:18.753788Z",
     "iopub.status.idle": "2023-10-02T19:16:18.783787Z",
     "shell.execute_reply": "2023-10-02T19:16:18.782786Z",
     "shell.execute_reply.started": "2023-10-02T19:16:18.754810Z"
    }
   },
   "outputs": [
    {
     "data": {
      "text/plain": [
       "<pandas.core.resample.DatetimeIndexResampler object at 0x000002C2D14E0640>"
      ]
     },
     "execution_count": 26,
     "metadata": {},
     "output_type": "execute_result"
    }
   ],
   "source": [
    "ts = ts.resample(\"D\") #parameter indicates how to resample\n",
    "ts"
   ]
  },
  {
   "cell_type": "markdown",
   "id": "8b680434-241b-4c87-8f6a-67554b693ab0",
   "metadata": {},
   "source": [
    "```pd.date_range``` can be used to generate large sequences of data starting or ending on a particular date. Also these periods can be a specific number of days or other."
   ]
  },
  {
   "cell_type": "code",
   "execution_count": 27,
   "id": "8b6f6fdf-7eb2-43ba-a83c-44339059dae0",
   "metadata": {
    "execution": {
     "iopub.execute_input": "2023-10-02T19:16:18.786784Z",
     "iopub.status.busy": "2023-10-02T19:16:18.785788Z",
     "iopub.status.idle": "2023-10-02T19:16:18.798786Z",
     "shell.execute_reply": "2023-10-02T19:16:18.797784Z",
     "shell.execute_reply.started": "2023-10-02T19:16:18.786784Z"
    },
    "tags": []
   },
   "outputs": [
    {
     "data": {
      "text/plain": [
       "DatetimeIndex(['2016-12-12', '2016-12-13', '2016-12-14', '2016-12-15',\n",
       "               '2016-12-16', '2016-12-17', '2016-12-18', '2016-12-19',\n",
       "               '2016-12-20', '2016-12-21',\n",
       "               ...\n",
       "               '2017-12-03', '2017-12-04', '2017-12-05', '2017-12-06',\n",
       "               '2017-12-07', '2017-12-08', '2017-12-09', '2017-12-10',\n",
       "               '2017-12-11', '2017-12-12'],\n",
       "              dtype='datetime64[ns]', length=366, freq='D')"
      ]
     },
     "execution_count": 27,
     "metadata": {},
     "output_type": "execute_result"
    }
   ],
   "source": [
    "dates = pd.date_range(\"2016-12-12\", \"2017-12-12\")\n",
    "dates"
   ]
  },
  {
   "cell_type": "code",
   "execution_count": 28,
   "id": "50b60198-dd9a-4251-9ede-7e8c67c3a312",
   "metadata": {
    "execution": {
     "iopub.execute_input": "2023-10-02T19:16:18.800788Z",
     "iopub.status.busy": "2023-10-02T19:16:18.799787Z",
     "iopub.status.idle": "2023-10-02T19:16:18.829791Z",
     "shell.execute_reply": "2023-10-02T19:16:18.828789Z",
     "shell.execute_reply.started": "2023-10-02T19:16:18.800788Z"
    },
    "tags": []
   },
   "outputs": [
    {
     "data": {
      "text/plain": [
       "DatetimeIndex(['2017-01-31', '2017-04-30', '2017-07-31', '2017-10-31'], dtype='datetime64[ns]', freq='Q-JAN')"
      ]
     },
     "execution_count": 28,
     "metadata": {},
     "output_type": "execute_result"
    }
   ],
   "source": [
    "date_quarterly = pd.date_range(\"2016-12-01\", \"2017-12-12\", freq = \"Q-JAN\")\n",
    "date_quarterly"
   ]
  },
  {
   "cell_type": "code",
   "execution_count": 29,
   "id": "2a4eecc6-d5fa-4cf3-beb4-3c00b21f5a8d",
   "metadata": {
    "execution": {
     "iopub.execute_input": "2023-10-02T19:16:18.831785Z",
     "iopub.status.busy": "2023-10-02T19:16:18.830785Z",
     "iopub.status.idle": "2023-10-02T19:16:18.846785Z",
     "shell.execute_reply": "2023-10-02T19:16:18.844807Z",
     "shell.execute_reply.started": "2023-10-02T19:16:18.831785Z"
    },
    "tags": []
   },
   "outputs": [
    {
     "data": {
      "text/plain": [
       "DatetimeIndex(['2018-01-03', '2018-01-04', '2018-01-05', '2018-01-06',\n",
       "               '2018-01-07', '2018-01-08', '2018-01-09', '2018-01-10',\n",
       "               '2018-01-11', '2018-01-12', '2018-01-13', '2018-01-14',\n",
       "               '2018-01-15', '2018-01-16', '2018-01-17', '2018-01-18',\n",
       "               '2018-01-19', '2018-01-20', '2018-01-21', '2018-01-22'],\n",
       "              dtype='datetime64[ns]', freq='D')"
      ]
     },
     "execution_count": 29,
     "metadata": {},
     "output_type": "execute_result"
    }
   ],
   "source": [
    "date_20days = pd.date_range(\"2018-01-03 08:46:21\", periods = 20, normalize = True)\n",
    "date_20days"
   ]
  },
  {
   "cell_type": "code",
   "execution_count": 30,
   "id": "3fd88490-06b5-4971-b09e-ad50a78719ff",
   "metadata": {
    "execution": {
     "iopub.execute_input": "2023-10-02T19:16:18.849785Z",
     "iopub.status.busy": "2023-10-02T19:16:18.848785Z",
     "iopub.status.idle": "2023-10-02T19:16:18.876791Z",
     "shell.execute_reply": "2023-10-02T19:16:18.875792Z",
     "shell.execute_reply.started": "2023-10-02T19:16:18.849785Z"
    },
    "tags": []
   },
   "outputs": [
    {
     "data": {
      "text/plain": [
       "DatetimeIndex(['2023-01-01 00:00:00', '2023-01-01 00:00:15',\n",
       "               '2023-01-01 00:00:30', '2023-01-01 00:00:45',\n",
       "               '2023-01-01 00:01:00', '2023-01-01 00:01:15',\n",
       "               '2023-01-01 00:01:30', '2023-01-01 00:01:45',\n",
       "               '2023-01-01 00:02:00', '2023-01-01 00:02:15',\n",
       "               ...\n",
       "               '2023-01-01 23:56:45', '2023-01-01 23:57:00',\n",
       "               '2023-01-01 23:57:15', '2023-01-01 23:57:30',\n",
       "               '2023-01-01 23:57:45', '2023-01-01 23:58:00',\n",
       "               '2023-01-01 23:58:15', '2023-01-01 23:58:30',\n",
       "               '2023-01-01 23:58:45', '2023-01-01 23:59:00'],\n",
       "              dtype='datetime64[ns]', length=5757, freq='15S')"
      ]
     },
     "execution_count": 30,
     "metadata": {},
     "output_type": "execute_result"
    }
   ],
   "source": [
    "hour = Hour()\n",
    "minute = Minute()\n",
    "second = Second()\n",
    "fifteen_seconds = Second(15)\n",
    "high_freq = pd.date_range(\"2023-01-01\", \"2023-01-01 23:59\",freq = fifteen_seconds)\n",
    "high_freq"
   ]
  },
  {
   "cell_type": "code",
   "execution_count": 31,
   "id": "c220c66a-9b72-414e-94e8-6474237901ca",
   "metadata": {
    "execution": {
     "iopub.execute_input": "2023-10-02T19:16:18.883806Z",
     "iopub.status.busy": "2023-10-02T19:16:18.882809Z",
     "iopub.status.idle": "2023-10-02T19:16:18.892787Z",
     "shell.execute_reply": "2023-10-02T19:16:18.891788Z",
     "shell.execute_reply.started": "2023-10-02T19:16:18.883806Z"
    },
    "tags": []
   },
   "outputs": [
    {
     "name": "stdout",
     "output_type": "stream",
     "text": [
      "Shifting provides us with a way to move data backwards or forwards in time.\n"
     ]
    }
   ],
   "source": [
    "print(\"Shifting provides us with a way to move data backwards or forwards in time.\")"
   ]
  },
  {
   "cell_type": "code",
   "execution_count": 32,
   "id": "af31e262-26d2-4243-8731-ce9c8b9ec90d",
   "metadata": {
    "execution": {
     "iopub.execute_input": "2023-10-02T19:16:18.896813Z",
     "iopub.status.busy": "2023-10-02T19:16:18.895792Z",
     "iopub.status.idle": "2023-10-02T19:16:18.907785Z",
     "shell.execute_reply": "2023-10-02T19:16:18.906785Z",
     "shell.execute_reply.started": "2023-10-02T19:16:18.896813Z"
    },
    "tags": []
   },
   "outputs": [
    {
     "data": {
      "text/plain": [
       "DatetimeIndex(['2015-01-01', '2015-01-02', '2015-01-03', '2015-01-04',\n",
       "               '2015-01-05'],\n",
       "              dtype='datetime64[ns]', freq='D')"
      ]
     },
     "execution_count": 32,
     "metadata": {},
     "output_type": "execute_result"
    }
   ],
   "source": [
    "shifting_example = pd.date_range(\"2015-01-01\", \"2015-01-05\")\n",
    "shifting_example"
   ]
  },
  {
   "cell_type": "code",
   "execution_count": 33,
   "id": "c46cace4-ba1e-4260-b940-2ca6766eba6a",
   "metadata": {
    "execution": {
     "iopub.execute_input": "2023-10-02T19:16:18.908785Z",
     "iopub.status.busy": "2023-10-02T19:16:18.908785Z",
     "iopub.status.idle": "2023-10-02T19:16:18.926785Z",
     "shell.execute_reply": "2023-10-02T19:16:18.922793Z",
     "shell.execute_reply.started": "2023-10-02T19:16:18.908785Z"
    }
   },
   "outputs": [
    {
     "data": {
      "text/plain": [
       "DatetimeIndex(['2015-01-06', '2015-01-07', '2015-01-08', '2015-01-09',\n",
       "               '2015-01-10'],\n",
       "              dtype='datetime64[ns]', freq='D')"
      ]
     },
     "execution_count": 33,
     "metadata": {},
     "output_type": "execute_result"
    }
   ],
   "source": [
    "shifting_example.shift(5)"
   ]
  },
  {
   "cell_type": "code",
   "execution_count": 34,
   "id": "7e1d9de2-cc48-4bd2-9dcc-9add3c8ff60b",
   "metadata": {
    "execution": {
     "iopub.execute_input": "2023-10-02T19:16:18.929802Z",
     "iopub.status.busy": "2023-10-02T19:16:18.928787Z",
     "iopub.status.idle": "2023-10-02T19:16:18.957886Z",
     "shell.execute_reply": "2023-10-02T19:16:18.953794Z",
     "shell.execute_reply.started": "2023-10-02T19:16:18.929802Z"
    },
    "tags": []
   },
   "outputs": [
    {
     "data": {
      "text/plain": [
       "DatetimeIndex(['2014-12-27', '2014-12-28', '2014-12-29', '2014-12-30',\n",
       "               '2014-12-31'],\n",
       "              dtype='datetime64[ns]', freq='D')"
      ]
     },
     "execution_count": 34,
     "metadata": {},
     "output_type": "execute_result"
    }
   ],
   "source": [
    "shifting_example.shift(-5)"
   ]
  },
  {
   "cell_type": "code",
   "execution_count": 35,
   "id": "58ea650c-2f3d-49f0-96fc-00995f061add",
   "metadata": {
    "execution": {
     "iopub.execute_input": "2023-10-02T19:16:18.961785Z",
     "iopub.status.busy": "2023-10-02T19:16:18.960787Z",
     "iopub.status.idle": "2023-10-02T19:16:18.986789Z",
     "shell.execute_reply": "2023-10-02T19:16:18.984831Z",
     "shell.execute_reply.started": "2023-10-02T19:16:18.961785Z"
    },
    "tags": []
   },
   "outputs": [
    {
     "data": {
      "text/plain": [
       "2015-01-01    1\n",
       "2015-01-02    2\n",
       "2015-01-03    3\n",
       "2015-01-04    4\n",
       "2015-01-05    5\n",
       "Freq: D, dtype: int64"
      ]
     },
     "execution_count": 35,
     "metadata": {},
     "output_type": "execute_result"
    }
   ],
   "source": [
    "series_shifting = pd.Series([1,2,3,4,5], index = shifting_example)\n",
    "series_shifting"
   ]
  },
  {
   "cell_type": "markdown",
   "id": "5b307e4e-a06e-4ceb-af91-a02d9221e355",
   "metadata": {},
   "source": [
    "An interesting trick is to compute how much percentage wise has a timeseries valu changed, based on a shift."
   ]
  },
  {
   "cell_type": "code",
   "execution_count": 36,
   "id": "efe9c2ab-ff5b-42c2-b623-49333d08f9bf",
   "metadata": {
    "execution": {
     "iopub.execute_input": "2023-10-02T19:16:18.991787Z",
     "iopub.status.busy": "2023-10-02T19:16:18.990816Z",
     "iopub.status.idle": "2023-10-02T19:16:19.017789Z",
     "shell.execute_reply": "2023-10-02T19:16:19.016795Z",
     "shell.execute_reply.started": "2023-10-02T19:16:18.991787Z"
    },
    "tags": []
   },
   "outputs": [
    {
     "data": {
      "text/plain": [
       "2015-01-01           NaN\n",
       "2015-01-02    100.000000\n",
       "2015-01-03     50.000000\n",
       "2015-01-04     33.333333\n",
       "2015-01-05     25.000000\n",
       "Freq: D, dtype: float64"
      ]
     },
     "execution_count": 36,
     "metadata": {},
     "output_type": "execute_result"
    }
   ],
   "source": [
    "percentage = (series_shifting / series_shifting.shift(1) - 1) * 100\n",
    "percentage"
   ]
  },
  {
   "cell_type": "markdown",
   "id": "6539b479-6bfb-4740-bc9f-c7310b57910f",
   "metadata": {},
   "source": [
    "Roll forward \"rolls\" a date to the end of the specific month.\n",
    "\n",
    "Roll backward \"rolls\" a date to the end of the previous month."
   ]
  },
  {
   "cell_type": "code",
   "execution_count": 37,
   "id": "9be4d8eb-b018-40b3-9790-e5e023737996",
   "metadata": {
    "execution": {
     "iopub.execute_input": "2023-10-02T19:16:19.022787Z",
     "iopub.status.busy": "2023-10-02T19:16:19.021787Z",
     "iopub.status.idle": "2023-10-02T19:16:19.033795Z",
     "shell.execute_reply": "2023-10-02T19:16:19.032790Z",
     "shell.execute_reply.started": "2023-10-02T19:16:19.022787Z"
    },
    "tags": []
   },
   "outputs": [
    {
     "data": {
      "text/plain": [
       "datetime.datetime(2015, 10, 5, 0, 0)"
      ]
     },
     "execution_count": 37,
     "metadata": {},
     "output_type": "execute_result"
    }
   ],
   "source": [
    "offset = MonthEnd()\n",
    "now = datetime(2015,10,5)\n",
    "now"
   ]
  },
  {
   "cell_type": "code",
   "execution_count": 38,
   "id": "886dbebe-d8b0-4973-a35e-eac9f63f4549",
   "metadata": {
    "execution": {
     "iopub.execute_input": "2023-10-02T19:16:19.036788Z",
     "iopub.status.busy": "2023-10-02T19:16:19.035785Z",
     "iopub.status.idle": "2023-10-02T19:16:19.052803Z",
     "shell.execute_reply": "2023-10-02T19:16:19.047788Z",
     "shell.execute_reply.started": "2023-10-02T19:16:19.036788Z"
    },
    "tags": []
   },
   "outputs": [
    {
     "data": {
      "text/plain": [
       "Timestamp('2015-10-31 00:00:00')"
      ]
     },
     "execution_count": 38,
     "metadata": {},
     "output_type": "execute_result"
    }
   ],
   "source": [
    "offset.rollforward(now)"
   ]
  },
  {
   "cell_type": "code",
   "execution_count": 39,
   "id": "f8d46d64-07f5-44f3-ac72-edacaab59f72",
   "metadata": {
    "execution": {
     "iopub.execute_input": "2023-10-02T19:16:19.055791Z",
     "iopub.status.busy": "2023-10-02T19:16:19.054793Z",
     "iopub.status.idle": "2023-10-02T19:16:19.079788Z",
     "shell.execute_reply": "2023-10-02T19:16:19.078785Z",
     "shell.execute_reply.started": "2023-10-02T19:16:19.054793Z"
    },
    "tags": []
   },
   "outputs": [
    {
     "data": {
      "text/plain": [
       "Timestamp('2015-09-30 00:00:00')"
      ]
     },
     "execution_count": 39,
     "metadata": {},
     "output_type": "execute_result"
    }
   ],
   "source": [
    "offset.rollback(now)"
   ]
  },
  {
   "cell_type": "markdown",
   "id": "3acd0222-0214-49e5-bb94-69b67c048590",
   "metadata": {},
   "source": [
    "Timezones can be tricky in real life, let's see how pandas handles them."
   ]
  },
  {
   "cell_type": "code",
   "execution_count": 45,
   "id": "fdbb7362-f5cc-4bcf-b7e7-a90515eec464",
   "metadata": {
    "execution": {
     "iopub.execute_input": "2023-10-02T19:19:01.026859Z",
     "iopub.status.busy": "2023-10-02T19:19:01.026859Z",
     "iopub.status.idle": "2023-10-02T19:19:01.042931Z",
     "shell.execute_reply": "2023-10-02T19:19:01.041936Z",
     "shell.execute_reply.started": "2023-10-02T19:19:01.026859Z"
    },
    "tags": []
   },
   "outputs": [
    {
     "data": {
      "text/plain": [
       "['Pacific/Wake',\n",
       " 'Pacific/Wallis',\n",
       " 'US/Alaska',\n",
       " 'US/Arizona',\n",
       " 'US/Central',\n",
       " 'US/Eastern',\n",
       " 'US/Hawaii',\n",
       " 'US/Mountain',\n",
       " 'US/Pacific',\n",
       " 'UTC']"
      ]
     },
     "execution_count": 45,
     "metadata": {},
     "output_type": "execute_result"
    }
   ],
   "source": [
    "pytz.common_timezones[-10:]"
   ]
  },
  {
   "cell_type": "code",
   "execution_count": 52,
   "id": "eb4246e7-312e-4eeb-bbb6-d369b0eb4aab",
   "metadata": {
    "execution": {
     "iopub.execute_input": "2023-10-02T19:27:37.657743Z",
     "iopub.status.busy": "2023-10-02T19:27:37.657743Z",
     "iopub.status.idle": "2023-10-02T19:27:37.684800Z",
     "shell.execute_reply": "2023-10-02T19:27:37.683799Z",
     "shell.execute_reply.started": "2023-10-02T19:27:37.657743Z"
    },
    "tags": []
   },
   "outputs": [
    {
     "data": {
      "text/plain": [
       "2018-01-01   -0.444583\n",
       "2018-01-02    0.315528\n",
       "2018-01-03   -1.706139\n",
       "2018-01-04    1.574981\n",
       "2018-01-05   -0.183472\n",
       "Freq: D, dtype: float64"
      ]
     },
     "execution_count": 52,
     "metadata": {},
     "output_type": "execute_result"
    }
   ],
   "source": [
    "dates = pd.date_range(\"2018-01-01\", periods = 5)\n",
    "ts = pd.Series(data = np.random.standard_normal(5), index = dates)\n",
    "ts"
   ]
  },
  {
   "cell_type": "code",
   "execution_count": 53,
   "id": "6116568a-bf80-4d57-a8d3-775aedef5629",
   "metadata": {
    "execution": {
     "iopub.execute_input": "2023-10-02T19:27:41.892829Z",
     "iopub.status.busy": "2023-10-02T19:27:41.892829Z",
     "iopub.status.idle": "2023-10-02T19:27:41.910337Z",
     "shell.execute_reply": "2023-10-02T19:27:41.909379Z",
     "shell.execute_reply.started": "2023-10-02T19:27:41.892829Z"
    },
    "tags": []
   },
   "outputs": [
    {
     "name": "stdout",
     "output_type": "stream",
     "text": [
      "None\n"
     ]
    }
   ],
   "source": [
    "print(ts.index.tz)"
   ]
  },
  {
   "cell_type": "code",
   "execution_count": 54,
   "id": "6c2515a7-bf38-4cef-b4f3-415425e67262",
   "metadata": {
    "execution": {
     "iopub.execute_input": "2023-10-02T19:30:21.390352Z",
     "iopub.status.busy": "2023-10-02T19:30:21.390352Z",
     "iopub.status.idle": "2023-10-02T19:30:21.456394Z",
     "shell.execute_reply": "2023-10-02T19:30:21.454391Z",
     "shell.execute_reply.started": "2023-10-02T19:30:21.390352Z"
    }
   },
   "outputs": [
    {
     "data": {
      "text/plain": [
       "2018-01-01 00:00:00+00:00   -0.444583\n",
       "2018-01-02 00:00:00+00:00    0.315528\n",
       "2018-01-03 00:00:00+00:00   -1.706139\n",
       "2018-01-04 00:00:00+00:00    1.574981\n",
       "2018-01-05 00:00:00+00:00   -0.183472\n",
       "Freq: D, dtype: float64"
      ]
     },
     "execution_count": 54,
     "metadata": {},
     "output_type": "execute_result"
    }
   ],
   "source": [
    "ts_utc = ts.tz_localize(\"UTC\")\n",
    "ts_utc"
   ]
  },
  {
   "cell_type": "code",
   "execution_count": 56,
   "id": "cf90e850-af65-4b31-bbf1-93ab82633d84",
   "metadata": {
    "execution": {
     "iopub.execute_input": "2023-10-02T19:31:06.814100Z",
     "iopub.status.busy": "2023-10-02T19:31:06.813098Z",
     "iopub.status.idle": "2023-10-02T19:31:06.832064Z",
     "shell.execute_reply": "2023-10-02T19:31:06.831061Z",
     "shell.execute_reply.started": "2023-10-02T19:31:06.814100Z"
    },
    "tags": []
   },
   "outputs": [
    {
     "data": {
      "text/plain": [
       "2018-01-01 12:00:00+12:00   -0.444583\n",
       "2018-01-02 12:00:00+12:00    0.315528\n",
       "2018-01-03 12:00:00+12:00   -1.706139\n",
       "2018-01-04 12:00:00+12:00    1.574981\n",
       "2018-01-05 12:00:00+12:00   -0.183472\n",
       "Freq: D, dtype: float64"
      ]
     },
     "execution_count": 56,
     "metadata": {},
     "output_type": "execute_result"
    }
   ],
   "source": [
    "ts_utc.tz_convert(\"Pacific/Wake\")"
   ]
  },
  {
   "cell_type": "code",
   "execution_count": 57,
   "id": "232c31af-6eaf-46d4-9fa1-d321836ffa73",
   "metadata": {
    "execution": {
     "iopub.execute_input": "2023-10-02T19:36:56.358288Z",
     "iopub.status.busy": "2023-10-02T19:36:56.357289Z",
     "iopub.status.idle": "2023-10-02T19:36:56.379284Z",
     "shell.execute_reply": "2023-10-02T19:36:56.377286Z",
     "shell.execute_reply.started": "2023-10-02T19:36:56.358288Z"
    }
   },
   "outputs": [
    {
     "data": {
      "text/plain": [
       "Period('2016', 'A-DEC')"
      ]
     },
     "execution_count": 57,
     "metadata": {},
     "output_type": "execute_result"
    }
   ],
   "source": [
    "period = pd.Period(\"2016\", freq = \"A-DEC\")\n",
    "period"
   ]
  },
  {
   "cell_type": "code",
   "execution_count": 58,
   "id": "4b2f79bb-b7bc-412c-9052-ebd76dce5f03",
   "metadata": {
    "execution": {
     "iopub.execute_input": "2023-10-02T19:37:15.879180Z",
     "iopub.status.busy": "2023-10-02T19:37:15.879180Z",
     "iopub.status.idle": "2023-10-02T19:37:15.892183Z",
     "shell.execute_reply": "2023-10-02T19:37:15.891184Z",
     "shell.execute_reply.started": "2023-10-02T19:37:15.879180Z"
    }
   },
   "outputs": [
    {
     "data": {
      "text/plain": [
       "Period('2021', 'A-DEC')"
      ]
     },
     "execution_count": 58,
     "metadata": {},
     "output_type": "execute_result"
    }
   ],
   "source": [
    "period + 5"
   ]
  },
  {
   "cell_type": "code",
   "execution_count": 59,
   "id": "43a9efe1-a4bc-438f-ba6c-4ff95d87b49a",
   "metadata": {
    "execution": {
     "iopub.execute_input": "2023-10-02T19:40:28.568324Z",
     "iopub.status.busy": "2023-10-02T19:40:28.567322Z",
     "iopub.status.idle": "2023-10-02T19:40:28.594323Z",
     "shell.execute_reply": "2023-10-02T19:40:28.593327Z",
     "shell.execute_reply.started": "2023-10-02T19:40:28.568324Z"
    }
   },
   "outputs": [
    {
     "data": {
      "text/plain": [
       "PeriodIndex(['2001-06', '2001-07', '2001-08', '2001-09', '2001-10', '2001-11',\n",
       "             '2001-12', '2002-01', '2002-02', '2002-03', '2002-04', '2002-05',\n",
       "             '2002-06', '2002-07', '2002-08', '2002-09', '2002-10', '2002-11',\n",
       "             '2002-12', '2003-01', '2003-02', '2003-03', '2003-04', '2003-05',\n",
       "             '2003-06', '2003-07', '2003-08', '2003-09'],\n",
       "            dtype='period[M]')"
      ]
     },
     "execution_count": 59,
     "metadata": {},
     "output_type": "execute_result"
    }
   ],
   "source": [
    "periods = pd.period_range(\"2001-06-17\", \"2003-09-12\", freq = \"M\")\n",
    "periods"
   ]
  },
  {
   "cell_type": "code",
   "execution_count": 63,
   "id": "f2476826-61f9-4c1d-adef-5af8532d29da",
   "metadata": {
    "execution": {
     "iopub.execute_input": "2023-10-02T19:42:14.585772Z",
     "iopub.status.busy": "2023-10-02T19:42:14.585772Z",
     "iopub.status.idle": "2023-10-02T19:42:14.605335Z",
     "shell.execute_reply": "2023-10-02T19:42:14.604406Z",
     "shell.execute_reply.started": "2023-10-02T19:42:14.585772Z"
    },
    "tags": []
   },
   "outputs": [
    {
     "data": {
      "text/plain": [
       "PeriodIndex(['2001', '2001', '2001', '2001', '2001', '2001', '2001', '2002',\n",
       "             '2002', '2002', '2002', '2002', '2002', '2002', '2002', '2002',\n",
       "             '2002', '2002', '2002', '2003', '2003', '2003', '2003', '2003',\n",
       "             '2003', '2003', '2003', '2003'],\n",
       "            dtype='period[A-DEC]')"
      ]
     },
     "execution_count": 63,
     "metadata": {},
     "output_type": "execute_result"
    }
   ],
   "source": [
    "periods.asfreq(\"Y\", how = \"start\")"
   ]
  },
  {
   "cell_type": "code",
   "execution_count": 87,
   "id": "6ecd724a-88bc-48be-8011-e4cdd7635d59",
   "metadata": {
    "execution": {
     "iopub.execute_input": "2023-10-02T20:29:40.809781Z",
     "iopub.status.busy": "2023-10-02T20:29:40.808783Z",
     "iopub.status.idle": "2023-10-02T20:29:40.833746Z",
     "shell.execute_reply": "2023-10-02T20:29:40.832463Z",
     "shell.execute_reply.started": "2023-10-02T20:29:40.809781Z"
    },
    "tags": []
   },
   "outputs": [],
   "source": [
    "dates = pd.date_range(\"2000-01-01\", periods=100)\n",
    "\n",
    "ts = pd.Series(np.random.standard_normal(len(dates)), index=dates)"
   ]
  },
  {
   "cell_type": "code",
   "execution_count": 88,
   "id": "ca9a669e-1738-47f2-8c6f-5661d83398e0",
   "metadata": {
    "execution": {
     "iopub.execute_input": "2023-10-02T20:29:40.991455Z",
     "iopub.status.busy": "2023-10-02T20:29:40.991455Z",
     "iopub.status.idle": "2023-10-02T20:29:41.005421Z",
     "shell.execute_reply": "2023-10-02T20:29:41.004462Z",
     "shell.execute_reply.started": "2023-10-02T20:29:40.991455Z"
    },
    "tags": []
   },
   "outputs": [
    {
     "data": {
      "text/plain": [
       "2000-01-01   -1.056923\n",
       "2000-01-02    0.400543\n",
       "2000-01-03    0.665739\n",
       "2000-01-04   -0.724825\n",
       "2000-01-05   -1.809964\n",
       "                ...   \n",
       "2000-04-05   -0.405345\n",
       "2000-04-06   -1.657829\n",
       "2000-04-07   -0.466999\n",
       "2000-04-08    0.133835\n",
       "2000-04-09   -0.867997\n",
       "Freq: D, Length: 100, dtype: float64"
      ]
     },
     "execution_count": 88,
     "metadata": {},
     "output_type": "execute_result"
    }
   ],
   "source": [
    "ts"
   ]
  },
  {
   "cell_type": "code",
   "execution_count": 89,
   "id": "839264be-2462-4ff1-bdff-0b4eb84203d4",
   "metadata": {
    "execution": {
     "iopub.execute_input": "2023-10-02T20:29:41.173885Z",
     "iopub.status.busy": "2023-10-02T20:29:41.173885Z",
     "iopub.status.idle": "2023-10-02T20:29:41.193883Z",
     "shell.execute_reply": "2023-10-02T20:29:41.192885Z",
     "shell.execute_reply.started": "2023-10-02T20:29:41.173885Z"
    },
    "tags": []
   },
   "outputs": [
    {
     "data": {
      "text/plain": [
       "2000-01-31    0.031155\n",
       "2000-02-29    0.165130\n",
       "2000-03-31    0.156038\n",
       "2000-04-30   -0.216767\n",
       "Freq: M, dtype: float64"
      ]
     },
     "execution_count": 89,
     "metadata": {},
     "output_type": "execute_result"
    }
   ],
   "source": [
    "resampled = ts.resample(\"M\").mean()\n",
    "resampled"
   ]
  },
  {
   "cell_type": "code",
   "execution_count": 90,
   "id": "e770d077-59be-4b57-8885-9b9804d9f55b",
   "metadata": {
    "execution": {
     "iopub.execute_input": "2023-10-02T20:29:41.354452Z",
     "iopub.status.busy": "2023-10-02T20:29:41.353453Z",
     "iopub.status.idle": "2023-10-02T20:29:41.380480Z",
     "shell.execute_reply": "2023-10-02T20:29:41.378980Z",
     "shell.execute_reply.started": "2023-10-02T20:29:41.354452Z"
    },
    "tags": []
   },
   "outputs": [
    {
     "data": {
      "text/plain": [
       "2013-01-01 00:00:00   -0.978123\n",
       "2013-01-01 00:00:01    0.865040\n",
       "2013-01-01 00:00:02   -0.417401\n",
       "2013-01-01 00:00:03    0.725050\n",
       "2013-01-01 00:00:04   -0.443904\n",
       "                         ...   \n",
       "2013-01-01 00:04:55    1.015147\n",
       "2013-01-01 00:04:56   -0.125289\n",
       "2013-01-01 00:04:57    0.883452\n",
       "2013-01-01 00:04:58    1.193659\n",
       "2013-01-01 00:04:59   -0.685545\n",
       "Freq: S, Length: 300, dtype: float64"
      ]
     },
     "execution_count": 90,
     "metadata": {},
     "output_type": "execute_result"
    }
   ],
   "source": [
    "seconds = pd.date_range(\"2013-01-01\", periods = 300, freq = \"S\")\n",
    "ts_seconds = pd.Series(np.random.standard_normal(len(seconds)), index = seconds)\n",
    "ts_seconds"
   ]
  },
  {
   "cell_type": "code",
   "execution_count": 91,
   "id": "fcd6cfce-7919-4f67-a0e4-1a30924fcaef",
   "metadata": {
    "execution": {
     "iopub.execute_input": "2023-10-02T20:29:41.511145Z",
     "iopub.status.busy": "2023-10-02T20:29:41.511145Z",
     "iopub.status.idle": "2023-10-02T20:29:41.536147Z",
     "shell.execute_reply": "2023-10-02T20:29:41.535111Z",
     "shell.execute_reply.started": "2023-10-02T20:29:41.511145Z"
    },
    "tags": []
   },
   "outputs": [
    {
     "data": {
      "text/plain": [
       "2013-01-01 00:00:00    11.308651\n",
       "2013-01-01 00:01:00    -1.368125\n",
       "2013-01-01 00:02:00     6.987248\n",
       "2013-01-01 00:03:00     4.993200\n",
       "2013-01-01 00:04:00    -2.410260\n",
       "Freq: T, dtype: float64"
      ]
     },
     "execution_count": 91,
     "metadata": {},
     "output_type": "execute_result"
    }
   ],
   "source": [
    "ts_seconds.resample(\"1min\").sum()"
   ]
  },
  {
   "cell_type": "code",
   "execution_count": 92,
   "id": "73a2927b-5a45-42d4-a19e-f8e692f3f21b",
   "metadata": {
    "execution": {
     "iopub.execute_input": "2023-10-02T20:29:41.988636Z",
     "iopub.status.busy": "2023-10-02T20:29:41.988636Z",
     "iopub.status.idle": "2023-10-02T20:29:42.017824Z",
     "shell.execute_reply": "2023-10-02T20:29:42.016295Z",
     "shell.execute_reply.started": "2023-10-02T20:29:41.988636Z"
    },
    "tags": []
   },
   "outputs": [
    {
     "data": {
      "text/html": [
       "<div>\n",
       "<style scoped>\n",
       "    .dataframe tbody tr th:only-of-type {\n",
       "        vertical-align: middle;\n",
       "    }\n",
       "\n",
       "    .dataframe tbody tr th {\n",
       "        vertical-align: top;\n",
       "    }\n",
       "\n",
       "    .dataframe thead th {\n",
       "        text-align: right;\n",
       "    }\n",
       "</style>\n",
       "<table border=\"1\" class=\"dataframe\">\n",
       "  <thead>\n",
       "    <tr style=\"text-align: right;\">\n",
       "      <th></th>\n",
       "      <th>open</th>\n",
       "      <th>high</th>\n",
       "      <th>low</th>\n",
       "      <th>close</th>\n",
       "    </tr>\n",
       "  </thead>\n",
       "  <tbody>\n",
       "    <tr>\n",
       "      <th>2000-01-01</th>\n",
       "      <td>23</td>\n",
       "      <td>23</td>\n",
       "      <td>23</td>\n",
       "      <td>23</td>\n",
       "    </tr>\n",
       "    <tr>\n",
       "      <th>2000-01-02</th>\n",
       "      <td>46</td>\n",
       "      <td>46</td>\n",
       "      <td>46</td>\n",
       "      <td>46</td>\n",
       "    </tr>\n",
       "    <tr>\n",
       "      <th>2000-01-03</th>\n",
       "      <td>63</td>\n",
       "      <td>63</td>\n",
       "      <td>63</td>\n",
       "      <td>63</td>\n",
       "    </tr>\n",
       "    <tr>\n",
       "      <th>2000-01-04</th>\n",
       "      <td>78</td>\n",
       "      <td>78</td>\n",
       "      <td>78</td>\n",
       "      <td>78</td>\n",
       "    </tr>\n",
       "    <tr>\n",
       "      <th>2000-01-05</th>\n",
       "      <td>90</td>\n",
       "      <td>90</td>\n",
       "      <td>90</td>\n",
       "      <td>90</td>\n",
       "    </tr>\n",
       "    <tr>\n",
       "      <th>...</th>\n",
       "      <td>...</td>\n",
       "      <td>...</td>\n",
       "      <td>...</td>\n",
       "      <td>...</td>\n",
       "    </tr>\n",
       "    <tr>\n",
       "      <th>2000-04-05</th>\n",
       "      <td>47</td>\n",
       "      <td>47</td>\n",
       "      <td>47</td>\n",
       "      <td>47</td>\n",
       "    </tr>\n",
       "    <tr>\n",
       "      <th>2000-04-06</th>\n",
       "      <td>86</td>\n",
       "      <td>86</td>\n",
       "      <td>86</td>\n",
       "      <td>86</td>\n",
       "    </tr>\n",
       "    <tr>\n",
       "      <th>2000-04-07</th>\n",
       "      <td>29</td>\n",
       "      <td>29</td>\n",
       "      <td>29</td>\n",
       "      <td>29</td>\n",
       "    </tr>\n",
       "    <tr>\n",
       "      <th>2000-04-08</th>\n",
       "      <td>89</td>\n",
       "      <td>89</td>\n",
       "      <td>89</td>\n",
       "      <td>89</td>\n",
       "    </tr>\n",
       "    <tr>\n",
       "      <th>2000-04-09</th>\n",
       "      <td>17</td>\n",
       "      <td>17</td>\n",
       "      <td>17</td>\n",
       "      <td>17</td>\n",
       "    </tr>\n",
       "  </tbody>\n",
       "</table>\n",
       "<p>100 rows × 4 columns</p>\n",
       "</div>"
      ],
      "text/plain": [
       "            open  high  low  close\n",
       "2000-01-01    23    23   23     23\n",
       "2000-01-02    46    46   46     46\n",
       "2000-01-03    63    63   63     63\n",
       "2000-01-04    78    78   78     78\n",
       "2000-01-05    90    90   90     90\n",
       "...          ...   ...  ...    ...\n",
       "2000-04-05    47    47   47     47\n",
       "2000-04-06    86    86   86     86\n",
       "2000-04-07    29    29   29     29\n",
       "2000-04-08    89    89   89     89\n",
       "2000-04-09    17    17   17     17\n",
       "\n",
       "[100 rows x 4 columns]"
      ]
     },
     "execution_count": 92,
     "metadata": {},
     "output_type": "execute_result"
    }
   ],
   "source": [
    "ts = pd.Series(np.random.permutation(np.arange(len(dates))), index = dates)\n",
    "ts.resample(\"D\").ohlc()"
   ]
  },
  {
   "cell_type": "code",
   "execution_count": null,
   "id": "ea0c7a93-e244-4108-8278-7d96c653f0ed",
   "metadata": {},
   "outputs": [],
   "source": []
  },
  {
   "cell_type": "code",
   "execution_count": null,
   "id": "35d630b0-11e1-4d55-aa93-9b8675db5d2f",
   "metadata": {},
   "outputs": [],
   "source": []
  }
 ],
 "metadata": {
  "kernelspec": {
   "display_name": "Python 3",
   "language": "python",
   "name": "python3"
  },
  "language_info": {
   "codemirror_mode": {
    "name": "ipython",
    "version": 3
   },
   "file_extension": ".py",
   "mimetype": "text/x-python",
   "name": "python",
   "nbconvert_exporter": "python",
   "pygments_lexer": "ipython3",
   "version": "3.9.13"
  }
 },
 "nbformat": 4,
 "nbformat_minor": 5
}
