{
 "cells": [
  {
   "cell_type": "code",
   "execution_count": 1,
   "id": "a7e95dec-48e2-402c-a46f-7e48cf464787",
   "metadata": {
    "execution": {
     "iopub.execute_input": "2023-09-30T19:47:39.046596Z",
     "iopub.status.busy": "2023-09-30T19:47:39.042582Z",
     "iopub.status.idle": "2023-09-30T19:47:40.670883Z",
     "shell.execute_reply": "2023-09-30T19:47:40.669881Z",
     "shell.execute_reply.started": "2023-09-30T19:47:39.046596Z"
    },
    "tags": []
   },
   "outputs": [],
   "source": [
    "import numpy as np\n",
    "import pandas as pd\n",
    "from datetime import datetime, timedelta"
   ]
  },
  {
   "cell_type": "markdown",
   "id": "d3b32b96-6d7e-4291-b41a-dad794bed8f8",
   "metadata": {},
   "source": [
    "### Basic date manipulations in Python\n",
    "\n",
    "Python supports a datetime module which has several functionalitites:\n",
    "1. Datetime objects representing a specific date in time with years, months and days\n",
    "2. Addition and substraction of datetime objects\n",
    "3. Format datetime objects based on different format specification\n",
    "\n",
    "Pandas supports handling of null value timestampts with its NaT which stands for Not a Time."
   ]
  },
  {
   "cell_type": "code",
   "execution_count": 2,
   "id": "512188ca-e3e8-4cc9-a45f-685275f231cf",
   "metadata": {
    "execution": {
     "iopub.execute_input": "2023-09-30T19:47:40.672881Z",
     "iopub.status.busy": "2023-09-30T19:47:40.672881Z",
     "iopub.status.idle": "2023-09-30T19:47:40.700859Z",
     "shell.execute_reply": "2023-09-30T19:47:40.699855Z",
     "shell.execute_reply.started": "2023-09-30T19:47:40.672881Z"
    },
    "tags": []
   },
   "outputs": [
    {
     "data": {
      "text/plain": [
       "datetime.datetime(2023, 9, 30, 22, 47, 40, 674855)"
      ]
     },
     "execution_count": 2,
     "metadata": {},
     "output_type": "execute_result"
    }
   ],
   "source": [
    "current_date = datetime.now()\n",
    "current_date"
   ]
  },
  {
   "cell_type": "code",
   "execution_count": 3,
   "id": "5ce89368-7f7f-4b59-add9-9a0737c094eb",
   "metadata": {
    "execution": {
     "iopub.execute_input": "2023-09-30T19:47:40.703857Z",
     "iopub.status.busy": "2023-09-30T19:47:40.702855Z",
     "iopub.status.idle": "2023-09-30T19:47:40.730891Z",
     "shell.execute_reply": "2023-09-30T19:47:40.729890Z",
     "shell.execute_reply.started": "2023-09-30T19:47:40.703857Z"
    },
    "tags": []
   },
   "outputs": [
    {
     "data": {
      "text/plain": [
       "(2023, 9, 30)"
      ]
     },
     "execution_count": 3,
     "metadata": {},
     "output_type": "execute_result"
    }
   ],
   "source": [
    "current_date.year, current_date.month, current_date.day"
   ]
  },
  {
   "cell_type": "code",
   "execution_count": 4,
   "id": "0bd31945-8a4c-4b6b-8500-2bf43097bcda",
   "metadata": {
    "execution": {
     "iopub.execute_input": "2023-09-30T19:47:40.733857Z",
     "iopub.status.busy": "2023-09-30T19:47:40.732858Z",
     "iopub.status.idle": "2023-09-30T19:47:40.762856Z",
     "shell.execute_reply": "2023-09-30T19:47:40.760890Z",
     "shell.execute_reply.started": "2023-09-30T19:47:40.733857Z"
    },
    "tags": []
   },
   "outputs": [
    {
     "data": {
      "text/plain": [
       "datetime.timedelta(days=5575, seconds=56700)"
      ]
     },
     "execution_count": 4,
     "metadata": {},
     "output_type": "execute_result"
    }
   ],
   "source": [
    "delta = datetime(2019, 1, 7) - datetime(2003, 10, 2, 8, 15)\n",
    "delta"
   ]
  },
  {
   "cell_type": "code",
   "execution_count": 5,
   "id": "c1f65b83-6f1c-48ac-a6b5-70c775698b66",
   "metadata": {
    "execution": {
     "iopub.execute_input": "2023-09-30T19:47:40.764892Z",
     "iopub.status.busy": "2023-09-30T19:47:40.764892Z",
     "iopub.status.idle": "2023-09-30T19:47:40.777854Z",
     "shell.execute_reply": "2023-09-30T19:47:40.776853Z",
     "shell.execute_reply.started": "2023-09-30T19:47:40.764892Z"
    },
    "tags": []
   },
   "outputs": [
    {
     "data": {
      "text/plain": [
       "datetime.timedelta(days=5585, seconds=56700)"
      ]
     },
     "execution_count": 5,
     "metadata": {},
     "output_type": "execute_result"
    }
   ],
   "source": [
    "delta = delta + timedelta(10)\n",
    "delta"
   ]
  },
  {
   "cell_type": "code",
   "execution_count": 6,
   "id": "a9a03a15-8ad1-42c8-aa60-ecd6f2fef703",
   "metadata": {
    "execution": {
     "iopub.execute_input": "2023-09-30T19:47:40.780891Z",
     "iopub.status.busy": "2023-09-30T19:47:40.779856Z",
     "iopub.status.idle": "2023-09-30T19:47:40.808859Z",
     "shell.execute_reply": "2023-09-30T19:47:40.807857Z",
     "shell.execute_reply.started": "2023-09-30T19:47:40.780891Z"
    },
    "tags": []
   },
   "outputs": [
    {
     "name": "stdout",
     "output_type": "stream",
     "text": [
      "2011-01-03 00:00:00\n"
     ]
    }
   ],
   "source": [
    "stamp = datetime(2011,1,3)\n",
    "print(str(stamp))"
   ]
  },
  {
   "cell_type": "code",
   "execution_count": 7,
   "id": "beaf174c-b1f9-4d5b-92bb-2f4a7b3acd65",
   "metadata": {
    "execution": {
     "iopub.execute_input": "2023-09-30T19:47:40.812857Z",
     "iopub.status.busy": "2023-09-30T19:47:40.811859Z",
     "iopub.status.idle": "2023-09-30T19:47:40.839854Z",
     "shell.execute_reply": "2023-09-30T19:47:40.837855Z",
     "shell.execute_reply.started": "2023-09-30T19:47:40.812857Z"
    },
    "tags": []
   },
   "outputs": [
    {
     "data": {
      "text/plain": [
       "'01/03/11'"
      ]
     },
     "execution_count": 7,
     "metadata": {},
     "output_type": "execute_result"
    }
   ],
   "source": [
    "stamp = stamp.strftime(\"%D\")\n",
    "stamp"
   ]
  },
  {
   "cell_type": "code",
   "execution_count": 8,
   "id": "e5a378eb-a89f-458c-b27e-d5142fd69b8b",
   "metadata": {
    "execution": {
     "iopub.execute_input": "2023-09-30T19:47:40.842854Z",
     "iopub.status.busy": "2023-09-30T19:47:40.841854Z",
     "iopub.status.idle": "2023-09-30T19:47:40.869854Z",
     "shell.execute_reply": "2023-09-30T19:47:40.868855Z",
     "shell.execute_reply.started": "2023-09-30T19:47:40.842854Z"
    },
    "tags": []
   },
   "outputs": [
    {
     "data": {
      "text/plain": [
       "datetime.datetime(2011, 1, 3, 0, 0)"
      ]
     },
     "execution_count": 8,
     "metadata": {},
     "output_type": "execute_result"
    }
   ],
   "source": [
    "value = \"2011-01-03\"\n",
    "datetime.strptime(value, \"%Y-%m-%d\")"
   ]
  },
  {
   "cell_type": "code",
   "execution_count": 9,
   "id": "56342b9c-0536-4dce-ab9f-eb4fc0993df3",
   "metadata": {
    "execution": {
     "iopub.execute_input": "2023-09-30T19:47:40.872855Z",
     "iopub.status.busy": "2023-09-30T19:47:40.871855Z",
     "iopub.status.idle": "2023-09-30T19:47:40.900855Z",
     "shell.execute_reply": "2023-09-30T19:47:40.899854Z",
     "shell.execute_reply.started": "2023-09-30T19:47:40.872855Z"
    },
    "tags": []
   },
   "outputs": [
    {
     "data": {
      "text/plain": [
       "DatetimeIndex(['2015-03-18', '1996-07-03', 'NaT'], dtype='datetime64[ns]', freq=None)"
      ]
     },
     "execution_count": 9,
     "metadata": {},
     "output_type": "execute_result"
    }
   ],
   "source": [
    "dates_arr = [\"2015-03-18\", \"1996-07-03\", None]\n",
    "datetime_index = pd.to_datetime(dates_arr)\n",
    "datetime_index"
   ]
  },
  {
   "cell_type": "markdown",
   "id": "0771156f-d085-47e3-8fa5-35b74dce22fd",
   "metadata": {},
   "source": [
    "### Time Series in Pandas\n",
    "\n",
    "Times series are essentially an a Pandas series with its index set to the timestamps. \n",
    "\n",
    "Timestamps show the specific value of something in that time. For now we will just fill the values with random ones"
   ]
  },
  {
   "cell_type": "code",
   "execution_count": 10,
   "id": "cd1a4f70-4e1f-40bd-8462-2e414b32c027",
   "metadata": {
    "execution": {
     "iopub.execute_input": "2023-09-30T19:47:40.904855Z",
     "iopub.status.busy": "2023-09-30T19:47:40.903856Z",
     "iopub.status.idle": "2023-09-30T19:47:40.930854Z",
     "shell.execute_reply": "2023-09-30T19:47:40.929852Z",
     "shell.execute_reply.started": "2023-09-30T19:47:40.903856Z"
    },
    "tags": []
   },
   "outputs": [
    {
     "data": {
      "text/plain": [
       "2011-01-02    1.315954\n",
       "2011-01-05    0.568645\n",
       "2011-01-07    0.857548\n",
       "2011-01-08    2.074120\n",
       "2011-01-10    0.086525\n",
       "2011-01-12   -1.008184\n",
       "dtype: float64"
      ]
     },
     "execution_count": 10,
     "metadata": {},
     "output_type": "execute_result"
    }
   ],
   "source": [
    "dates = [datetime(2011, 1, 2), datetime(2011, 1, 5),\n",
    "         datetime(2011, 1, 7), datetime(2011, 1, 8),\n",
    "         datetime(2011, 1, 10), datetime(2011, 1, 12)]\n",
    "ts = pd.Series(np.random.standard_normal(6), index = dates)\n",
    "ts"
   ]
  },
  {
   "cell_type": "code",
   "execution_count": 11,
   "id": "ceade226-2edb-4f66-8905-9bba2ec52a23",
   "metadata": {
    "execution": {
     "iopub.execute_input": "2023-09-30T19:47:40.932855Z",
     "iopub.status.busy": "2023-09-30T19:47:40.931854Z",
     "iopub.status.idle": "2023-09-30T19:47:40.947857Z",
     "shell.execute_reply": "2023-09-30T19:47:40.945854Z",
     "shell.execute_reply.started": "2023-09-30T19:47:40.932855Z"
    },
    "tags": []
   },
   "outputs": [
    {
     "data": {
      "text/plain": [
       "DatetimeIndex(['2011-01-02', '2011-01-05', '2011-01-07', '2011-01-08',\n",
       "               '2011-01-10', '2011-01-12'],\n",
       "              dtype='datetime64[ns]', freq=None)"
      ]
     },
     "execution_count": 11,
     "metadata": {},
     "output_type": "execute_result"
    }
   ],
   "source": [
    "ts.index"
   ]
  },
  {
   "cell_type": "markdown",
   "id": "cdb7ff4f-31d8-49e7-a116-630e42a5e111",
   "metadata": {},
   "source": [
    "The same things for regular Pandas series apply here, operations are broadcast and we can also select a value by using the date as an index in our timeseries."
   ]
  },
  {
   "cell_type": "code",
   "execution_count": 12,
   "id": "527a5b01-0a06-43b9-a769-253b0c7a14b2",
   "metadata": {
    "execution": {
     "iopub.execute_input": "2023-09-30T19:47:40.951855Z",
     "iopub.status.busy": "2023-09-30T19:47:40.950859Z",
     "iopub.status.idle": "2023-09-30T19:47:40.977856Z",
     "shell.execute_reply": "2023-09-30T19:47:40.975856Z",
     "shell.execute_reply.started": "2023-09-30T19:47:40.951855Z"
    },
    "tags": []
   },
   "outputs": [
    {
     "data": {
      "text/plain": [
       "2011-01-02    2.631909\n",
       "2011-01-05    1.137291\n",
       "2011-01-07    1.715096\n",
       "2011-01-08    4.148240\n",
       "2011-01-10    0.173050\n",
       "2011-01-12   -2.016368\n",
       "dtype: float64"
      ]
     },
     "execution_count": 12,
     "metadata": {},
     "output_type": "execute_result"
    }
   ],
   "source": [
    "ts = ts*2\n",
    "ts"
   ]
  },
  {
   "cell_type": "code",
   "execution_count": 13,
   "id": "ae43b52c-855d-477b-b803-350830706042",
   "metadata": {
    "execution": {
     "iopub.execute_input": "2023-09-30T19:47:40.980865Z",
     "iopub.status.busy": "2023-09-30T19:47:40.980865Z",
     "iopub.status.idle": "2023-09-30T19:47:41.008856Z",
     "shell.execute_reply": "2023-09-30T19:47:41.006856Z",
     "shell.execute_reply.started": "2023-09-30T19:47:40.980865Z"
    },
    "tags": []
   },
   "outputs": [
    {
     "data": {
      "text/plain": [
       "-2.0163683747939287"
      ]
     },
     "execution_count": 13,
     "metadata": {},
     "output_type": "execute_result"
    }
   ],
   "source": [
    "ts[\"2011-01-12\"]"
   ]
  },
  {
   "cell_type": "markdown",
   "id": "6e004ce1-1a89-463c-a973-cdfaceb1cda7",
   "metadata": {},
   "source": [
    "Something more interesting is when we are manipulating a big timeseries. We will use ```pd.date_range``` for the creation of our timeseries. Let's demonstrate selecting months and slicing."
   ]
  },
  {
   "cell_type": "code",
   "execution_count": 15,
   "id": "5accb7d6-9594-4d50-b480-bba0625a12de",
   "metadata": {
    "execution": {
     "iopub.execute_input": "2023-09-30T19:49:54.542857Z",
     "iopub.status.busy": "2023-09-30T19:49:54.541857Z",
     "iopub.status.idle": "2023-09-30T19:49:54.555856Z",
     "shell.execute_reply": "2023-09-30T19:49:54.553857Z",
     "shell.execute_reply.started": "2023-09-30T19:49:54.542857Z"
    },
    "tags": []
   },
   "outputs": [],
   "source": [
    "longer_ts = pd.Series(np.random.standard_normal(1000),index = pd.date_range(\"2000-01-01\", periods = 1000))\n"
   ]
  },
  {
   "cell_type": "code",
   "execution_count": 20,
   "id": "70cc1726-8c17-4791-8e1a-7673345ba32b",
   "metadata": {
    "execution": {
     "iopub.execute_input": "2023-09-30T19:51:08.231057Z",
     "iopub.status.busy": "2023-09-30T19:51:08.231057Z",
     "iopub.status.idle": "2023-09-30T19:51:08.265063Z",
     "shell.execute_reply": "2023-09-30T19:51:08.263063Z",
     "shell.execute_reply.started": "2023-09-30T19:51:08.231057Z"
    },
    "tags": []
   },
   "outputs": [
    {
     "data": {
      "text/plain": [
       "2001-03-04   -0.319586\n",
       "2001-03-05    1.436451\n",
       "2001-03-06    2.149790\n",
       "2001-03-07   -0.831536\n",
       "2001-03-08    1.851785\n",
       "                ...   \n",
       "2002-02-28   -0.778848\n",
       "2002-03-01   -0.101942\n",
       "2002-03-02    1.336625\n",
       "2002-03-03   -0.030887\n",
       "2002-03-04   -0.847817\n",
       "Freq: D, Length: 366, dtype: float64"
      ]
     },
     "execution_count": 20,
     "metadata": {},
     "output_type": "execute_result"
    }
   ],
   "source": [
    "longer_ts[\"2001-03-04\" : \"2002-03-04\"]"
   ]
  },
  {
   "cell_type": "code",
   "execution_count": 21,
   "id": "58596b6d-9945-4ef7-a06c-c367fcf766e5",
   "metadata": {
    "execution": {
     "iopub.execute_input": "2023-09-30T19:51:54.938472Z",
     "iopub.status.busy": "2023-09-30T19:51:54.937470Z",
     "iopub.status.idle": "2023-09-30T19:51:54.962471Z",
     "shell.execute_reply": "2023-09-30T19:51:54.960471Z",
     "shell.execute_reply.started": "2023-09-30T19:51:54.938472Z"
    }
   },
   "outputs": [
    {
     "data": {
      "text/plain": [
       "2000-03-04   -1.226807\n",
       "2000-03-05    1.476355\n",
       "2000-03-06   -0.533667\n",
       "2000-03-07    0.188040\n",
       "2000-03-08   -2.060823\n",
       "                ...   \n",
       "2001-12-28    1.105419\n",
       "2001-12-29    0.512233\n",
       "2001-12-30   -0.037159\n",
       "2001-12-31    0.234620\n",
       "2002-01-01    1.880367\n",
       "Freq: D, Length: 669, dtype: float64"
      ]
     },
     "execution_count": 21,
     "metadata": {},
     "output_type": "execute_result"
    }
   ],
   "source": [
    "longer_ts[datetime(2000,3,4): datetime(2002,1,1)]"
   ]
  },
  {
   "cell_type": "markdown",
   "id": "85c59fb0-6139-434e-b1b1-f40a7032f4d6",
   "metadata": {},
   "source": [
    "We can also slice with timestamps that are not present in our timeseries."
   ]
  },
  {
   "cell_type": "code",
   "execution_count": 22,
   "id": "0429cced-6ff8-4df7-aa38-f0bd83579f13",
   "metadata": {
    "execution": {
     "iopub.execute_input": "2023-09-30T19:53:06.669193Z",
     "iopub.status.busy": "2023-09-30T19:53:06.669193Z",
     "iopub.status.idle": "2023-09-30T19:53:06.687191Z",
     "shell.execute_reply": "2023-09-30T19:53:06.686195Z",
     "shell.execute_reply.started": "2023-09-30T19:53:06.669193Z"
    }
   },
   "outputs": [
    {
     "data": {
      "text/plain": [
       "2011-01-02    2.631909\n",
       "2011-01-05    1.137291\n",
       "2011-01-07    1.715096\n",
       "2011-01-08    4.148240\n",
       "2011-01-10    0.173050\n",
       "2011-01-12   -2.016368\n",
       "dtype: float64"
      ]
     },
     "execution_count": 22,
     "metadata": {},
     "output_type": "execute_result"
    }
   ],
   "source": [
    "ts"
   ]
  },
  {
   "cell_type": "code",
   "execution_count": 23,
   "id": "3fa88aab-29f3-46bb-891c-9ddb9337fb44",
   "metadata": {
    "execution": {
     "iopub.execute_input": "2023-09-30T19:53:31.669471Z",
     "iopub.status.busy": "2023-09-30T19:53:31.668469Z",
     "iopub.status.idle": "2023-09-30T19:53:31.684458Z",
     "shell.execute_reply": "2023-09-30T19:53:31.683502Z",
     "shell.execute_reply.started": "2023-09-30T19:53:31.669471Z"
    }
   },
   "outputs": [
    {
     "data": {
      "text/plain": [
       "2011-01-07    1.715096\n",
       "2011-01-08    4.148240\n",
       "2011-01-10    0.173050\n",
       "dtype: float64"
      ]
     },
     "execution_count": 23,
     "metadata": {},
     "output_type": "execute_result"
    }
   ],
   "source": [
    "ts[\"2011-01-06\":\"2011-01-11\"]"
   ]
  },
  {
   "cell_type": "code",
   "execution_count": 27,
   "id": "302626ed-b0e4-4e0d-8378-1ae08896594b",
   "metadata": {
    "execution": {
     "iopub.execute_input": "2023-09-30T19:56:39.383813Z",
     "iopub.status.busy": "2023-09-30T19:56:39.383813Z",
     "iopub.status.idle": "2023-09-30T19:56:39.399778Z",
     "shell.execute_reply": "2023-09-30T19:56:39.398818Z",
     "shell.execute_reply.started": "2023-09-30T19:56:39.383813Z"
    },
    "tags": []
   },
   "outputs": [
    {
     "data": {
      "text/plain": [
       "2011-01-02    2.631909\n",
       "dtype: float64"
      ]
     },
     "execution_count": 27,
     "metadata": {},
     "output_type": "execute_result"
    }
   ],
   "source": [
    "ts.truncate(after = \"2011-01-04\") #truncate based on the date provided, here we select everything after the provided date"
   ]
  },
  {
   "cell_type": "code",
   "execution_count": 32,
   "id": "f54a87b3-c42c-4b8f-b273-62242a67b4f3",
   "metadata": {
    "execution": {
     "iopub.execute_input": "2023-09-30T20:03:15.318780Z",
     "iopub.status.busy": "2023-09-30T20:03:15.318780Z",
     "iopub.status.idle": "2023-09-30T20:03:15.363777Z",
     "shell.execute_reply": "2023-09-30T20:03:15.361776Z",
     "shell.execute_reply.started": "2023-09-30T20:03:15.318780Z"
    },
    "tags": []
   },
   "outputs": [
    {
     "data": {
      "text/html": [
       "<div>\n",
       "<style scoped>\n",
       "    .dataframe tbody tr th:only-of-type {\n",
       "        vertical-align: middle;\n",
       "    }\n",
       "\n",
       "    .dataframe tbody tr th {\n",
       "        vertical-align: top;\n",
       "    }\n",
       "\n",
       "    .dataframe thead th {\n",
       "        text-align: right;\n",
       "    }\n",
       "</style>\n",
       "<table border=\"1\" class=\"dataframe\">\n",
       "  <thead>\n",
       "    <tr style=\"text-align: right;\">\n",
       "      <th></th>\n",
       "      <th>Tokyo</th>\n",
       "      <th>Montreal</th>\n",
       "      <th>Madrid</th>\n",
       "      <th>London</th>\n",
       "    </tr>\n",
       "  </thead>\n",
       "  <tbody>\n",
       "    <tr>\n",
       "      <th>2000-01-05</th>\n",
       "      <td>-0.217649</td>\n",
       "      <td>-0.507561</td>\n",
       "      <td>-0.309086</td>\n",
       "      <td>-0.038593</td>\n",
       "    </tr>\n",
       "    <tr>\n",
       "      <th>2000-01-12</th>\n",
       "      <td>0.988522</td>\n",
       "      <td>0.608522</td>\n",
       "      <td>1.186053</td>\n",
       "      <td>0.503930</td>\n",
       "    </tr>\n",
       "    <tr>\n",
       "      <th>2000-01-19</th>\n",
       "      <td>-0.259732</td>\n",
       "      <td>-0.124327</td>\n",
       "      <td>-0.200456</td>\n",
       "      <td>1.853130</td>\n",
       "    </tr>\n",
       "    <tr>\n",
       "      <th>2000-01-26</th>\n",
       "      <td>0.065074</td>\n",
       "      <td>-1.271344</td>\n",
       "      <td>0.173177</td>\n",
       "      <td>-0.249478</td>\n",
       "    </tr>\n",
       "    <tr>\n",
       "      <th>2000-02-02</th>\n",
       "      <td>-0.548159</td>\n",
       "      <td>0.636478</td>\n",
       "      <td>0.257262</td>\n",
       "      <td>-0.760347</td>\n",
       "    </tr>\n",
       "    <tr>\n",
       "      <th>...</th>\n",
       "      <td>...</td>\n",
       "      <td>...</td>\n",
       "      <td>...</td>\n",
       "      <td>...</td>\n",
       "    </tr>\n",
       "    <tr>\n",
       "      <th>2001-10-31</th>\n",
       "      <td>1.053324</td>\n",
       "      <td>-0.690643</td>\n",
       "      <td>0.845887</td>\n",
       "      <td>-0.637795</td>\n",
       "    </tr>\n",
       "    <tr>\n",
       "      <th>2001-11-07</th>\n",
       "      <td>1.035659</td>\n",
       "      <td>1.056141</td>\n",
       "      <td>-0.439073</td>\n",
       "      <td>0.523738</td>\n",
       "    </tr>\n",
       "    <tr>\n",
       "      <th>2001-11-14</th>\n",
       "      <td>0.599747</td>\n",
       "      <td>-0.943704</td>\n",
       "      <td>-1.049486</td>\n",
       "      <td>-0.121962</td>\n",
       "    </tr>\n",
       "    <tr>\n",
       "      <th>2001-11-21</th>\n",
       "      <td>0.570294</td>\n",
       "      <td>-1.081300</td>\n",
       "      <td>-0.255620</td>\n",
       "      <td>0.162231</td>\n",
       "    </tr>\n",
       "    <tr>\n",
       "      <th>2001-11-28</th>\n",
       "      <td>-0.140257</td>\n",
       "      <td>0.995809</td>\n",
       "      <td>0.991168</td>\n",
       "      <td>0.811684</td>\n",
       "    </tr>\n",
       "  </tbody>\n",
       "</table>\n",
       "<p>100 rows × 4 columns</p>\n",
       "</div>"
      ],
      "text/plain": [
       "               Tokyo  Montreal    Madrid    London\n",
       "2000-01-05 -0.217649 -0.507561 -0.309086 -0.038593\n",
       "2000-01-12  0.988522  0.608522  1.186053  0.503930\n",
       "2000-01-19 -0.259732 -0.124327 -0.200456  1.853130\n",
       "2000-01-26  0.065074 -1.271344  0.173177 -0.249478\n",
       "2000-02-02 -0.548159  0.636478  0.257262 -0.760347\n",
       "...              ...       ...       ...       ...\n",
       "2001-10-31  1.053324 -0.690643  0.845887 -0.637795\n",
       "2001-11-07  1.035659  1.056141 -0.439073  0.523738\n",
       "2001-11-14  0.599747 -0.943704 -1.049486 -0.121962\n",
       "2001-11-21  0.570294 -1.081300 -0.255620  0.162231\n",
       "2001-11-28 -0.140257  0.995809  0.991168  0.811684\n",
       "\n",
       "[100 rows x 4 columns]"
      ]
     },
     "execution_count": 32,
     "metadata": {},
     "output_type": "execute_result"
    }
   ],
   "source": [
    "dates = pd.date_range(\"2000-01-01\", periods = 100, freq = \"W-WED\")\n",
    "df_towns = pd.DataFrame(np.random.standard_normal((100,4)), index = dates, columns = [\"Tokyo\", \"Montreal\", \"Madrid\", \"London\"])\n",
    "df_towns"
   ]
  },
  {
   "cell_type": "code",
   "execution_count": 36,
   "id": "751339b6-b211-4e06-aa16-9f2b6f432c59",
   "metadata": {
    "execution": {
     "iopub.execute_input": "2023-09-30T20:04:38.632706Z",
     "iopub.status.busy": "2023-09-30T20:04:38.632706Z",
     "iopub.status.idle": "2023-09-30T20:04:38.644706Z",
     "shell.execute_reply": "2023-09-30T20:04:38.643676Z",
     "shell.execute_reply.started": "2023-09-30T20:04:38.632706Z"
    },
    "tags": []
   },
   "outputs": [
    {
     "data": {
      "text/plain": [
       "Tokyo       1.053324\n",
       "Montreal   -0.690643\n",
       "Madrid      0.845887\n",
       "London     -0.637795\n",
       "Name: 2001-10-31 00:00:00, dtype: float64"
      ]
     },
     "execution_count": 36,
     "metadata": {},
     "output_type": "execute_result"
    }
   ],
   "source": [
    "df_towns.loc[\"2001-10-31\"]"
   ]
  },
  {
   "cell_type": "markdown",
   "id": "eaefa38e-3921-45ef-8b3d-82905be7d1a0",
   "metadata": {},
   "source": [
    "### Working with duplicates"
   ]
  },
  {
   "cell_type": "code",
   "execution_count": 37,
   "id": "c9553ed9-ecca-4c66-889b-88bbc15a5055",
   "metadata": {
    "execution": {
     "iopub.execute_input": "2023-09-30T20:08:38.140236Z",
     "iopub.status.busy": "2023-09-30T20:08:38.140236Z",
     "iopub.status.idle": "2023-09-30T20:08:38.154213Z",
     "shell.execute_reply": "2023-09-30T20:08:38.153212Z",
     "shell.execute_reply.started": "2023-09-30T20:08:38.140236Z"
    }
   },
   "outputs": [
    {
     "data": {
      "text/plain": [
       "2000-01-01    1\n",
       "2000-01-02    2\n",
       "2000-01-02    3\n",
       "2000-01-02    3\n",
       "2000-01-03    4\n",
       "dtype: int64"
      ]
     },
     "execution_count": 37,
     "metadata": {},
     "output_type": "execute_result"
    }
   ],
   "source": [
    "dates = pd.DatetimeIndex([\"2000-01-01\", \"2000-01-02\", \"2000-01-02\",\"2000-01-02\", \"2000-01-03\"])\n",
    "duplicates = pd.Series(data = [1,2,3,3,4], index = dates)\n",
    "duplicates"
   ]
  },
  {
   "cell_type": "code",
   "execution_count": 38,
   "id": "f035a3bd-4dfd-4fee-a78d-155ceb03e86d",
   "metadata": {
    "execution": {
     "iopub.execute_input": "2023-09-30T20:08:56.568399Z",
     "iopub.status.busy": "2023-09-30T20:08:56.568399Z",
     "iopub.status.idle": "2023-09-30T20:08:56.584400Z",
     "shell.execute_reply": "2023-09-30T20:08:56.583399Z",
     "shell.execute_reply.started": "2023-09-30T20:08:56.568399Z"
    }
   },
   "outputs": [
    {
     "data": {
      "text/plain": [
       "2000-01-02    2\n",
       "2000-01-02    3\n",
       "2000-01-02    3\n",
       "dtype: int64"
      ]
     },
     "execution_count": 38,
     "metadata": {},
     "output_type": "execute_result"
    }
   ],
   "source": [
    "duplicates[\"2000-01-02\"]"
   ]
  },
  {
   "cell_type": "code",
   "execution_count": 39,
   "id": "884a29df-e000-4b08-b016-c8f9b00dcdca",
   "metadata": {
    "execution": {
     "iopub.execute_input": "2023-09-30T20:09:34.524589Z",
     "iopub.status.busy": "2023-09-30T20:09:34.524589Z",
     "iopub.status.idle": "2023-09-30T20:09:34.546590Z",
     "shell.execute_reply": "2023-09-30T20:09:34.545589Z",
     "shell.execute_reply.started": "2023-09-30T20:09:34.524589Z"
    }
   },
   "outputs": [
    {
     "data": {
      "text/plain": [
       "2000-01-01    1.000000\n",
       "2000-01-02    2.666667\n",
       "2000-01-03    4.000000\n",
       "dtype: float64"
      ]
     },
     "execution_count": 39,
     "metadata": {},
     "output_type": "execute_result"
    }
   ],
   "source": [
    "duplicates.groupby(level = 0).mean()"
   ]
  },
  {
   "cell_type": "code",
   "execution_count": null,
   "id": "bceecaba-fff0-4624-8b3d-2418dac3d5a6",
   "metadata": {},
   "outputs": [],
   "source": []
  }
 ],
 "metadata": {
  "kernelspec": {
   "display_name": "Python 3",
   "language": "python",
   "name": "python3"
  },
  "language_info": {
   "codemirror_mode": {
    "name": "ipython",
    "version": 3
   },
   "file_extension": ".py",
   "mimetype": "text/x-python",
   "name": "python",
   "nbconvert_exporter": "python",
   "pygments_lexer": "ipython3",
   "version": "3.9.13"
  }
 },
 "nbformat": 4,
 "nbformat_minor": 5
}
