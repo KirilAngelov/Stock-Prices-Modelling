{
 "cells": [
  {
   "cell_type": "code",
   "execution_count": 91,
   "id": "a7e95dec-48e2-402c-a46f-7e48cf464787",
   "metadata": {
    "execution": {
     "iopub.execute_input": "2023-10-09T20:43:07.219564Z",
     "iopub.status.busy": "2023-10-09T20:43:07.219564Z",
     "iopub.status.idle": "2023-10-09T20:43:07.232560Z",
     "shell.execute_reply": "2023-10-09T20:43:07.231564Z",
     "shell.execute_reply.started": "2023-10-09T20:43:07.219564Z"
    },
    "tags": []
   },
   "outputs": [],
   "source": [
    "import numpy as np\n",
    "import pandas as pd\n",
    "import pytz\n",
    "from datetime import datetime, timedelta\n",
    "from pandas.tseries.offsets import Hour, Minute, Second\n",
    "from pandas.tseries.offsets import Day, MonthEnd\n",
    "import matplotlib.pyplot as plt"
   ]
  },
  {
   "cell_type": "markdown",
   "id": "d3b32b96-6d7e-4291-b41a-dad794bed8f8",
   "metadata": {},
   "source": [
    "### Basic date manipulations in Python\n",
    "\n",
    "Python supports a datetime module which has several functionalitites:\n",
    "1. Datetime objects representing a specific date in time with years, months and days\n",
    "2. Addition and substraction of datetime objects\n",
    "3. Format datetime objects based on different format specification\n",
    "\n",
    "Pandas supports handling of null value timestampts with its NaT which stands for Not a Time."
   ]
  },
  {
   "cell_type": "code",
   "execution_count": 2,
   "id": "512188ca-e3e8-4cc9-a45f-685275f231cf",
   "metadata": {
    "execution": {
     "iopub.execute_input": "2023-10-09T20:08:09.722387Z",
     "iopub.status.busy": "2023-10-09T20:08:09.722387Z",
     "iopub.status.idle": "2023-10-09T20:08:09.751398Z",
     "shell.execute_reply": "2023-10-09T20:08:09.750411Z",
     "shell.execute_reply.started": "2023-10-09T20:08:09.722387Z"
    },
    "tags": []
   },
   "outputs": [
    {
     "data": {
      "text/plain": [
       "datetime.datetime(2023, 10, 9, 23, 8, 9, 724391)"
      ]
     },
     "execution_count": 2,
     "metadata": {},
     "output_type": "execute_result"
    }
   ],
   "source": [
    "current_date = datetime.now()\n",
    "current_date"
   ]
  },
  {
   "cell_type": "code",
   "execution_count": 3,
   "id": "5ce89368-7f7f-4b59-add9-9a0737c094eb",
   "metadata": {
    "execution": {
     "iopub.execute_input": "2023-10-09T20:08:09.753388Z",
     "iopub.status.busy": "2023-10-09T20:08:09.753388Z",
     "iopub.status.idle": "2023-10-09T20:08:09.767392Z",
     "shell.execute_reply": "2023-10-09T20:08:09.765393Z",
     "shell.execute_reply.started": "2023-10-09T20:08:09.753388Z"
    },
    "tags": []
   },
   "outputs": [
    {
     "data": {
      "text/plain": [
       "(2023, 10, 9)"
      ]
     },
     "execution_count": 3,
     "metadata": {},
     "output_type": "execute_result"
    }
   ],
   "source": [
    "current_date.year, current_date.month, current_date.day"
   ]
  },
  {
   "cell_type": "code",
   "execution_count": 4,
   "id": "0bd31945-8a4c-4b6b-8500-2bf43097bcda",
   "metadata": {
    "execution": {
     "iopub.execute_input": "2023-10-09T20:08:09.769396Z",
     "iopub.status.busy": "2023-10-09T20:08:09.769396Z",
     "iopub.status.idle": "2023-10-09T20:08:09.782392Z",
     "shell.execute_reply": "2023-10-09T20:08:09.780401Z",
     "shell.execute_reply.started": "2023-10-09T20:08:09.769396Z"
    },
    "tags": []
   },
   "outputs": [
    {
     "data": {
      "text/plain": [
       "datetime.timedelta(days=5575, seconds=56700)"
      ]
     },
     "execution_count": 4,
     "metadata": {},
     "output_type": "execute_result"
    }
   ],
   "source": [
    "delta = datetime(2019, 1, 7) - datetime(2003, 10, 2, 8, 15)\n",
    "delta"
   ]
  },
  {
   "cell_type": "code",
   "execution_count": 5,
   "id": "c1f65b83-6f1c-48ac-a6b5-70c775698b66",
   "metadata": {
    "execution": {
     "iopub.execute_input": "2023-10-09T20:08:09.793427Z",
     "iopub.status.busy": "2023-10-09T20:08:09.792389Z",
     "iopub.status.idle": "2023-10-09T20:08:09.813392Z",
     "shell.execute_reply": "2023-10-09T20:08:09.811387Z",
     "shell.execute_reply.started": "2023-10-09T20:08:09.793427Z"
    },
    "tags": []
   },
   "outputs": [
    {
     "data": {
      "text/plain": [
       "datetime.timedelta(days=5585, seconds=56700)"
      ]
     },
     "execution_count": 5,
     "metadata": {},
     "output_type": "execute_result"
    }
   ],
   "source": [
    "delta = delta + timedelta(10)\n",
    "delta"
   ]
  },
  {
   "cell_type": "code",
   "execution_count": 6,
   "id": "a9a03a15-8ad1-42c8-aa60-ecd6f2fef703",
   "metadata": {
    "execution": {
     "iopub.execute_input": "2023-10-09T20:08:09.816388Z",
     "iopub.status.busy": "2023-10-09T20:08:09.816388Z",
     "iopub.status.idle": "2023-10-09T20:08:09.828390Z",
     "shell.execute_reply": "2023-10-09T20:08:09.827426Z",
     "shell.execute_reply.started": "2023-10-09T20:08:09.816388Z"
    },
    "tags": []
   },
   "outputs": [
    {
     "name": "stdout",
     "output_type": "stream",
     "text": [
      "2011-01-03 00:00:00\n"
     ]
    }
   ],
   "source": [
    "stamp = datetime(2011,1,3)\n",
    "print(str(stamp))"
   ]
  },
  {
   "cell_type": "code",
   "execution_count": 7,
   "id": "beaf174c-b1f9-4d5b-92bb-2f4a7b3acd65",
   "metadata": {
    "execution": {
     "iopub.execute_input": "2023-10-09T20:08:09.833389Z",
     "iopub.status.busy": "2023-10-09T20:08:09.831392Z",
     "iopub.status.idle": "2023-10-09T20:08:09.844391Z",
     "shell.execute_reply": "2023-10-09T20:08:09.843390Z",
     "shell.execute_reply.started": "2023-10-09T20:08:09.833389Z"
    },
    "tags": []
   },
   "outputs": [
    {
     "data": {
      "text/plain": [
       "'01/03/11'"
      ]
     },
     "execution_count": 7,
     "metadata": {},
     "output_type": "execute_result"
    }
   ],
   "source": [
    "stamp = stamp.strftime(\"%D\")\n",
    "stamp"
   ]
  },
  {
   "cell_type": "code",
   "execution_count": 8,
   "id": "e5a378eb-a89f-458c-b27e-d5142fd69b8b",
   "metadata": {
    "execution": {
     "iopub.execute_input": "2023-10-09T20:08:09.848394Z",
     "iopub.status.busy": "2023-10-09T20:08:09.847391Z",
     "iopub.status.idle": "2023-10-09T20:08:09.876387Z",
     "shell.execute_reply": "2023-10-09T20:08:09.874424Z",
     "shell.execute_reply.started": "2023-10-09T20:08:09.848394Z"
    },
    "tags": []
   },
   "outputs": [
    {
     "data": {
      "text/plain": [
       "datetime.datetime(2011, 1, 3, 0, 0)"
      ]
     },
     "execution_count": 8,
     "metadata": {},
     "output_type": "execute_result"
    }
   ],
   "source": [
    "value = \"2011-01-03\"\n",
    "datetime.strptime(value, \"%Y-%m-%d\")"
   ]
  },
  {
   "cell_type": "code",
   "execution_count": 9,
   "id": "56342b9c-0536-4dce-ab9f-eb4fc0993df3",
   "metadata": {
    "execution": {
     "iopub.execute_input": "2023-10-09T20:08:09.879389Z",
     "iopub.status.busy": "2023-10-09T20:08:09.878425Z",
     "iopub.status.idle": "2023-10-09T20:08:09.910454Z",
     "shell.execute_reply": "2023-10-09T20:08:09.905426Z",
     "shell.execute_reply.started": "2023-10-09T20:08:09.879389Z"
    },
    "tags": []
   },
   "outputs": [
    {
     "data": {
      "text/plain": [
       "DatetimeIndex(['2015-03-18', '1996-07-03', 'NaT'], dtype='datetime64[ns]', freq=None)"
      ]
     },
     "execution_count": 9,
     "metadata": {},
     "output_type": "execute_result"
    }
   ],
   "source": [
    "dates_arr = [\"2015-03-18\", \"1996-07-03\", None]\n",
    "datetime_index = pd.to_datetime(dates_arr)\n",
    "datetime_index"
   ]
  },
  {
   "cell_type": "markdown",
   "id": "0771156f-d085-47e3-8fa5-35b74dce22fd",
   "metadata": {},
   "source": [
    "### Time Series in Pandas\n",
    "\n",
    "Times series are essentially an a Pandas series with its index set to the timestamps. \n",
    "\n",
    "Timestamps show the specific value of something in that time. For now we will just fill the values with random ones"
   ]
  },
  {
   "cell_type": "code",
   "execution_count": 10,
   "id": "cd1a4f70-4e1f-40bd-8462-2e414b32c027",
   "metadata": {
    "execution": {
     "iopub.execute_input": "2023-10-09T20:08:09.914387Z",
     "iopub.status.busy": "2023-10-09T20:08:09.913390Z",
     "iopub.status.idle": "2023-10-09T20:08:09.938392Z",
     "shell.execute_reply": "2023-10-09T20:08:09.936403Z",
     "shell.execute_reply.started": "2023-10-09T20:08:09.914387Z"
    },
    "tags": []
   },
   "outputs": [
    {
     "data": {
      "text/plain": [
       "2011-01-02    1.188353\n",
       "2011-01-05    0.708290\n",
       "2011-01-07   -0.055270\n",
       "2011-01-08   -0.332874\n",
       "2011-01-10   -1.070696\n",
       "2011-01-12   -0.803902\n",
       "dtype: float64"
      ]
     },
     "execution_count": 10,
     "metadata": {},
     "output_type": "execute_result"
    }
   ],
   "source": [
    "dates = [datetime(2011, 1, 2), datetime(2011, 1, 5),\n",
    "         datetime(2011, 1, 7), datetime(2011, 1, 8),\n",
    "         datetime(2011, 1, 10), datetime(2011, 1, 12)]\n",
    "ts = pd.Series(np.random.standard_normal(6), index = dates)\n",
    "ts"
   ]
  },
  {
   "cell_type": "code",
   "execution_count": 11,
   "id": "ceade226-2edb-4f66-8905-9bba2ec52a23",
   "metadata": {
    "execution": {
     "iopub.execute_input": "2023-10-09T20:08:09.940390Z",
     "iopub.status.busy": "2023-10-09T20:08:09.940390Z",
     "iopub.status.idle": "2023-10-09T20:08:09.953387Z",
     "shell.execute_reply": "2023-10-09T20:08:09.952429Z",
     "shell.execute_reply.started": "2023-10-09T20:08:09.940390Z"
    },
    "tags": []
   },
   "outputs": [
    {
     "data": {
      "text/plain": [
       "DatetimeIndex(['2011-01-02', '2011-01-05', '2011-01-07', '2011-01-08',\n",
       "               '2011-01-10', '2011-01-12'],\n",
       "              dtype='datetime64[ns]', freq=None)"
      ]
     },
     "execution_count": 11,
     "metadata": {},
     "output_type": "execute_result"
    }
   ],
   "source": [
    "ts.index"
   ]
  },
  {
   "cell_type": "markdown",
   "id": "cdb7ff4f-31d8-49e7-a116-630e42a5e111",
   "metadata": {},
   "source": [
    "The same things for regular Pandas series apply here, operations are broadcast and we can also select a value by using the date as an index in our timeseries."
   ]
  },
  {
   "cell_type": "code",
   "execution_count": 12,
   "id": "527a5b01-0a06-43b9-a769-253b0c7a14b2",
   "metadata": {
    "execution": {
     "iopub.execute_input": "2023-10-09T20:08:09.957392Z",
     "iopub.status.busy": "2023-10-09T20:08:09.955390Z",
     "iopub.status.idle": "2023-10-09T20:08:09.984388Z",
     "shell.execute_reply": "2023-10-09T20:08:09.983389Z",
     "shell.execute_reply.started": "2023-10-09T20:08:09.956392Z"
    },
    "tags": []
   },
   "outputs": [
    {
     "data": {
      "text/plain": [
       "2011-01-02    2.376705\n",
       "2011-01-05    1.416579\n",
       "2011-01-07   -0.110539\n",
       "2011-01-08   -0.665747\n",
       "2011-01-10   -2.141392\n",
       "2011-01-12   -1.607804\n",
       "dtype: float64"
      ]
     },
     "execution_count": 12,
     "metadata": {},
     "output_type": "execute_result"
    }
   ],
   "source": [
    "ts = ts*2\n",
    "ts"
   ]
  },
  {
   "cell_type": "code",
   "execution_count": 13,
   "id": "ae43b52c-855d-477b-b803-350830706042",
   "metadata": {
    "execution": {
     "iopub.execute_input": "2023-10-09T20:08:09.987388Z",
     "iopub.status.busy": "2023-10-09T20:08:09.986389Z",
     "iopub.status.idle": "2023-10-09T20:08:10.015389Z",
     "shell.execute_reply": "2023-10-09T20:08:10.013397Z",
     "shell.execute_reply.started": "2023-10-09T20:08:09.987388Z"
    },
    "tags": []
   },
   "outputs": [
    {
     "data": {
      "text/plain": [
       "-1.6078038369459673"
      ]
     },
     "execution_count": 13,
     "metadata": {},
     "output_type": "execute_result"
    }
   ],
   "source": [
    "ts[\"2011-01-12\"]"
   ]
  },
  {
   "cell_type": "markdown",
   "id": "6e004ce1-1a89-463c-a973-cdfaceb1cda7",
   "metadata": {},
   "source": [
    "Something more interesting is when we are manipulating a big timeseries. We will use ```pd.date_range``` for the creation of our timeseries. Let's demonstrate selecting months and slicing."
   ]
  },
  {
   "cell_type": "code",
   "execution_count": 14,
   "id": "5accb7d6-9594-4d50-b480-bba0625a12de",
   "metadata": {
    "execution": {
     "iopub.execute_input": "2023-10-09T20:08:10.018389Z",
     "iopub.status.busy": "2023-10-09T20:08:10.017387Z",
     "iopub.status.idle": "2023-10-09T20:08:10.032388Z",
     "shell.execute_reply": "2023-10-09T20:08:10.029390Z",
     "shell.execute_reply.started": "2023-10-09T20:08:10.018389Z"
    },
    "tags": []
   },
   "outputs": [],
   "source": [
    "longer_ts = pd.Series(np.random.standard_normal(1000),index = pd.date_range(\"2000-01-01\", periods = 1000))\n"
   ]
  },
  {
   "cell_type": "code",
   "execution_count": 15,
   "id": "70cc1726-8c17-4791-8e1a-7673345ba32b",
   "metadata": {
    "execution": {
     "iopub.execute_input": "2023-10-09T20:08:10.035389Z",
     "iopub.status.busy": "2023-10-09T20:08:10.034393Z",
     "iopub.status.idle": "2023-10-09T20:08:10.064388Z",
     "shell.execute_reply": "2023-10-09T20:08:10.060392Z",
     "shell.execute_reply.started": "2023-10-09T20:08:10.035389Z"
    },
    "tags": []
   },
   "outputs": [
    {
     "data": {
      "text/plain": [
       "2001-03-04   -0.562484\n",
       "2001-03-05    1.426742\n",
       "2001-03-06    1.190147\n",
       "2001-03-07   -0.245448\n",
       "2001-03-08   -3.178409\n",
       "                ...   \n",
       "2002-02-28    1.745655\n",
       "2002-03-01    0.259269\n",
       "2002-03-02   -1.521790\n",
       "2002-03-03    0.443297\n",
       "2002-03-04    0.650932\n",
       "Freq: D, Length: 366, dtype: float64"
      ]
     },
     "execution_count": 15,
     "metadata": {},
     "output_type": "execute_result"
    }
   ],
   "source": [
    "longer_ts[\"2001-03-04\" : \"2002-03-04\"]"
   ]
  },
  {
   "cell_type": "code",
   "execution_count": 16,
   "id": "58596b6d-9945-4ef7-a06c-c367fcf766e5",
   "metadata": {
    "execution": {
     "iopub.execute_input": "2023-10-09T20:08:10.068391Z",
     "iopub.status.busy": "2023-10-09T20:08:10.067390Z",
     "iopub.status.idle": "2023-10-09T20:08:10.092393Z",
     "shell.execute_reply": "2023-10-09T20:08:10.091418Z",
     "shell.execute_reply.started": "2023-10-09T20:08:10.068391Z"
    }
   },
   "outputs": [
    {
     "data": {
      "text/plain": [
       "2000-03-04    1.085103\n",
       "2000-03-05   -0.431077\n",
       "2000-03-06   -0.815011\n",
       "2000-03-07   -0.021413\n",
       "2000-03-08    0.575687\n",
       "                ...   \n",
       "2001-12-28    0.100170\n",
       "2001-12-29    0.098292\n",
       "2001-12-30   -0.878774\n",
       "2001-12-31    1.412670\n",
       "2002-01-01   -0.329882\n",
       "Freq: D, Length: 669, dtype: float64"
      ]
     },
     "execution_count": 16,
     "metadata": {},
     "output_type": "execute_result"
    }
   ],
   "source": [
    "longer_ts[datetime(2000,3,4): datetime(2002,1,1)]"
   ]
  },
  {
   "cell_type": "markdown",
   "id": "85c59fb0-6139-434e-b1b1-f40a7032f4d6",
   "metadata": {},
   "source": [
    "We can also slice with timestamps that are not present in our timeseries."
   ]
  },
  {
   "cell_type": "code",
   "execution_count": 17,
   "id": "0429cced-6ff8-4df7-aa38-f0bd83579f13",
   "metadata": {
    "execution": {
     "iopub.execute_input": "2023-10-09T20:08:10.095390Z",
     "iopub.status.busy": "2023-10-09T20:08:10.094391Z",
     "iopub.status.idle": "2023-10-09T20:08:10.123388Z",
     "shell.execute_reply": "2023-10-09T20:08:10.122427Z",
     "shell.execute_reply.started": "2023-10-09T20:08:10.095390Z"
    }
   },
   "outputs": [
    {
     "data": {
      "text/plain": [
       "2011-01-02    2.376705\n",
       "2011-01-05    1.416579\n",
       "2011-01-07   -0.110539\n",
       "2011-01-08   -0.665747\n",
       "2011-01-10   -2.141392\n",
       "2011-01-12   -1.607804\n",
       "dtype: float64"
      ]
     },
     "execution_count": 17,
     "metadata": {},
     "output_type": "execute_result"
    }
   ],
   "source": [
    "ts"
   ]
  },
  {
   "cell_type": "code",
   "execution_count": 18,
   "id": "3fa88aab-29f3-46bb-891c-9ddb9337fb44",
   "metadata": {
    "execution": {
     "iopub.execute_input": "2023-10-09T20:08:10.127426Z",
     "iopub.status.busy": "2023-10-09T20:08:10.127426Z",
     "iopub.status.idle": "2023-10-09T20:08:10.154388Z",
     "shell.execute_reply": "2023-10-09T20:08:10.153431Z",
     "shell.execute_reply.started": "2023-10-09T20:08:10.127426Z"
    }
   },
   "outputs": [
    {
     "data": {
      "text/plain": [
       "2011-01-07   -0.110539\n",
       "2011-01-08   -0.665747\n",
       "2011-01-10   -2.141392\n",
       "dtype: float64"
      ]
     },
     "execution_count": 18,
     "metadata": {},
     "output_type": "execute_result"
    }
   ],
   "source": [
    "ts[\"2011-01-06\":\"2011-01-11\"]"
   ]
  },
  {
   "cell_type": "code",
   "execution_count": 19,
   "id": "302626ed-b0e4-4e0d-8378-1ae08896594b",
   "metadata": {
    "execution": {
     "iopub.execute_input": "2023-10-09T20:08:10.157388Z",
     "iopub.status.busy": "2023-10-09T20:08:10.157388Z",
     "iopub.status.idle": "2023-10-09T20:08:10.187393Z",
     "shell.execute_reply": "2023-10-09T20:08:10.185395Z",
     "shell.execute_reply.started": "2023-10-09T20:08:10.157388Z"
    },
    "tags": []
   },
   "outputs": [
    {
     "data": {
      "text/plain": [
       "2011-01-02    2.376705\n",
       "dtype: float64"
      ]
     },
     "execution_count": 19,
     "metadata": {},
     "output_type": "execute_result"
    }
   ],
   "source": [
    "ts.truncate(after = \"2011-01-04\") #truncate based on the date provided, here we select everything after the provided date"
   ]
  },
  {
   "cell_type": "code",
   "execution_count": 20,
   "id": "f54a87b3-c42c-4b8f-b273-62242a67b4f3",
   "metadata": {
    "execution": {
     "iopub.execute_input": "2023-10-09T20:08:10.192402Z",
     "iopub.status.busy": "2023-10-09T20:08:10.190398Z",
     "iopub.status.idle": "2023-10-09T20:08:10.249391Z",
     "shell.execute_reply": "2023-10-09T20:08:10.247411Z",
     "shell.execute_reply.started": "2023-10-09T20:08:10.192402Z"
    },
    "tags": []
   },
   "outputs": [
    {
     "data": {
      "text/html": [
       "<div>\n",
       "<style scoped>\n",
       "    .dataframe tbody tr th:only-of-type {\n",
       "        vertical-align: middle;\n",
       "    }\n",
       "\n",
       "    .dataframe tbody tr th {\n",
       "        vertical-align: top;\n",
       "    }\n",
       "\n",
       "    .dataframe thead th {\n",
       "        text-align: right;\n",
       "    }\n",
       "</style>\n",
       "<table border=\"1\" class=\"dataframe\">\n",
       "  <thead>\n",
       "    <tr style=\"text-align: right;\">\n",
       "      <th></th>\n",
       "      <th>Tokyo</th>\n",
       "      <th>Montreal</th>\n",
       "      <th>Madrid</th>\n",
       "      <th>London</th>\n",
       "    </tr>\n",
       "  </thead>\n",
       "  <tbody>\n",
       "    <tr>\n",
       "      <th>2000-01-05</th>\n",
       "      <td>1.305381</td>\n",
       "      <td>-0.425701</td>\n",
       "      <td>0.139724</td>\n",
       "      <td>-0.050027</td>\n",
       "    </tr>\n",
       "    <tr>\n",
       "      <th>2000-01-12</th>\n",
       "      <td>2.269944</td>\n",
       "      <td>-0.405261</td>\n",
       "      <td>3.511892</td>\n",
       "      <td>2.180556</td>\n",
       "    </tr>\n",
       "    <tr>\n",
       "      <th>2000-01-19</th>\n",
       "      <td>1.298355</td>\n",
       "      <td>-1.085938</td>\n",
       "      <td>-0.932520</td>\n",
       "      <td>0.752929</td>\n",
       "    </tr>\n",
       "    <tr>\n",
       "      <th>2000-01-26</th>\n",
       "      <td>-0.676409</td>\n",
       "      <td>0.707007</td>\n",
       "      <td>0.975453</td>\n",
       "      <td>0.529796</td>\n",
       "    </tr>\n",
       "    <tr>\n",
       "      <th>2000-02-02</th>\n",
       "      <td>-0.125726</td>\n",
       "      <td>0.848431</td>\n",
       "      <td>-0.843737</td>\n",
       "      <td>-0.108116</td>\n",
       "    </tr>\n",
       "    <tr>\n",
       "      <th>...</th>\n",
       "      <td>...</td>\n",
       "      <td>...</td>\n",
       "      <td>...</td>\n",
       "      <td>...</td>\n",
       "    </tr>\n",
       "    <tr>\n",
       "      <th>2001-10-31</th>\n",
       "      <td>-1.894543</td>\n",
       "      <td>0.134203</td>\n",
       "      <td>-1.738118</td>\n",
       "      <td>0.759894</td>\n",
       "    </tr>\n",
       "    <tr>\n",
       "      <th>2001-11-07</th>\n",
       "      <td>0.197882</td>\n",
       "      <td>0.430427</td>\n",
       "      <td>-2.301897</td>\n",
       "      <td>0.391602</td>\n",
       "    </tr>\n",
       "    <tr>\n",
       "      <th>2001-11-14</th>\n",
       "      <td>0.556712</td>\n",
       "      <td>0.337815</td>\n",
       "      <td>-0.229206</td>\n",
       "      <td>0.512061</td>\n",
       "    </tr>\n",
       "    <tr>\n",
       "      <th>2001-11-21</th>\n",
       "      <td>-0.154951</td>\n",
       "      <td>-0.016419</td>\n",
       "      <td>-0.058824</td>\n",
       "      <td>-0.001022</td>\n",
       "    </tr>\n",
       "    <tr>\n",
       "      <th>2001-11-28</th>\n",
       "      <td>0.371085</td>\n",
       "      <td>0.353808</td>\n",
       "      <td>-1.543858</td>\n",
       "      <td>-0.255684</td>\n",
       "    </tr>\n",
       "  </tbody>\n",
       "</table>\n",
       "<p>100 rows × 4 columns</p>\n",
       "</div>"
      ],
      "text/plain": [
       "               Tokyo  Montreal    Madrid    London\n",
       "2000-01-05  1.305381 -0.425701  0.139724 -0.050027\n",
       "2000-01-12  2.269944 -0.405261  3.511892  2.180556\n",
       "2000-01-19  1.298355 -1.085938 -0.932520  0.752929\n",
       "2000-01-26 -0.676409  0.707007  0.975453  0.529796\n",
       "2000-02-02 -0.125726  0.848431 -0.843737 -0.108116\n",
       "...              ...       ...       ...       ...\n",
       "2001-10-31 -1.894543  0.134203 -1.738118  0.759894\n",
       "2001-11-07  0.197882  0.430427 -2.301897  0.391602\n",
       "2001-11-14  0.556712  0.337815 -0.229206  0.512061\n",
       "2001-11-21 -0.154951 -0.016419 -0.058824 -0.001022\n",
       "2001-11-28  0.371085  0.353808 -1.543858 -0.255684\n",
       "\n",
       "[100 rows x 4 columns]"
      ]
     },
     "execution_count": 20,
     "metadata": {},
     "output_type": "execute_result"
    }
   ],
   "source": [
    "dates = pd.date_range(\"2000-01-01\", periods = 100, freq = \"W-WED\")\n",
    "df_towns = pd.DataFrame(np.random.standard_normal((100,4)), index = dates, columns = [\"Tokyo\", \"Montreal\", \"Madrid\", \"London\"])\n",
    "df_towns"
   ]
  },
  {
   "cell_type": "code",
   "execution_count": 21,
   "id": "751339b6-b211-4e06-aa16-9f2b6f432c59",
   "metadata": {
    "execution": {
     "iopub.execute_input": "2023-10-09T20:08:10.252388Z",
     "iopub.status.busy": "2023-10-09T20:08:10.251405Z",
     "iopub.status.idle": "2023-10-09T20:08:10.280389Z",
     "shell.execute_reply": "2023-10-09T20:08:10.278390Z",
     "shell.execute_reply.started": "2023-10-09T20:08:10.252388Z"
    },
    "tags": []
   },
   "outputs": [
    {
     "data": {
      "text/plain": [
       "Tokyo      -1.894543\n",
       "Montreal    0.134203\n",
       "Madrid     -1.738118\n",
       "London      0.759894\n",
       "Name: 2001-10-31 00:00:00, dtype: float64"
      ]
     },
     "execution_count": 21,
     "metadata": {},
     "output_type": "execute_result"
    }
   ],
   "source": [
    "df_towns.loc[\"2001-10-31\"]"
   ]
  },
  {
   "cell_type": "markdown",
   "id": "eaefa38e-3921-45ef-8b3d-82905be7d1a0",
   "metadata": {},
   "source": [
    "### Working with duplicates"
   ]
  },
  {
   "cell_type": "code",
   "execution_count": 22,
   "id": "c9553ed9-ecca-4c66-889b-88bbc15a5055",
   "metadata": {
    "execution": {
     "iopub.execute_input": "2023-10-09T20:08:10.286395Z",
     "iopub.status.busy": "2023-10-09T20:08:10.285404Z",
     "iopub.status.idle": "2023-10-09T20:08:10.311388Z",
     "shell.execute_reply": "2023-10-09T20:08:10.309431Z",
     "shell.execute_reply.started": "2023-10-09T20:08:10.286395Z"
    }
   },
   "outputs": [
    {
     "data": {
      "text/plain": [
       "2000-01-01    1\n",
       "2000-01-02    2\n",
       "2000-01-02    3\n",
       "2000-01-02    3\n",
       "2000-01-03    4\n",
       "dtype: int64"
      ]
     },
     "execution_count": 22,
     "metadata": {},
     "output_type": "execute_result"
    }
   ],
   "source": [
    "dates = pd.DatetimeIndex([\"2000-01-01\", \"2000-01-02\", \"2000-01-02\",\"2000-01-02\", \"2000-01-03\"])\n",
    "duplicates = pd.Series(data = [1,2,3,3,4], index = dates)\n",
    "duplicates"
   ]
  },
  {
   "cell_type": "code",
   "execution_count": 23,
   "id": "f035a3bd-4dfd-4fee-a78d-155ceb03e86d",
   "metadata": {
    "execution": {
     "iopub.execute_input": "2023-10-09T20:08:10.317393Z",
     "iopub.status.busy": "2023-10-09T20:08:10.315390Z",
     "iopub.status.idle": "2023-10-09T20:08:10.341388Z",
     "shell.execute_reply": "2023-10-09T20:08:10.340390Z",
     "shell.execute_reply.started": "2023-10-09T20:08:10.317393Z"
    }
   },
   "outputs": [
    {
     "data": {
      "text/plain": [
       "2000-01-02    2\n",
       "2000-01-02    3\n",
       "2000-01-02    3\n",
       "dtype: int64"
      ]
     },
     "execution_count": 23,
     "metadata": {},
     "output_type": "execute_result"
    }
   ],
   "source": [
    "duplicates[\"2000-01-02\"]"
   ]
  },
  {
   "cell_type": "code",
   "execution_count": 24,
   "id": "884a29df-e000-4b08-b016-c8f9b00dcdca",
   "metadata": {
    "execution": {
     "iopub.execute_input": "2023-10-09T20:08:10.343388Z",
     "iopub.status.busy": "2023-10-09T20:08:10.343388Z",
     "iopub.status.idle": "2023-10-09T20:08:10.372389Z",
     "shell.execute_reply": "2023-10-09T20:08:10.371390Z",
     "shell.execute_reply.started": "2023-10-09T20:08:10.343388Z"
    }
   },
   "outputs": [
    {
     "data": {
      "text/plain": [
       "2000-01-01    1.000000\n",
       "2000-01-02    2.666667\n",
       "2000-01-03    4.000000\n",
       "dtype: float64"
      ]
     },
     "execution_count": 24,
     "metadata": {},
     "output_type": "execute_result"
    }
   ],
   "source": [
    "duplicates.groupby(level = 0).mean()"
   ]
  },
  {
   "cell_type": "markdown",
   "id": "9b47e39a-8a99-49d6-93c7-669d6a58d334",
   "metadata": {},
   "source": [
    "### Working with frequencies\n",
    "When working with time series, we have many options for frequencies. For example once a week, every hour or different frequencies. Pandas has a ```resample``` method for this purpose."
   ]
  },
  {
   "cell_type": "code",
   "execution_count": 25,
   "id": "fd434a95-70ee-4588-ab48-6fcf5fb322f5",
   "metadata": {
    "execution": {
     "iopub.execute_input": "2023-10-09T20:08:10.375388Z",
     "iopub.status.busy": "2023-10-09T20:08:10.375388Z",
     "iopub.status.idle": "2023-10-09T20:08:10.388390Z",
     "shell.execute_reply": "2023-10-09T20:08:10.387388Z",
     "shell.execute_reply.started": "2023-10-09T20:08:10.375388Z"
    }
   },
   "outputs": [
    {
     "data": {
      "text/plain": [
       "2011-01-02    2.376705\n",
       "2011-01-05    1.416579\n",
       "2011-01-07   -0.110539\n",
       "2011-01-08   -0.665747\n",
       "2011-01-10   -2.141392\n",
       "2011-01-12   -1.607804\n",
       "dtype: float64"
      ]
     },
     "execution_count": 25,
     "metadata": {},
     "output_type": "execute_result"
    }
   ],
   "source": [
    "ts"
   ]
  },
  {
   "cell_type": "code",
   "execution_count": 26,
   "id": "1f7fee8d-531c-4f2c-bcf8-e9c2a5789563",
   "metadata": {
    "execution": {
     "iopub.execute_input": "2023-10-09T20:08:10.394389Z",
     "iopub.status.busy": "2023-10-09T20:08:10.393390Z",
     "iopub.status.idle": "2023-10-09T20:08:10.437391Z",
     "shell.execute_reply": "2023-10-09T20:08:10.434407Z",
     "shell.execute_reply.started": "2023-10-09T20:08:10.394389Z"
    }
   },
   "outputs": [
    {
     "data": {
      "text/plain": [
       "<pandas.core.resample.DatetimeIndexResampler object at 0x000001FC1FB837C0>"
      ]
     },
     "execution_count": 26,
     "metadata": {},
     "output_type": "execute_result"
    }
   ],
   "source": [
    "ts = ts.resample(\"D\") #parameter indicates how to resample\n",
    "ts"
   ]
  },
  {
   "cell_type": "markdown",
   "id": "8b680434-241b-4c87-8f6a-67554b693ab0",
   "metadata": {},
   "source": [
    "```pd.date_range``` can be used to generate large sequences of data starting or ending on a particular date. Also these periods can be a specific number of days or other."
   ]
  },
  {
   "cell_type": "code",
   "execution_count": 27,
   "id": "8b6f6fdf-7eb2-43ba-a83c-44339059dae0",
   "metadata": {
    "execution": {
     "iopub.execute_input": "2023-10-09T20:08:10.441390Z",
     "iopub.status.busy": "2023-10-09T20:08:10.440390Z",
     "iopub.status.idle": "2023-10-09T20:08:10.467391Z",
     "shell.execute_reply": "2023-10-09T20:08:10.465389Z",
     "shell.execute_reply.started": "2023-10-09T20:08:10.441390Z"
    },
    "tags": []
   },
   "outputs": [
    {
     "data": {
      "text/plain": [
       "DatetimeIndex(['2016-12-12', '2016-12-13', '2016-12-14', '2016-12-15',\n",
       "               '2016-12-16', '2016-12-17', '2016-12-18', '2016-12-19',\n",
       "               '2016-12-20', '2016-12-21',\n",
       "               ...\n",
       "               '2017-12-03', '2017-12-04', '2017-12-05', '2017-12-06',\n",
       "               '2017-12-07', '2017-12-08', '2017-12-09', '2017-12-10',\n",
       "               '2017-12-11', '2017-12-12'],\n",
       "              dtype='datetime64[ns]', length=366, freq='D')"
      ]
     },
     "execution_count": 27,
     "metadata": {},
     "output_type": "execute_result"
    }
   ],
   "source": [
    "dates = pd.date_range(\"2016-12-12\", \"2017-12-12\")\n",
    "dates"
   ]
  },
  {
   "cell_type": "code",
   "execution_count": 28,
   "id": "50b60198-dd9a-4251-9ede-7e8c67c3a312",
   "metadata": {
    "execution": {
     "iopub.execute_input": "2023-10-09T20:08:10.472389Z",
     "iopub.status.busy": "2023-10-09T20:08:10.472389Z",
     "iopub.status.idle": "2023-10-09T20:08:10.497388Z",
     "shell.execute_reply": "2023-10-09T20:08:10.496389Z",
     "shell.execute_reply.started": "2023-10-09T20:08:10.472389Z"
    },
    "tags": []
   },
   "outputs": [
    {
     "data": {
      "text/plain": [
       "DatetimeIndex(['2017-01-31', '2017-04-30', '2017-07-31', '2017-10-31'], dtype='datetime64[ns]', freq='Q-JAN')"
      ]
     },
     "execution_count": 28,
     "metadata": {},
     "output_type": "execute_result"
    }
   ],
   "source": [
    "date_quarterly = pd.date_range(\"2016-12-01\", \"2017-12-12\", freq = \"Q-JAN\")\n",
    "date_quarterly"
   ]
  },
  {
   "cell_type": "code",
   "execution_count": 29,
   "id": "2a4eecc6-d5fa-4cf3-beb4-3c00b21f5a8d",
   "metadata": {
    "execution": {
     "iopub.execute_input": "2023-10-09T20:08:10.500389Z",
     "iopub.status.busy": "2023-10-09T20:08:10.500389Z",
     "iopub.status.idle": "2023-10-09T20:08:10.516387Z",
     "shell.execute_reply": "2023-10-09T20:08:10.512394Z",
     "shell.execute_reply.started": "2023-10-09T20:08:10.500389Z"
    },
    "tags": []
   },
   "outputs": [
    {
     "data": {
      "text/plain": [
       "DatetimeIndex(['2018-01-03', '2018-01-04', '2018-01-05', '2018-01-06',\n",
       "               '2018-01-07', '2018-01-08', '2018-01-09', '2018-01-10',\n",
       "               '2018-01-11', '2018-01-12', '2018-01-13', '2018-01-14',\n",
       "               '2018-01-15', '2018-01-16', '2018-01-17', '2018-01-18',\n",
       "               '2018-01-19', '2018-01-20', '2018-01-21', '2018-01-22'],\n",
       "              dtype='datetime64[ns]', freq='D')"
      ]
     },
     "execution_count": 29,
     "metadata": {},
     "output_type": "execute_result"
    }
   ],
   "source": [
    "date_20days = pd.date_range(\"2018-01-03 08:46:21\", periods = 20, normalize = True)\n",
    "date_20days"
   ]
  },
  {
   "cell_type": "code",
   "execution_count": 30,
   "id": "3fd88490-06b5-4971-b09e-ad50a78719ff",
   "metadata": {
    "execution": {
     "iopub.execute_input": "2023-10-09T20:08:10.519390Z",
     "iopub.status.busy": "2023-10-09T20:08:10.518388Z",
     "iopub.status.idle": "2023-10-09T20:08:10.545390Z",
     "shell.execute_reply": "2023-10-09T20:08:10.542396Z",
     "shell.execute_reply.started": "2023-10-09T20:08:10.519390Z"
    },
    "tags": []
   },
   "outputs": [
    {
     "data": {
      "text/plain": [
       "DatetimeIndex(['2023-01-01 00:00:00', '2023-01-01 00:00:15',\n",
       "               '2023-01-01 00:00:30', '2023-01-01 00:00:45',\n",
       "               '2023-01-01 00:01:00', '2023-01-01 00:01:15',\n",
       "               '2023-01-01 00:01:30', '2023-01-01 00:01:45',\n",
       "               '2023-01-01 00:02:00', '2023-01-01 00:02:15',\n",
       "               ...\n",
       "               '2023-01-01 23:56:45', '2023-01-01 23:57:00',\n",
       "               '2023-01-01 23:57:15', '2023-01-01 23:57:30',\n",
       "               '2023-01-01 23:57:45', '2023-01-01 23:58:00',\n",
       "               '2023-01-01 23:58:15', '2023-01-01 23:58:30',\n",
       "               '2023-01-01 23:58:45', '2023-01-01 23:59:00'],\n",
       "              dtype='datetime64[ns]', length=5757, freq='15S')"
      ]
     },
     "execution_count": 30,
     "metadata": {},
     "output_type": "execute_result"
    }
   ],
   "source": [
    "hour = Hour()\n",
    "minute = Minute()\n",
    "second = Second()\n",
    "fifteen_seconds = Second(15)\n",
    "high_freq = pd.date_range(\"2023-01-01\", \"2023-01-01 23:59\",freq = fifteen_seconds)\n",
    "high_freq"
   ]
  },
  {
   "cell_type": "code",
   "execution_count": 31,
   "id": "c220c66a-9b72-414e-94e8-6474237901ca",
   "metadata": {
    "execution": {
     "iopub.execute_input": "2023-10-09T20:08:10.548388Z",
     "iopub.status.busy": "2023-10-09T20:08:10.548388Z",
     "iopub.status.idle": "2023-10-09T20:08:10.558392Z",
     "shell.execute_reply": "2023-10-09T20:08:10.557385Z",
     "shell.execute_reply.started": "2023-10-09T20:08:10.548388Z"
    },
    "tags": []
   },
   "outputs": [
    {
     "name": "stdout",
     "output_type": "stream",
     "text": [
      "Shifting provides us with a way to move data backwards or forwards in time.\n"
     ]
    }
   ],
   "source": [
    "print(\"Shifting provides us with a way to move data backwards or forwards in time.\")"
   ]
  },
  {
   "cell_type": "code",
   "execution_count": 32,
   "id": "af31e262-26d2-4243-8731-ce9c8b9ec90d",
   "metadata": {
    "execution": {
     "iopub.execute_input": "2023-10-09T20:08:10.572393Z",
     "iopub.status.busy": "2023-10-09T20:08:10.571388Z",
     "iopub.status.idle": "2023-10-09T20:08:10.604388Z",
     "shell.execute_reply": "2023-10-09T20:08:10.603385Z",
     "shell.execute_reply.started": "2023-10-09T20:08:10.572393Z"
    },
    "tags": []
   },
   "outputs": [
    {
     "data": {
      "text/plain": [
       "DatetimeIndex(['2015-01-01', '2015-01-02', '2015-01-03', '2015-01-04',\n",
       "               '2015-01-05'],\n",
       "              dtype='datetime64[ns]', freq='D')"
      ]
     },
     "execution_count": 32,
     "metadata": {},
     "output_type": "execute_result"
    }
   ],
   "source": [
    "shifting_example = pd.date_range(\"2015-01-01\", \"2015-01-05\")\n",
    "shifting_example"
   ]
  },
  {
   "cell_type": "code",
   "execution_count": 33,
   "id": "c46cace4-ba1e-4260-b940-2ca6766eba6a",
   "metadata": {
    "execution": {
     "iopub.execute_input": "2023-10-09T20:08:10.606387Z",
     "iopub.status.busy": "2023-10-09T20:08:10.606387Z",
     "iopub.status.idle": "2023-10-09T20:08:10.635389Z",
     "shell.execute_reply": "2023-10-09T20:08:10.634387Z",
     "shell.execute_reply.started": "2023-10-09T20:08:10.606387Z"
    }
   },
   "outputs": [
    {
     "data": {
      "text/plain": [
       "DatetimeIndex(['2015-01-06', '2015-01-07', '2015-01-08', '2015-01-09',\n",
       "               '2015-01-10'],\n",
       "              dtype='datetime64[ns]', freq='D')"
      ]
     },
     "execution_count": 33,
     "metadata": {},
     "output_type": "execute_result"
    }
   ],
   "source": [
    "shifting_example.shift(5)"
   ]
  },
  {
   "cell_type": "code",
   "execution_count": 34,
   "id": "7e1d9de2-cc48-4bd2-9dcc-9add3c8ff60b",
   "metadata": {
    "execution": {
     "iopub.execute_input": "2023-10-09T20:08:10.637389Z",
     "iopub.status.busy": "2023-10-09T20:08:10.637389Z",
     "iopub.status.idle": "2023-10-09T20:08:10.650391Z",
     "shell.execute_reply": "2023-10-09T20:08:10.649387Z",
     "shell.execute_reply.started": "2023-10-09T20:08:10.637389Z"
    },
    "tags": []
   },
   "outputs": [
    {
     "data": {
      "text/plain": [
       "DatetimeIndex(['2014-12-27', '2014-12-28', '2014-12-29', '2014-12-30',\n",
       "               '2014-12-31'],\n",
       "              dtype='datetime64[ns]', freq='D')"
      ]
     },
     "execution_count": 34,
     "metadata": {},
     "output_type": "execute_result"
    }
   ],
   "source": [
    "shifting_example.shift(-5)"
   ]
  },
  {
   "cell_type": "code",
   "execution_count": 35,
   "id": "58ea650c-2f3d-49f0-96fc-00995f061add",
   "metadata": {
    "execution": {
     "iopub.execute_input": "2023-10-09T20:08:10.654390Z",
     "iopub.status.busy": "2023-10-09T20:08:10.653392Z",
     "iopub.status.idle": "2023-10-09T20:08:10.682388Z",
     "shell.execute_reply": "2023-10-09T20:08:10.680388Z",
     "shell.execute_reply.started": "2023-10-09T20:08:10.654390Z"
    },
    "tags": []
   },
   "outputs": [
    {
     "data": {
      "text/plain": [
       "2015-01-01    1\n",
       "2015-01-02    2\n",
       "2015-01-03    3\n",
       "2015-01-04    4\n",
       "2015-01-05    5\n",
       "Freq: D, dtype: int64"
      ]
     },
     "execution_count": 35,
     "metadata": {},
     "output_type": "execute_result"
    }
   ],
   "source": [
    "series_shifting = pd.Series([1,2,3,4,5], index = shifting_example)\n",
    "series_shifting"
   ]
  },
  {
   "cell_type": "markdown",
   "id": "5b307e4e-a06e-4ceb-af91-a02d9221e355",
   "metadata": {},
   "source": [
    "An interesting trick is to compute how much percentage wise has a timeseries valu changed, based on a shift."
   ]
  },
  {
   "cell_type": "code",
   "execution_count": 36,
   "id": "efe9c2ab-ff5b-42c2-b623-49333d08f9bf",
   "metadata": {
    "execution": {
     "iopub.execute_input": "2023-10-09T20:08:10.684389Z",
     "iopub.status.busy": "2023-10-09T20:08:10.683390Z",
     "iopub.status.idle": "2023-10-09T20:08:10.711391Z",
     "shell.execute_reply": "2023-10-09T20:08:10.710390Z",
     "shell.execute_reply.started": "2023-10-09T20:08:10.684389Z"
    },
    "tags": []
   },
   "outputs": [
    {
     "data": {
      "text/plain": [
       "2015-01-01           NaN\n",
       "2015-01-02    100.000000\n",
       "2015-01-03     50.000000\n",
       "2015-01-04     33.333333\n",
       "2015-01-05     25.000000\n",
       "Freq: D, dtype: float64"
      ]
     },
     "execution_count": 36,
     "metadata": {},
     "output_type": "execute_result"
    }
   ],
   "source": [
    "percentage = (series_shifting / series_shifting.shift(1) - 1) * 100\n",
    "percentage"
   ]
  },
  {
   "cell_type": "markdown",
   "id": "6539b479-6bfb-4740-bc9f-c7310b57910f",
   "metadata": {},
   "source": [
    "Roll forward \"rolls\" a date to the end of the specific month.\n",
    "\n",
    "Roll backward \"rolls\" a date to the end of the previous month."
   ]
  },
  {
   "cell_type": "code",
   "execution_count": 37,
   "id": "9be4d8eb-b018-40b3-9790-e5e023737996",
   "metadata": {
    "execution": {
     "iopub.execute_input": "2023-10-09T20:08:10.714389Z",
     "iopub.status.busy": "2023-10-09T20:08:10.713388Z",
     "iopub.status.idle": "2023-10-09T20:08:10.729397Z",
     "shell.execute_reply": "2023-10-09T20:08:10.726389Z",
     "shell.execute_reply.started": "2023-10-09T20:08:10.714389Z"
    },
    "tags": []
   },
   "outputs": [
    {
     "data": {
      "text/plain": [
       "datetime.datetime(2015, 10, 5, 0, 0)"
      ]
     },
     "execution_count": 37,
     "metadata": {},
     "output_type": "execute_result"
    }
   ],
   "source": [
    "offset = MonthEnd()\n",
    "now = datetime(2015,10,5)\n",
    "now"
   ]
  },
  {
   "cell_type": "code",
   "execution_count": 38,
   "id": "886dbebe-d8b0-4973-a35e-eac9f63f4549",
   "metadata": {
    "execution": {
     "iopub.execute_input": "2023-10-09T20:08:10.735389Z",
     "iopub.status.busy": "2023-10-09T20:08:10.734389Z",
     "iopub.status.idle": "2023-10-09T20:08:10.758388Z",
     "shell.execute_reply": "2023-10-09T20:08:10.757391Z",
     "shell.execute_reply.started": "2023-10-09T20:08:10.735389Z"
    },
    "tags": []
   },
   "outputs": [
    {
     "data": {
      "text/plain": [
       "Timestamp('2015-10-31 00:00:00')"
      ]
     },
     "execution_count": 38,
     "metadata": {},
     "output_type": "execute_result"
    }
   ],
   "source": [
    "offset.rollforward(now)"
   ]
  },
  {
   "cell_type": "code",
   "execution_count": 39,
   "id": "f8d46d64-07f5-44f3-ac72-edacaab59f72",
   "metadata": {
    "execution": {
     "iopub.execute_input": "2023-10-09T20:08:10.760390Z",
     "iopub.status.busy": "2023-10-09T20:08:10.760390Z",
     "iopub.status.idle": "2023-10-09T20:08:10.775402Z",
     "shell.execute_reply": "2023-10-09T20:08:10.773388Z",
     "shell.execute_reply.started": "2023-10-09T20:08:10.760390Z"
    },
    "tags": []
   },
   "outputs": [
    {
     "data": {
      "text/plain": [
       "Timestamp('2015-09-30 00:00:00')"
      ]
     },
     "execution_count": 39,
     "metadata": {},
     "output_type": "execute_result"
    }
   ],
   "source": [
    "offset.rollback(now)"
   ]
  },
  {
   "cell_type": "markdown",
   "id": "3acd0222-0214-49e5-bb94-69b67c048590",
   "metadata": {},
   "source": [
    "Timezones can be tricky in real life, let's see how pandas handles them."
   ]
  },
  {
   "cell_type": "code",
   "execution_count": 40,
   "id": "fdbb7362-f5cc-4bcf-b7e7-a90515eec464",
   "metadata": {
    "execution": {
     "iopub.execute_input": "2023-10-09T20:08:10.777387Z",
     "iopub.status.busy": "2023-10-09T20:08:10.777387Z",
     "iopub.status.idle": "2023-10-09T20:08:11.134387Z",
     "shell.execute_reply": "2023-10-09T20:08:11.133386Z",
     "shell.execute_reply.started": "2023-10-09T20:08:10.777387Z"
    },
    "tags": []
   },
   "outputs": [
    {
     "data": {
      "text/plain": [
       "['Pacific/Wake',\n",
       " 'Pacific/Wallis',\n",
       " 'US/Alaska',\n",
       " 'US/Arizona',\n",
       " 'US/Central',\n",
       " 'US/Eastern',\n",
       " 'US/Hawaii',\n",
       " 'US/Mountain',\n",
       " 'US/Pacific',\n",
       " 'UTC']"
      ]
     },
     "execution_count": 40,
     "metadata": {},
     "output_type": "execute_result"
    }
   ],
   "source": [
    "pytz.common_timezones[-10:]"
   ]
  },
  {
   "cell_type": "code",
   "execution_count": 41,
   "id": "eb4246e7-312e-4eeb-bbb6-d369b0eb4aab",
   "metadata": {
    "execution": {
     "iopub.execute_input": "2023-10-09T20:08:11.136386Z",
     "iopub.status.busy": "2023-10-09T20:08:11.136386Z",
     "iopub.status.idle": "2023-10-09T20:08:11.151387Z",
     "shell.execute_reply": "2023-10-09T20:08:11.149415Z",
     "shell.execute_reply.started": "2023-10-09T20:08:11.136386Z"
    },
    "tags": []
   },
   "outputs": [
    {
     "data": {
      "text/plain": [
       "2018-01-01   -0.584078\n",
       "2018-01-02    0.606397\n",
       "2018-01-03   -0.314697\n",
       "2018-01-04    0.184517\n",
       "2018-01-05   -2.563211\n",
       "Freq: D, dtype: float64"
      ]
     },
     "execution_count": 41,
     "metadata": {},
     "output_type": "execute_result"
    }
   ],
   "source": [
    "dates = pd.date_range(\"2018-01-01\", periods = 5)\n",
    "ts = pd.Series(data = np.random.standard_normal(5), index = dates)\n",
    "ts"
   ]
  },
  {
   "cell_type": "code",
   "execution_count": 42,
   "id": "6116568a-bf80-4d57-a8d3-775aedef5629",
   "metadata": {
    "execution": {
     "iopub.execute_input": "2023-10-09T20:08:11.153388Z",
     "iopub.status.busy": "2023-10-09T20:08:11.153388Z",
     "iopub.status.idle": "2023-10-09T20:08:11.166390Z",
     "shell.execute_reply": "2023-10-09T20:08:11.164386Z",
     "shell.execute_reply.started": "2023-10-09T20:08:11.153388Z"
    },
    "tags": []
   },
   "outputs": [
    {
     "name": "stdout",
     "output_type": "stream",
     "text": [
      "None\n"
     ]
    }
   ],
   "source": [
    "print(ts.index.tz)"
   ]
  },
  {
   "cell_type": "code",
   "execution_count": 43,
   "id": "6c2515a7-bf38-4cef-b4f3-415425e67262",
   "metadata": {
    "execution": {
     "iopub.execute_input": "2023-10-09T20:08:11.169388Z",
     "iopub.status.busy": "2023-10-09T20:08:11.169388Z",
     "iopub.status.idle": "2023-10-09T20:08:11.181388Z",
     "shell.execute_reply": "2023-10-09T20:08:11.180398Z",
     "shell.execute_reply.started": "2023-10-09T20:08:11.169388Z"
    }
   },
   "outputs": [
    {
     "data": {
      "text/plain": [
       "2018-01-01 00:00:00+00:00   -0.584078\n",
       "2018-01-02 00:00:00+00:00    0.606397\n",
       "2018-01-03 00:00:00+00:00   -0.314697\n",
       "2018-01-04 00:00:00+00:00    0.184517\n",
       "2018-01-05 00:00:00+00:00   -2.563211\n",
       "Freq: D, dtype: float64"
      ]
     },
     "execution_count": 43,
     "metadata": {},
     "output_type": "execute_result"
    }
   ],
   "source": [
    "ts_utc = ts.tz_localize(\"UTC\")\n",
    "ts_utc"
   ]
  },
  {
   "cell_type": "code",
   "execution_count": 44,
   "id": "cf90e850-af65-4b31-bbf1-93ab82633d84",
   "metadata": {
    "execution": {
     "iopub.execute_input": "2023-10-09T20:08:11.184390Z",
     "iopub.status.busy": "2023-10-09T20:08:11.183387Z",
     "iopub.status.idle": "2023-10-09T20:08:11.214397Z",
     "shell.execute_reply": "2023-10-09T20:08:11.212388Z",
     "shell.execute_reply.started": "2023-10-09T20:08:11.184390Z"
    },
    "tags": []
   },
   "outputs": [
    {
     "data": {
      "text/plain": [
       "2018-01-01 12:00:00+12:00   -0.584078\n",
       "2018-01-02 12:00:00+12:00    0.606397\n",
       "2018-01-03 12:00:00+12:00   -0.314697\n",
       "2018-01-04 12:00:00+12:00    0.184517\n",
       "2018-01-05 12:00:00+12:00   -2.563211\n",
       "Freq: D, dtype: float64"
      ]
     },
     "execution_count": 44,
     "metadata": {},
     "output_type": "execute_result"
    }
   ],
   "source": [
    "ts_utc.tz_convert(\"Pacific/Wake\")"
   ]
  },
  {
   "cell_type": "code",
   "execution_count": 45,
   "id": "232c31af-6eaf-46d4-9fa1-d321836ffa73",
   "metadata": {
    "execution": {
     "iopub.execute_input": "2023-10-09T20:08:11.217388Z",
     "iopub.status.busy": "2023-10-09T20:08:11.216389Z",
     "iopub.status.idle": "2023-10-09T20:08:11.230387Z",
     "shell.execute_reply": "2023-10-09T20:08:11.228387Z",
     "shell.execute_reply.started": "2023-10-09T20:08:11.217388Z"
    }
   },
   "outputs": [
    {
     "data": {
      "text/plain": [
       "Period('2016', 'A-DEC')"
      ]
     },
     "execution_count": 45,
     "metadata": {},
     "output_type": "execute_result"
    }
   ],
   "source": [
    "period = pd.Period(\"2016\", freq = \"A-DEC\")\n",
    "period"
   ]
  },
  {
   "cell_type": "code",
   "execution_count": 46,
   "id": "4b2f79bb-b7bc-412c-9052-ebd76dce5f03",
   "metadata": {
    "execution": {
     "iopub.execute_input": "2023-10-09T20:08:11.234390Z",
     "iopub.status.busy": "2023-10-09T20:08:11.232392Z",
     "iopub.status.idle": "2023-10-09T20:08:11.262389Z",
     "shell.execute_reply": "2023-10-09T20:08:11.260388Z",
     "shell.execute_reply.started": "2023-10-09T20:08:11.234390Z"
    }
   },
   "outputs": [
    {
     "data": {
      "text/plain": [
       "Period('2021', 'A-DEC')"
      ]
     },
     "execution_count": 46,
     "metadata": {},
     "output_type": "execute_result"
    }
   ],
   "source": [
    "period + 5"
   ]
  },
  {
   "cell_type": "code",
   "execution_count": 47,
   "id": "43a9efe1-a4bc-438f-ba6c-4ff95d87b49a",
   "metadata": {
    "execution": {
     "iopub.execute_input": "2023-10-09T20:08:11.264388Z",
     "iopub.status.busy": "2023-10-09T20:08:11.264388Z",
     "iopub.status.idle": "2023-10-09T20:08:11.293388Z",
     "shell.execute_reply": "2023-10-09T20:08:11.292388Z",
     "shell.execute_reply.started": "2023-10-09T20:08:11.264388Z"
    }
   },
   "outputs": [
    {
     "data": {
      "text/plain": [
       "PeriodIndex(['2001-06', '2001-07', '2001-08', '2001-09', '2001-10', '2001-11',\n",
       "             '2001-12', '2002-01', '2002-02', '2002-03', '2002-04', '2002-05',\n",
       "             '2002-06', '2002-07', '2002-08', '2002-09', '2002-10', '2002-11',\n",
       "             '2002-12', '2003-01', '2003-02', '2003-03', '2003-04', '2003-05',\n",
       "             '2003-06', '2003-07', '2003-08', '2003-09'],\n",
       "            dtype='period[M]')"
      ]
     },
     "execution_count": 47,
     "metadata": {},
     "output_type": "execute_result"
    }
   ],
   "source": [
    "periods = pd.period_range(\"2001-06-17\", \"2003-09-12\", freq = \"M\")\n",
    "periods"
   ]
  },
  {
   "cell_type": "code",
   "execution_count": 48,
   "id": "f2476826-61f9-4c1d-adef-5af8532d29da",
   "metadata": {
    "execution": {
     "iopub.execute_input": "2023-10-09T20:08:11.296391Z",
     "iopub.status.busy": "2023-10-09T20:08:11.296391Z",
     "iopub.status.idle": "2023-10-09T20:08:11.326390Z",
     "shell.execute_reply": "2023-10-09T20:08:11.324388Z",
     "shell.execute_reply.started": "2023-10-09T20:08:11.296391Z"
    },
    "tags": []
   },
   "outputs": [
    {
     "data": {
      "text/plain": [
       "PeriodIndex(['2001', '2001', '2001', '2001', '2001', '2001', '2001', '2002',\n",
       "             '2002', '2002', '2002', '2002', '2002', '2002', '2002', '2002',\n",
       "             '2002', '2002', '2002', '2003', '2003', '2003', '2003', '2003',\n",
       "             '2003', '2003', '2003', '2003'],\n",
       "            dtype='period[A-DEC]')"
      ]
     },
     "execution_count": 48,
     "metadata": {},
     "output_type": "execute_result"
    }
   ],
   "source": [
    "periods.asfreq(\"Y\", how = \"start\")"
   ]
  },
  {
   "cell_type": "code",
   "execution_count": 49,
   "id": "6ecd724a-88bc-48be-8011-e4cdd7635d59",
   "metadata": {
    "execution": {
     "iopub.execute_input": "2023-10-09T20:08:11.328388Z",
     "iopub.status.busy": "2023-10-09T20:08:11.327390Z",
     "iopub.status.idle": "2023-10-09T20:08:11.357387Z",
     "shell.execute_reply": "2023-10-09T20:08:11.356391Z",
     "shell.execute_reply.started": "2023-10-09T20:08:11.328388Z"
    },
    "tags": []
   },
   "outputs": [],
   "source": [
    "dates = pd.date_range(\"2000-01-01\", periods=100)\n",
    "\n",
    "ts = pd.Series(np.random.standard_normal(len(dates)), index=dates)"
   ]
  },
  {
   "cell_type": "code",
   "execution_count": 50,
   "id": "ca9a669e-1738-47f2-8c6f-5661d83398e0",
   "metadata": {
    "execution": {
     "iopub.execute_input": "2023-10-09T20:08:11.360388Z",
     "iopub.status.busy": "2023-10-09T20:08:11.359387Z",
     "iopub.status.idle": "2023-10-09T20:08:11.389387Z",
     "shell.execute_reply": "2023-10-09T20:08:11.388387Z",
     "shell.execute_reply.started": "2023-10-09T20:08:11.360388Z"
    },
    "tags": []
   },
   "outputs": [
    {
     "data": {
      "text/plain": [
       "2000-01-01    2.806497\n",
       "2000-01-02   -0.131241\n",
       "2000-01-03    2.379334\n",
       "2000-01-04    0.714154\n",
       "2000-01-05    0.558446\n",
       "                ...   \n",
       "2000-04-05    0.634097\n",
       "2000-04-06   -1.126666\n",
       "2000-04-07   -1.194704\n",
       "2000-04-08   -2.167976\n",
       "2000-04-09    1.817400\n",
       "Freq: D, Length: 100, dtype: float64"
      ]
     },
     "execution_count": 50,
     "metadata": {},
     "output_type": "execute_result"
    }
   ],
   "source": [
    "ts"
   ]
  },
  {
   "cell_type": "code",
   "execution_count": 51,
   "id": "839264be-2462-4ff1-bdff-0b4eb84203d4",
   "metadata": {
    "execution": {
     "iopub.execute_input": "2023-10-09T20:08:11.393405Z",
     "iopub.status.busy": "2023-10-09T20:08:11.391392Z",
     "iopub.status.idle": "2023-10-09T20:08:11.421390Z",
     "shell.execute_reply": "2023-10-09T20:08:11.419389Z",
     "shell.execute_reply.started": "2023-10-09T20:08:11.393405Z"
    },
    "tags": []
   },
   "outputs": [
    {
     "data": {
      "text/plain": [
       "2000-01-31    0.273954\n",
       "2000-02-29   -0.165873\n",
       "2000-03-31    0.202297\n",
       "2000-04-30    0.248875\n",
       "Freq: M, dtype: float64"
      ]
     },
     "execution_count": 51,
     "metadata": {},
     "output_type": "execute_result"
    }
   ],
   "source": [
    "resampled = ts.resample(\"M\").mean()\n",
    "resampled"
   ]
  },
  {
   "cell_type": "code",
   "execution_count": 52,
   "id": "e770d077-59be-4b57-8885-9b9804d9f55b",
   "metadata": {
    "execution": {
     "iopub.execute_input": "2023-10-09T20:08:11.428419Z",
     "iopub.status.busy": "2023-10-09T20:08:11.425413Z",
     "iopub.status.idle": "2023-10-09T20:08:11.451389Z",
     "shell.execute_reply": "2023-10-09T20:08:11.449391Z",
     "shell.execute_reply.started": "2023-10-09T20:08:11.428419Z"
    },
    "tags": []
   },
   "outputs": [
    {
     "data": {
      "text/plain": [
       "2013-01-01 00:00:00    1.336579\n",
       "2013-01-01 00:00:01   -0.110805\n",
       "2013-01-01 00:00:02   -0.879296\n",
       "2013-01-01 00:00:03   -1.107567\n",
       "2013-01-01 00:00:04   -1.302838\n",
       "                         ...   \n",
       "2013-01-01 00:04:55    0.263817\n",
       "2013-01-01 00:04:56    0.288730\n",
       "2013-01-01 00:04:57    0.949430\n",
       "2013-01-01 00:04:58    0.253776\n",
       "2013-01-01 00:04:59   -0.844119\n",
       "Freq: S, Length: 300, dtype: float64"
      ]
     },
     "execution_count": 52,
     "metadata": {},
     "output_type": "execute_result"
    }
   ],
   "source": [
    "seconds = pd.date_range(\"2013-01-01\", periods = 300, freq = \"S\")\n",
    "ts_seconds = pd.Series(np.random.standard_normal(len(seconds)), index = seconds)\n",
    "ts_seconds"
   ]
  },
  {
   "cell_type": "code",
   "execution_count": 53,
   "id": "fcd6cfce-7919-4f67-a0e4-1a30924fcaef",
   "metadata": {
    "execution": {
     "iopub.execute_input": "2023-10-09T20:08:11.456389Z",
     "iopub.status.busy": "2023-10-09T20:08:11.455401Z",
     "iopub.status.idle": "2023-10-09T20:08:11.482393Z",
     "shell.execute_reply": "2023-10-09T20:08:11.480390Z",
     "shell.execute_reply.started": "2023-10-09T20:08:11.456389Z"
    },
    "tags": []
   },
   "outputs": [
    {
     "data": {
      "text/plain": [
       "2013-01-01 00:00:00    -6.035484\n",
       "2013-01-01 00:01:00    -6.500239\n",
       "2013-01-01 00:02:00    -3.529949\n",
       "2013-01-01 00:03:00   -16.525871\n",
       "2013-01-01 00:04:00    -0.926684\n",
       "Freq: T, dtype: float64"
      ]
     },
     "execution_count": 53,
     "metadata": {},
     "output_type": "execute_result"
    }
   ],
   "source": [
    "ts_seconds.resample(\"1min\").sum()"
   ]
  },
  {
   "cell_type": "code",
   "execution_count": 54,
   "id": "73a2927b-5a45-42d4-a19e-f8e692f3f21b",
   "metadata": {
    "execution": {
     "iopub.execute_input": "2023-10-09T20:08:11.488410Z",
     "iopub.status.busy": "2023-10-09T20:08:11.485417Z",
     "iopub.status.idle": "2023-10-09T20:08:11.529389Z",
     "shell.execute_reply": "2023-10-09T20:08:11.528386Z",
     "shell.execute_reply.started": "2023-10-09T20:08:11.487409Z"
    },
    "tags": []
   },
   "outputs": [
    {
     "data": {
      "text/html": [
       "<div>\n",
       "<style scoped>\n",
       "    .dataframe tbody tr th:only-of-type {\n",
       "        vertical-align: middle;\n",
       "    }\n",
       "\n",
       "    .dataframe tbody tr th {\n",
       "        vertical-align: top;\n",
       "    }\n",
       "\n",
       "    .dataframe thead th {\n",
       "        text-align: right;\n",
       "    }\n",
       "</style>\n",
       "<table border=\"1\" class=\"dataframe\">\n",
       "  <thead>\n",
       "    <tr style=\"text-align: right;\">\n",
       "      <th></th>\n",
       "      <th>open</th>\n",
       "      <th>high</th>\n",
       "      <th>low</th>\n",
       "      <th>close</th>\n",
       "    </tr>\n",
       "  </thead>\n",
       "  <tbody>\n",
       "    <tr>\n",
       "      <th>2000-01-01</th>\n",
       "      <td>60</td>\n",
       "      <td>60</td>\n",
       "      <td>60</td>\n",
       "      <td>60</td>\n",
       "    </tr>\n",
       "    <tr>\n",
       "      <th>2000-01-02</th>\n",
       "      <td>88</td>\n",
       "      <td>88</td>\n",
       "      <td>88</td>\n",
       "      <td>88</td>\n",
       "    </tr>\n",
       "    <tr>\n",
       "      <th>2000-01-03</th>\n",
       "      <td>94</td>\n",
       "      <td>94</td>\n",
       "      <td>94</td>\n",
       "      <td>94</td>\n",
       "    </tr>\n",
       "    <tr>\n",
       "      <th>2000-01-04</th>\n",
       "      <td>64</td>\n",
       "      <td>64</td>\n",
       "      <td>64</td>\n",
       "      <td>64</td>\n",
       "    </tr>\n",
       "    <tr>\n",
       "      <th>2000-01-05</th>\n",
       "      <td>0</td>\n",
       "      <td>0</td>\n",
       "      <td>0</td>\n",
       "      <td>0</td>\n",
       "    </tr>\n",
       "    <tr>\n",
       "      <th>...</th>\n",
       "      <td>...</td>\n",
       "      <td>...</td>\n",
       "      <td>...</td>\n",
       "      <td>...</td>\n",
       "    </tr>\n",
       "    <tr>\n",
       "      <th>2000-04-05</th>\n",
       "      <td>52</td>\n",
       "      <td>52</td>\n",
       "      <td>52</td>\n",
       "      <td>52</td>\n",
       "    </tr>\n",
       "    <tr>\n",
       "      <th>2000-04-06</th>\n",
       "      <td>12</td>\n",
       "      <td>12</td>\n",
       "      <td>12</td>\n",
       "      <td>12</td>\n",
       "    </tr>\n",
       "    <tr>\n",
       "      <th>2000-04-07</th>\n",
       "      <td>81</td>\n",
       "      <td>81</td>\n",
       "      <td>81</td>\n",
       "      <td>81</td>\n",
       "    </tr>\n",
       "    <tr>\n",
       "      <th>2000-04-08</th>\n",
       "      <td>86</td>\n",
       "      <td>86</td>\n",
       "      <td>86</td>\n",
       "      <td>86</td>\n",
       "    </tr>\n",
       "    <tr>\n",
       "      <th>2000-04-09</th>\n",
       "      <td>42</td>\n",
       "      <td>42</td>\n",
       "      <td>42</td>\n",
       "      <td>42</td>\n",
       "    </tr>\n",
       "  </tbody>\n",
       "</table>\n",
       "<p>100 rows × 4 columns</p>\n",
       "</div>"
      ],
      "text/plain": [
       "            open  high  low  close\n",
       "2000-01-01    60    60   60     60\n",
       "2000-01-02    88    88   88     88\n",
       "2000-01-03    94    94   94     94\n",
       "2000-01-04    64    64   64     64\n",
       "2000-01-05     0     0    0      0\n",
       "...          ...   ...  ...    ...\n",
       "2000-04-05    52    52   52     52\n",
       "2000-04-06    12    12   12     12\n",
       "2000-04-07    81    81   81     81\n",
       "2000-04-08    86    86   86     86\n",
       "2000-04-09    42    42   42     42\n",
       "\n",
       "[100 rows x 4 columns]"
      ]
     },
     "execution_count": 54,
     "metadata": {},
     "output_type": "execute_result"
    }
   ],
   "source": [
    "ts = pd.Series(np.random.permutation(np.arange(len(dates))), index = dates)\n",
    "ts.resample(\"D\").ohlc()"
   ]
  },
  {
   "cell_type": "markdown",
   "id": "4d6c38a9-7eb3-46e6-baf4-8d832f6d7d5d",
   "metadata": {},
   "source": [
    "Sometimes we want to convert to a higher frequency, but without agggregation."
   ]
  },
  {
   "cell_type": "code",
   "execution_count": 55,
   "id": "35d630b0-11e1-4d55-aa93-9b8675db5d2f",
   "metadata": {
    "execution": {
     "iopub.execute_input": "2023-10-09T20:08:11.532388Z",
     "iopub.status.busy": "2023-10-09T20:08:11.532388Z",
     "iopub.status.idle": "2023-10-09T20:08:11.560389Z",
     "shell.execute_reply": "2023-10-09T20:08:11.558390Z",
     "shell.execute_reply.started": "2023-10-09T20:08:11.532388Z"
    }
   },
   "outputs": [
    {
     "data": {
      "text/html": [
       "<div>\n",
       "<style scoped>\n",
       "    .dataframe tbody tr th:only-of-type {\n",
       "        vertical-align: middle;\n",
       "    }\n",
       "\n",
       "    .dataframe tbody tr th {\n",
       "        vertical-align: top;\n",
       "    }\n",
       "\n",
       "    .dataframe thead th {\n",
       "        text-align: right;\n",
       "    }\n",
       "</style>\n",
       "<table border=\"1\" class=\"dataframe\">\n",
       "  <thead>\n",
       "    <tr style=\"text-align: right;\">\n",
       "      <th></th>\n",
       "      <th>Colorado</th>\n",
       "      <th>Texas</th>\n",
       "      <th>New York</th>\n",
       "      <th>Ohio</th>\n",
       "    </tr>\n",
       "  </thead>\n",
       "  <tbody>\n",
       "    <tr>\n",
       "      <th>2000-01-05</th>\n",
       "      <td>0.871815</td>\n",
       "      <td>1.354279</td>\n",
       "      <td>-0.365203</td>\n",
       "      <td>-0.356152</td>\n",
       "    </tr>\n",
       "    <tr>\n",
       "      <th>2000-01-12</th>\n",
       "      <td>-0.808983</td>\n",
       "      <td>-0.222305</td>\n",
       "      <td>1.143481</td>\n",
       "      <td>0.244324</td>\n",
       "    </tr>\n",
       "  </tbody>\n",
       "</table>\n",
       "</div>"
      ],
      "text/plain": [
       "            Colorado     Texas  New York      Ohio\n",
       "2000-01-05  0.871815  1.354279 -0.365203 -0.356152\n",
       "2000-01-12 -0.808983 -0.222305  1.143481  0.244324"
      ]
     },
     "execution_count": 55,
     "metadata": {},
     "output_type": "execute_result"
    }
   ],
   "source": [
    "frame = pd.DataFrame(np.random.standard_normal((2, 4)),\n",
    "                        index=pd.date_range(\"2000-01-01\", periods=2,freq=\"W-WED\"),\n",
    "                        columns=[\"Colorado\", \"Texas\", \"New York\", \"Ohio\"])\n",
    "\n",
    "frame"
   ]
  },
  {
   "cell_type": "code",
   "execution_count": 56,
   "id": "ffb1f846-395c-4d9a-81b3-2e193f1e9974",
   "metadata": {
    "execution": {
     "iopub.execute_input": "2023-10-09T20:08:11.565393Z",
     "iopub.status.busy": "2023-10-09T20:08:11.564394Z",
     "iopub.status.idle": "2023-10-09T20:08:11.606390Z",
     "shell.execute_reply": "2023-10-09T20:08:11.605394Z",
     "shell.execute_reply.started": "2023-10-09T20:08:11.565393Z"
    }
   },
   "outputs": [
    {
     "data": {
      "text/html": [
       "<div>\n",
       "<style scoped>\n",
       "    .dataframe tbody tr th:only-of-type {\n",
       "        vertical-align: middle;\n",
       "    }\n",
       "\n",
       "    .dataframe tbody tr th {\n",
       "        vertical-align: top;\n",
       "    }\n",
       "\n",
       "    .dataframe thead th {\n",
       "        text-align: right;\n",
       "    }\n",
       "</style>\n",
       "<table border=\"1\" class=\"dataframe\">\n",
       "  <thead>\n",
       "    <tr style=\"text-align: right;\">\n",
       "      <th></th>\n",
       "      <th>Colorado</th>\n",
       "      <th>Texas</th>\n",
       "      <th>New York</th>\n",
       "      <th>Ohio</th>\n",
       "    </tr>\n",
       "  </thead>\n",
       "  <tbody>\n",
       "    <tr>\n",
       "      <th>2000-01-05</th>\n",
       "      <td>0.871815</td>\n",
       "      <td>1.354279</td>\n",
       "      <td>-0.365203</td>\n",
       "      <td>-0.356152</td>\n",
       "    </tr>\n",
       "    <tr>\n",
       "      <th>2000-01-06</th>\n",
       "      <td>NaN</td>\n",
       "      <td>NaN</td>\n",
       "      <td>NaN</td>\n",
       "      <td>NaN</td>\n",
       "    </tr>\n",
       "    <tr>\n",
       "      <th>2000-01-07</th>\n",
       "      <td>NaN</td>\n",
       "      <td>NaN</td>\n",
       "      <td>NaN</td>\n",
       "      <td>NaN</td>\n",
       "    </tr>\n",
       "    <tr>\n",
       "      <th>2000-01-08</th>\n",
       "      <td>NaN</td>\n",
       "      <td>NaN</td>\n",
       "      <td>NaN</td>\n",
       "      <td>NaN</td>\n",
       "    </tr>\n",
       "    <tr>\n",
       "      <th>2000-01-09</th>\n",
       "      <td>NaN</td>\n",
       "      <td>NaN</td>\n",
       "      <td>NaN</td>\n",
       "      <td>NaN</td>\n",
       "    </tr>\n",
       "    <tr>\n",
       "      <th>2000-01-10</th>\n",
       "      <td>NaN</td>\n",
       "      <td>NaN</td>\n",
       "      <td>NaN</td>\n",
       "      <td>NaN</td>\n",
       "    </tr>\n",
       "    <tr>\n",
       "      <th>2000-01-11</th>\n",
       "      <td>NaN</td>\n",
       "      <td>NaN</td>\n",
       "      <td>NaN</td>\n",
       "      <td>NaN</td>\n",
       "    </tr>\n",
       "    <tr>\n",
       "      <th>2000-01-12</th>\n",
       "      <td>-0.808983</td>\n",
       "      <td>-0.222305</td>\n",
       "      <td>1.143481</td>\n",
       "      <td>0.244324</td>\n",
       "    </tr>\n",
       "  </tbody>\n",
       "</table>\n",
       "</div>"
      ],
      "text/plain": [
       "            Colorado     Texas  New York      Ohio\n",
       "2000-01-05  0.871815  1.354279 -0.365203 -0.356152\n",
       "2000-01-06       NaN       NaN       NaN       NaN\n",
       "2000-01-07       NaN       NaN       NaN       NaN\n",
       "2000-01-08       NaN       NaN       NaN       NaN\n",
       "2000-01-09       NaN       NaN       NaN       NaN\n",
       "2000-01-10       NaN       NaN       NaN       NaN\n",
       "2000-01-11       NaN       NaN       NaN       NaN\n",
       "2000-01-12 -0.808983 -0.222305  1.143481  0.244324"
      ]
     },
     "execution_count": 56,
     "metadata": {},
     "output_type": "execute_result"
    }
   ],
   "source": [
    "frame.resample(\"D\").asfreq()"
   ]
  },
  {
   "cell_type": "markdown",
   "id": "99d4ad4a-e1ca-401a-9a41-52f5871ab3b8",
   "metadata": {},
   "source": [
    "Now we have to deal with filling the missing information."
   ]
  },
  {
   "cell_type": "code",
   "execution_count": 57,
   "id": "a6cc2a55-9820-4850-af10-9ca9140fedbc",
   "metadata": {
    "execution": {
     "iopub.execute_input": "2023-10-09T20:08:11.608388Z",
     "iopub.status.busy": "2023-10-09T20:08:11.608388Z",
     "iopub.status.idle": "2023-10-09T20:08:11.655389Z",
     "shell.execute_reply": "2023-10-09T20:08:11.652394Z",
     "shell.execute_reply.started": "2023-10-09T20:08:11.608388Z"
    },
    "tags": []
   },
   "outputs": [
    {
     "data": {
      "text/html": [
       "<div>\n",
       "<style scoped>\n",
       "    .dataframe tbody tr th:only-of-type {\n",
       "        vertical-align: middle;\n",
       "    }\n",
       "\n",
       "    .dataframe tbody tr th {\n",
       "        vertical-align: top;\n",
       "    }\n",
       "\n",
       "    .dataframe thead th {\n",
       "        text-align: right;\n",
       "    }\n",
       "</style>\n",
       "<table border=\"1\" class=\"dataframe\">\n",
       "  <thead>\n",
       "    <tr style=\"text-align: right;\">\n",
       "      <th></th>\n",
       "      <th>Colorado</th>\n",
       "      <th>Texas</th>\n",
       "      <th>New York</th>\n",
       "      <th>Ohio</th>\n",
       "    </tr>\n",
       "  </thead>\n",
       "  <tbody>\n",
       "    <tr>\n",
       "      <th>2000-01-05</th>\n",
       "      <td>0.871815</td>\n",
       "      <td>1.354279</td>\n",
       "      <td>-0.365203</td>\n",
       "      <td>-0.356152</td>\n",
       "    </tr>\n",
       "    <tr>\n",
       "      <th>2000-01-06</th>\n",
       "      <td>0.871815</td>\n",
       "      <td>1.354279</td>\n",
       "      <td>-0.365203</td>\n",
       "      <td>-0.356152</td>\n",
       "    </tr>\n",
       "    <tr>\n",
       "      <th>2000-01-07</th>\n",
       "      <td>0.871815</td>\n",
       "      <td>1.354279</td>\n",
       "      <td>-0.365203</td>\n",
       "      <td>-0.356152</td>\n",
       "    </tr>\n",
       "    <tr>\n",
       "      <th>2000-01-08</th>\n",
       "      <td>0.871815</td>\n",
       "      <td>1.354279</td>\n",
       "      <td>-0.365203</td>\n",
       "      <td>-0.356152</td>\n",
       "    </tr>\n",
       "    <tr>\n",
       "      <th>2000-01-09</th>\n",
       "      <td>NaN</td>\n",
       "      <td>NaN</td>\n",
       "      <td>NaN</td>\n",
       "      <td>NaN</td>\n",
       "    </tr>\n",
       "    <tr>\n",
       "      <th>2000-01-10</th>\n",
       "      <td>NaN</td>\n",
       "      <td>NaN</td>\n",
       "      <td>NaN</td>\n",
       "      <td>NaN</td>\n",
       "    </tr>\n",
       "    <tr>\n",
       "      <th>2000-01-11</th>\n",
       "      <td>NaN</td>\n",
       "      <td>NaN</td>\n",
       "      <td>NaN</td>\n",
       "      <td>NaN</td>\n",
       "    </tr>\n",
       "    <tr>\n",
       "      <th>2000-01-12</th>\n",
       "      <td>-0.808983</td>\n",
       "      <td>-0.222305</td>\n",
       "      <td>1.143481</td>\n",
       "      <td>0.244324</td>\n",
       "    </tr>\n",
       "  </tbody>\n",
       "</table>\n",
       "</div>"
      ],
      "text/plain": [
       "            Colorado     Texas  New York      Ohio\n",
       "2000-01-05  0.871815  1.354279 -0.365203 -0.356152\n",
       "2000-01-06  0.871815  1.354279 -0.365203 -0.356152\n",
       "2000-01-07  0.871815  1.354279 -0.365203 -0.356152\n",
       "2000-01-08  0.871815  1.354279 -0.365203 -0.356152\n",
       "2000-01-09       NaN       NaN       NaN       NaN\n",
       "2000-01-10       NaN       NaN       NaN       NaN\n",
       "2000-01-11       NaN       NaN       NaN       NaN\n",
       "2000-01-12 -0.808983 -0.222305  1.143481  0.244324"
      ]
     },
     "execution_count": 57,
     "metadata": {},
     "output_type": "execute_result"
    }
   ],
   "source": [
    "frame.resample(\"D\").ffill(limit = 3)"
   ]
  },
  {
   "cell_type": "markdown",
   "id": "9b0377b3-5b0c-4694-bf8b-59cf78796dbd",
   "metadata": {},
   "source": [
    "We can have multiple time series in one dataframe"
   ]
  },
  {
   "cell_type": "code",
   "execution_count": 58,
   "id": "3304369b-d2e8-4879-a441-d41aed531560",
   "metadata": {
    "execution": {
     "iopub.execute_input": "2023-10-09T20:08:11.658387Z",
     "iopub.status.busy": "2023-10-09T20:08:11.658387Z",
     "iopub.status.idle": "2023-10-09T20:08:11.701396Z",
     "shell.execute_reply": "2023-10-09T20:08:11.699387Z",
     "shell.execute_reply.started": "2023-10-09T20:08:11.658387Z"
    },
    "tags": []
   },
   "outputs": [
    {
     "data": {
      "text/html": [
       "<div>\n",
       "<style scoped>\n",
       "    .dataframe tbody tr th:only-of-type {\n",
       "        vertical-align: middle;\n",
       "    }\n",
       "\n",
       "    .dataframe tbody tr th {\n",
       "        vertical-align: top;\n",
       "    }\n",
       "\n",
       "    .dataframe thead th {\n",
       "        text-align: right;\n",
       "    }\n",
       "</style>\n",
       "<table border=\"1\" class=\"dataframe\">\n",
       "  <thead>\n",
       "    <tr style=\"text-align: right;\">\n",
       "      <th></th>\n",
       "      <th>time</th>\n",
       "      <th>key</th>\n",
       "      <th>value</th>\n",
       "    </tr>\n",
       "  </thead>\n",
       "  <tbody>\n",
       "    <tr>\n",
       "      <th>0</th>\n",
       "      <td>2017-05-20 00:00:00</td>\n",
       "      <td>a</td>\n",
       "      <td>0.0</td>\n",
       "    </tr>\n",
       "    <tr>\n",
       "      <th>1</th>\n",
       "      <td>2017-05-20 00:00:00</td>\n",
       "      <td>b</td>\n",
       "      <td>1.0</td>\n",
       "    </tr>\n",
       "    <tr>\n",
       "      <th>2</th>\n",
       "      <td>2017-05-20 00:00:00</td>\n",
       "      <td>c</td>\n",
       "      <td>2.0</td>\n",
       "    </tr>\n",
       "    <tr>\n",
       "      <th>3</th>\n",
       "      <td>2017-05-20 00:01:00</td>\n",
       "      <td>a</td>\n",
       "      <td>3.0</td>\n",
       "    </tr>\n",
       "    <tr>\n",
       "      <th>4</th>\n",
       "      <td>2017-05-20 00:01:00</td>\n",
       "      <td>b</td>\n",
       "      <td>4.0</td>\n",
       "    </tr>\n",
       "    <tr>\n",
       "      <th>5</th>\n",
       "      <td>2017-05-20 00:01:00</td>\n",
       "      <td>c</td>\n",
       "      <td>5.0</td>\n",
       "    </tr>\n",
       "    <tr>\n",
       "      <th>6</th>\n",
       "      <td>2017-05-20 00:02:00</td>\n",
       "      <td>a</td>\n",
       "      <td>6.0</td>\n",
       "    </tr>\n",
       "    <tr>\n",
       "      <th>7</th>\n",
       "      <td>2017-05-20 00:02:00</td>\n",
       "      <td>b</td>\n",
       "      <td>7.0</td>\n",
       "    </tr>\n",
       "    <tr>\n",
       "      <th>8</th>\n",
       "      <td>2017-05-20 00:02:00</td>\n",
       "      <td>c</td>\n",
       "      <td>8.0</td>\n",
       "    </tr>\n",
       "    <tr>\n",
       "      <th>9</th>\n",
       "      <td>2017-05-20 00:03:00</td>\n",
       "      <td>a</td>\n",
       "      <td>9.0</td>\n",
       "    </tr>\n",
       "    <tr>\n",
       "      <th>10</th>\n",
       "      <td>2017-05-20 00:03:00</td>\n",
       "      <td>b</td>\n",
       "      <td>10.0</td>\n",
       "    </tr>\n",
       "    <tr>\n",
       "      <th>11</th>\n",
       "      <td>2017-05-20 00:03:00</td>\n",
       "      <td>c</td>\n",
       "      <td>11.0</td>\n",
       "    </tr>\n",
       "    <tr>\n",
       "      <th>12</th>\n",
       "      <td>2017-05-20 00:04:00</td>\n",
       "      <td>a</td>\n",
       "      <td>12.0</td>\n",
       "    </tr>\n",
       "    <tr>\n",
       "      <th>13</th>\n",
       "      <td>2017-05-20 00:04:00</td>\n",
       "      <td>b</td>\n",
       "      <td>13.0</td>\n",
       "    </tr>\n",
       "    <tr>\n",
       "      <th>14</th>\n",
       "      <td>2017-05-20 00:04:00</td>\n",
       "      <td>c</td>\n",
       "      <td>14.0</td>\n",
       "    </tr>\n",
       "    <tr>\n",
       "      <th>15</th>\n",
       "      <td>2017-05-20 00:05:00</td>\n",
       "      <td>a</td>\n",
       "      <td>15.0</td>\n",
       "    </tr>\n",
       "    <tr>\n",
       "      <th>16</th>\n",
       "      <td>2017-05-20 00:05:00</td>\n",
       "      <td>b</td>\n",
       "      <td>16.0</td>\n",
       "    </tr>\n",
       "    <tr>\n",
       "      <th>17</th>\n",
       "      <td>2017-05-20 00:05:00</td>\n",
       "      <td>c</td>\n",
       "      <td>17.0</td>\n",
       "    </tr>\n",
       "    <tr>\n",
       "      <th>18</th>\n",
       "      <td>2017-05-20 00:06:00</td>\n",
       "      <td>a</td>\n",
       "      <td>18.0</td>\n",
       "    </tr>\n",
       "    <tr>\n",
       "      <th>19</th>\n",
       "      <td>2017-05-20 00:06:00</td>\n",
       "      <td>b</td>\n",
       "      <td>19.0</td>\n",
       "    </tr>\n",
       "    <tr>\n",
       "      <th>20</th>\n",
       "      <td>2017-05-20 00:06:00</td>\n",
       "      <td>c</td>\n",
       "      <td>20.0</td>\n",
       "    </tr>\n",
       "  </tbody>\n",
       "</table>\n",
       "</div>"
      ],
      "text/plain": [
       "                  time key  value\n",
       "0  2017-05-20 00:00:00   a    0.0\n",
       "1  2017-05-20 00:00:00   b    1.0\n",
       "2  2017-05-20 00:00:00   c    2.0\n",
       "3  2017-05-20 00:01:00   a    3.0\n",
       "4  2017-05-20 00:01:00   b    4.0\n",
       "5  2017-05-20 00:01:00   c    5.0\n",
       "6  2017-05-20 00:02:00   a    6.0\n",
       "7  2017-05-20 00:02:00   b    7.0\n",
       "8  2017-05-20 00:02:00   c    8.0\n",
       "9  2017-05-20 00:03:00   a    9.0\n",
       "10 2017-05-20 00:03:00   b   10.0\n",
       "11 2017-05-20 00:03:00   c   11.0\n",
       "12 2017-05-20 00:04:00   a   12.0\n",
       "13 2017-05-20 00:04:00   b   13.0\n",
       "14 2017-05-20 00:04:00   c   14.0\n",
       "15 2017-05-20 00:05:00   a   15.0\n",
       "16 2017-05-20 00:05:00   b   16.0\n",
       "17 2017-05-20 00:05:00   c   17.0\n",
       "18 2017-05-20 00:06:00   a   18.0\n",
       "19 2017-05-20 00:06:00   b   19.0\n",
       "20 2017-05-20 00:06:00   c   20.0"
      ]
     },
     "execution_count": 58,
     "metadata": {},
     "output_type": "execute_result"
    }
   ],
   "source": [
    "times = pd.date_range(\"2017-05-20 00:00\", freq=\"1min\", periods=7)\n",
    "df = pd.DataFrame({\"time\": times.repeat(3),\n",
    "                    \"key\": np.tile([\"a\", \"b\", \"c\"], 7),\n",
    "                     \"value\": np.arange(7 * 3.)})\n",
    "df"
   ]
  },
  {
   "cell_type": "markdown",
   "id": "634e23ae-0d00-4718-8a80-d43512dbaefd",
   "metadata": {},
   "source": [
    "Let's use a Grouper object, to group the time series by the key column."
   ]
  },
  {
   "cell_type": "code",
   "execution_count": 59,
   "id": "4cf65479-0000-4896-89ca-1494d8e3899b",
   "metadata": {
    "execution": {
     "iopub.execute_input": "2023-10-09T20:08:11.706393Z",
     "iopub.status.busy": "2023-10-09T20:08:11.705390Z",
     "iopub.status.idle": "2023-10-09T20:08:11.732392Z",
     "shell.execute_reply": "2023-10-09T20:08:11.730431Z",
     "shell.execute_reply.started": "2023-10-09T20:08:11.706393Z"
    }
   },
   "outputs": [],
   "source": [
    "time_key = pd.Grouper(freq=\"5min\")"
   ]
  },
  {
   "cell_type": "code",
   "execution_count": 61,
   "id": "9fc6be56-cbdf-4c82-a861-42650c6f4ca9",
   "metadata": {
    "execution": {
     "iopub.execute_input": "2023-10-09T20:10:12.875345Z",
     "iopub.status.busy": "2023-10-09T20:10:12.875345Z",
     "iopub.status.idle": "2023-10-09T20:10:12.887343Z",
     "shell.execute_reply": "2023-10-09T20:10:12.886344Z",
     "shell.execute_reply.started": "2023-10-09T20:10:12.875345Z"
    },
    "tags": []
   },
   "outputs": [],
   "source": [
    "resampled = (df.set_index(\"time\").groupby([\"key\", time_key]).sum())"
   ]
  },
  {
   "cell_type": "code",
   "execution_count": 64,
   "id": "0fb45ab5-ca5a-4f05-b338-6e54d9934303",
   "metadata": {
    "execution": {
     "iopub.execute_input": "2023-10-09T20:10:50.507852Z",
     "iopub.status.busy": "2023-10-09T20:10:50.506823Z",
     "iopub.status.idle": "2023-10-09T20:10:50.525814Z",
     "shell.execute_reply": "2023-10-09T20:10:50.524812Z",
     "shell.execute_reply.started": "2023-10-09T20:10:50.507852Z"
    },
    "tags": []
   },
   "outputs": [
    {
     "data": {
      "text/html": [
       "<div>\n",
       "<style scoped>\n",
       "    .dataframe tbody tr th:only-of-type {\n",
       "        vertical-align: middle;\n",
       "    }\n",
       "\n",
       "    .dataframe tbody tr th {\n",
       "        vertical-align: top;\n",
       "    }\n",
       "\n",
       "    .dataframe thead th {\n",
       "        text-align: right;\n",
       "    }\n",
       "</style>\n",
       "<table border=\"1\" class=\"dataframe\">\n",
       "  <thead>\n",
       "    <tr style=\"text-align: right;\">\n",
       "      <th></th>\n",
       "      <th>key</th>\n",
       "      <th>time</th>\n",
       "      <th>value</th>\n",
       "    </tr>\n",
       "  </thead>\n",
       "  <tbody>\n",
       "    <tr>\n",
       "      <th>0</th>\n",
       "      <td>a</td>\n",
       "      <td>2017-05-20 00:00:00</td>\n",
       "      <td>30.0</td>\n",
       "    </tr>\n",
       "    <tr>\n",
       "      <th>1</th>\n",
       "      <td>a</td>\n",
       "      <td>2017-05-20 00:05:00</td>\n",
       "      <td>33.0</td>\n",
       "    </tr>\n",
       "    <tr>\n",
       "      <th>2</th>\n",
       "      <td>b</td>\n",
       "      <td>2017-05-20 00:00:00</td>\n",
       "      <td>35.0</td>\n",
       "    </tr>\n",
       "    <tr>\n",
       "      <th>3</th>\n",
       "      <td>b</td>\n",
       "      <td>2017-05-20 00:05:00</td>\n",
       "      <td>35.0</td>\n",
       "    </tr>\n",
       "    <tr>\n",
       "      <th>4</th>\n",
       "      <td>c</td>\n",
       "      <td>2017-05-20 00:00:00</td>\n",
       "      <td>40.0</td>\n",
       "    </tr>\n",
       "    <tr>\n",
       "      <th>5</th>\n",
       "      <td>c</td>\n",
       "      <td>2017-05-20 00:05:00</td>\n",
       "      <td>37.0</td>\n",
       "    </tr>\n",
       "  </tbody>\n",
       "</table>\n",
       "</div>"
      ],
      "text/plain": [
       "  key                time  value\n",
       "0   a 2017-05-20 00:00:00   30.0\n",
       "1   a 2017-05-20 00:05:00   33.0\n",
       "2   b 2017-05-20 00:00:00   35.0\n",
       "3   b 2017-05-20 00:05:00   35.0\n",
       "4   c 2017-05-20 00:00:00   40.0\n",
       "5   c 2017-05-20 00:05:00   37.0"
      ]
     },
     "execution_count": 64,
     "metadata": {},
     "output_type": "execute_result"
    }
   ],
   "source": [
    "resampled.reset_index()"
   ]
  },
  {
   "cell_type": "markdown",
   "id": "c9a82baf-846d-4160-8090-45cc1457484a",
   "metadata": {},
   "source": [
    "### Moving window functions"
   ]
  },
  {
   "cell_type": "markdown",
   "id": "da04e4a5-2d9c-4048-aaf4-8ee8db368870",
   "metadata": {},
   "source": [
    "Different types of statistics and functions are evaluated over a period of time. This period of time is called a window. \n",
    "\n",
    "With the movement of the period comes the term moving window."
   ]
  },
  {
   "cell_type": "code",
   "execution_count": 69,
   "id": "8bfeb870-9309-4d91-979f-bef232ce6533",
   "metadata": {
    "execution": {
     "iopub.execute_input": "2023-10-09T20:24:40.465446Z",
     "iopub.status.busy": "2023-10-09T20:24:40.464446Z",
     "iopub.status.idle": "2023-10-09T20:24:40.494446Z",
     "shell.execute_reply": "2023-10-09T20:24:40.493481Z",
     "shell.execute_reply.started": "2023-10-09T20:24:40.465446Z"
    },
    "tags": []
   },
   "outputs": [],
   "source": [
    "dataset = pd.read_csv(\"data/MARUTI.csv\")"
   ]
  },
  {
   "cell_type": "code",
   "execution_count": 79,
   "id": "d829ce39-2687-4d5e-8ec6-165987feef08",
   "metadata": {
    "execution": {
     "iopub.execute_input": "2023-10-09T20:30:00.287497Z",
     "iopub.status.busy": "2023-10-09T20:30:00.287497Z",
     "iopub.status.idle": "2023-10-09T20:30:00.402494Z",
     "shell.execute_reply": "2023-10-09T20:30:00.401496Z",
     "shell.execute_reply.started": "2023-10-09T20:30:00.287497Z"
    },
    "tags": []
   },
   "outputs": [],
   "source": [
    "dataset = dataset.set_index(pd.to_datetime(dataset[\"Date\"]))\n",
    "dataset.drop_duplicates(inplace = True)\n",
    "b_day_dataset = dataset.resample(\"B\").ffill()"
   ]
  },
  {
   "cell_type": "markdown",
   "id": "01831df1-1981-43ad-b7ff-aaf581957633",
   "metadata": {},
   "source": [
    "The rolling operator creates a window from the specified days and help us smooth out the curve."
   ]
  },
  {
   "cell_type": "markdown",
   "id": "842b636f-428f-4f80-a31f-d51a34372fb2",
   "metadata": {},
   "source": [
    "Rolling functions require all of the values in the window to be non-NA."
   ]
  },
  {
   "cell_type": "code",
   "execution_count": 98,
   "id": "d74a6639-c8ed-4e14-8411-2a0bd832698c",
   "metadata": {
    "execution": {
     "iopub.execute_input": "2023-10-09T20:46:13.131266Z",
     "iopub.status.busy": "2023-10-09T20:46:13.130265Z",
     "iopub.status.idle": "2023-10-09T20:46:13.520260Z",
     "shell.execute_reply": "2023-10-09T20:46:13.518305Z",
     "shell.execute_reply.started": "2023-10-09T20:46:13.131266Z"
    },
    "tags": []
   },
   "outputs": [
    {
     "data": {
      "image/png": "[encoded data removed]",
      "text/plain": [
       "<Figure size 640x480 with 1 Axes>"
      ]
     },
     "metadata": {},
     "output_type": "display_data"
    }
   ],
   "source": [
    "b_day_dataset[\"VWAP\"].plot()\n",
    "rolling = b_day_dataset[\"VWAP\"].rolling(250).mean()\n",
    "ewm_rolling = b_day_dataset[\"VWAP\"].ewm(span = 250).mean()\n",
    "\n",
    "rolling.plot(style=\"k--\", label=\"Simple Moving Avg\")\n",
    "ewm_rolling.plot(style=\"k-\", label = \"EW Moving Avg\")\n",
    "plt.legend()\n",
    "plt.show()"
   ]
  },
  {
   "cell_type": "code",
   "execution_count": null,
   "id": "8e7a7535-83ff-4561-82f5-69a9a278f9e5",
   "metadata": {},
   "outputs": [],
   "source": []
  }
 ],
 "metadata": {
  "kernelspec": {
   "display_name": "Python 3",
   "language": "python",
   "name": "python3"
  },
  "language_info": {
   "codemirror_mode": {
    "name": "ipython",
    "version": 3
   },
   "file_extension": ".py",
   "mimetype": "text/x-python",
   "name": "python",
   "nbconvert_exporter": "python",
   "pygments_lexer": "ipython3",
   "version": "3.9.13"
  }
 },
 "nbformat": 4,
 "nbformat_minor": 5
}
